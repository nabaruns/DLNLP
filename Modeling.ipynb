{
 "cells": [
  {
   "cell_type": "code",
   "execution_count": 1,
   "metadata": {
    "colab": {
     "base_uri": "https://localhost:8080/",
     "height": 72
    },
    "colab_type": "code",
    "id": "SJ-R3ooz_iOJ",
    "outputId": "98115fdb-6226-402d-8b7e-8b59bfadb3c5"
   },
   "outputs": [],
   "source": [
    "import pandas as pd\n",
    "import numpy as np\n",
    "import seaborn as sns\n",
    "import matplotlib.pyplot as plt\n",
    "import nltk\n",
    "import sklearn\n",
    "from sklearn import metrics\n",
    "import seaborn as sns\n",
    "from sklearn.metrics import mean_squared_error"
   ]
  },
  {
   "cell_type": "code",
   "execution_count": 2,
   "metadata": {
    "colab": {},
    "colab_type": "code",
    "id": "cU5BcOXW2S8V"
   },
   "outputs": [],
   "source": [
    "import torch\n",
    "device = torch.device(\"cuda\") #set pytorch to be used on GPU"
   ]
  },
  {
   "cell_type": "code",
   "execution_count": 3,
   "metadata": {},
   "outputs": [
    {
     "name": "stdout",
     "output_type": "stream",
     "text": [
      "1.7.1\n"
     ]
    }
   ],
   "source": [
    "print(torch.__version__)"
   ]
  },
  {
   "cell_type": "code",
   "execution_count": 4,
   "metadata": {
    "colab": {},
    "colab_type": "code",
    "id": "a0NDg6cule-R"
   },
   "outputs": [],
   "source": [
    "import transformers"
   ]
  },
  {
   "cell_type": "code",
   "execution_count": 5,
   "metadata": {
    "colab": {
     "base_uri": "https://localhost:8080/",
     "height": 124
    },
    "colab_type": "code",
    "id": "2kAbDH75o3dI",
    "outputId": "c361dee9-3879-4dce-fb49-da0d6baf4c46"
   },
   "outputs": [],
   "source": [
    "import os\n",
    "# from google.colab import drive\n",
    "\n",
    "# Mount google drive\n",
    "DRIVE_MOUNT='./'\n",
    "# drive.mount(DRIVE_MOUNT)\n",
    "\n",
    "# create folder to write data to\n",
    "DLNLP_FOLDER=os.path.join(DRIVE_MOUNT, 'My Drive', 'DLNLP_2020')\n",
    "HOMEWORK_FOLDER=os.path.join(DLNLP_FOLDER, 'Project')\n",
    "os.makedirs(HOMEWORK_FOLDER, exist_ok=True)"
   ]
  },
  {
   "cell_type": "code",
   "execution_count": 6,
   "metadata": {
    "colab": {},
    "colab_type": "code",
    "id": "I6Z77Z2Jo37b"
   },
   "outputs": [],
   "source": [
    "x_train = pd.read_csv(HOMEWORK_FOLDER+'/training_data.csv')\n",
    "x_test = pd.read_csv(HOMEWORK_FOLDER+'/testing_data.csv')\n",
    "y_train = pd.read_csv(HOMEWORK_FOLDER+'/train_labels.csv')\n",
    "y_test = pd.read_csv(HOMEWORK_FOLDER+'/test_labels.csv')"
   ]
  },
  {
   "cell_type": "code",
   "execution_count": 7,
   "metadata": {
    "colab": {},
    "colab_type": "code",
    "id": "ZcyjEsEstPaH"
   },
   "outputs": [],
   "source": [
    "x_train.drop(columns=['Unnamed: 0'], inplace = True)\n",
    "x_test.drop(columns=['Unnamed: 0'], inplace = True)\n",
    "y_train.drop(columns=['Unnamed: 0'], inplace = True)\n",
    "y_test.drop(columns=['Unnamed: 0'], inplace = True)"
   ]
  },
  {
   "cell_type": "code",
   "execution_count": 8,
   "metadata": {
    "colab": {},
    "colab_type": "code",
    "id": "vCVIqBqh3ivU"
   },
   "outputs": [],
   "source": [
    "fake = pd.read_csv(HOMEWORK_FOLDER+'/fakeForModeling.csv')\n",
    "true = pd.read_csv(HOMEWORK_FOLDER+'/trueForModeling.csv')"
   ]
  },
  {
   "cell_type": "code",
   "execution_count": 9,
   "metadata": {
    "colab": {},
    "colab_type": "code",
    "id": "Z5wX1Nir_HbJ"
   },
   "outputs": [],
   "source": [
    "fake.drop(columns=['Unnamed: 0'], inplace = True)\n",
    "true.drop(columns=['Unnamed: 0'], inplace = True)"
   ]
  },
  {
   "cell_type": "markdown",
   "metadata": {
    "colab_type": "text",
    "id": "srnkYN3XtBG7"
   },
   "source": [
    "# Binomial Logistic Regression"
   ]
  },
  {
   "cell_type": "code",
   "execution_count": 10,
   "metadata": {
    "colab": {
     "base_uri": "https://localhost:8080/",
     "height": 104
    },
    "colab_type": "code",
    "id": "pv31pm4A5EUg",
    "outputId": "3f309499-da63-4578-9216-716c66327622"
   },
   "outputs": [
    {
     "data": {
      "text/plain": [
       "LogisticRegression()"
      ]
     },
     "execution_count": 10,
     "metadata": {},
     "output_type": "execute_result"
    }
   ],
   "source": [
    "from sklearn.linear_model import LogisticRegression\n",
    "\n",
    "# 2. instantiate a logistic regression model\n",
    "lr = LogisticRegression()\n",
    "\n",
    "lr.fit(x_train, np.ravel(y_train))"
   ]
  },
  {
   "cell_type": "code",
   "execution_count": 11,
   "metadata": {
    "colab": {},
    "colab_type": "code",
    "id": "XcFX6fyQ5JiI"
   },
   "outputs": [],
   "source": [
    "y_pred_lr = lr.predict(x_test)"
   ]
  },
  {
   "cell_type": "code",
   "execution_count": 12,
   "metadata": {
    "colab": {
     "base_uri": "https://localhost:8080/",
     "height": 52
    },
    "colab_type": "code",
    "id": "8DYiAdLT5P6Z",
    "outputId": "51e4dc23-a6ca-494f-c0c7-d99676cfcac3"
   },
   "outputs": [
    {
     "name": "stdout",
     "output_type": "stream",
     "text": [
      "Accuracy is:  0.8973170994504902\n",
      "Mean Squared Error is: 0.32044172722900766\n"
     ]
    }
   ],
   "source": [
    "print (\"Accuracy is: \", metrics.accuracy_score(y_test, y_pred_lr))\n",
    "print(\"Mean Squared Error is:\", np.sqrt(mean_squared_error(y_test, y_pred_lr)))"
   ]
  },
  {
   "cell_type": "code",
   "execution_count": 13,
   "metadata": {
    "colab": {
     "base_uri": "https://localhost:8080/",
     "height": 52
    },
    "colab_type": "code",
    "id": "j4s3g8e6A0Fc",
    "outputId": "3053ed46-e645-4671-b84e-ad227bfb90f3"
   },
   "outputs": [
    {
     "name": "stdout",
     "output_type": "stream",
     "text": [
      "[[3984  501]\n",
      " [ 452 4344]]\n"
     ]
    }
   ],
   "source": [
    "lr_cm = metrics.confusion_matrix(y_test, y_pred_lr)\n",
    "print (lr_cm)"
   ]
  },
  {
   "cell_type": "code",
   "execution_count": 15,
   "metadata": {
    "colab": {
     "base_uri": "https://localhost:8080/",
     "height": 265
    },
    "colab_type": "code",
    "id": "HdtfsVL0B6Ef",
    "outputId": "da67dae6-8b5a-433a-f40a-bc5583b4b7a9"
   },
   "outputs": [
    {
     "data": {
      "image/png": "[encoded data removed]",
      "text/plain": [
       "<Figure size 432x288 with 2 Axes>"
      ]
     },
     "metadata": {
      "needs_background": "light"
     },
     "output_type": "display_data"
    }
   ],
   "source": [
    "labels = np.array(lr_cm)\n",
    "sns.heatmap(lr_cm, annot=labels, fmt = '')\n",
    "plt.show()"
   ]
  },
  {
   "cell_type": "code",
   "execution_count": 16,
   "metadata": {
    "colab": {
     "base_uri": "https://localhost:8080/",
     "height": 173
    },
    "colab_type": "code",
    "id": "w2IIbRmpk6Nm",
    "outputId": "f9a1198a-26c8-453b-b73d-bc7400744e02"
   },
   "outputs": [
    {
     "name": "stdout",
     "output_type": "stream",
     "text": [
      "              precision    recall  f1-score   support\n",
      "\n",
      "           0       0.90      0.89      0.89      4485\n",
      "           1       0.90      0.91      0.90      4796\n",
      "\n",
      "    accuracy                           0.90      9281\n",
      "   macro avg       0.90      0.90      0.90      9281\n",
      "weighted avg       0.90      0.90      0.90      9281\n",
      "\n"
     ]
    }
   ],
   "source": [
    "print(metrics.classification_report(y_test, y_pred_lr))"
   ]
  },
  {
   "cell_type": "code",
   "execution_count": 17,
   "metadata": {
    "colab": {},
    "colab_type": "code",
    "id": "9CY7X2FnCTdn"
   },
   "outputs": [],
   "source": [
    "# Calculate predicted probabilities for test data \n",
    "y_pred_prob_lr = lr.predict_proba(x_test)[:, 1]"
   ]
  },
  {
   "cell_type": "code",
   "execution_count": 18,
   "metadata": {
    "colab": {
     "base_uri": "https://localhost:8080/",
     "height": 35
    },
    "colab_type": "code",
    "id": "Fz7AE2gP5bFE",
    "outputId": "f2b14c73-08b5-4aee-b738-35e062f4c8ff"
   },
   "outputs": [
    {
     "data": {
      "text/plain": [
       "0.9547588895614425"
      ]
     },
     "execution_count": 18,
     "metadata": {},
     "output_type": "execute_result"
    }
   ],
   "source": [
    "metrics.roc_auc_score(y_test, y_pred_prob_lr)"
   ]
  },
  {
   "cell_type": "markdown",
   "metadata": {
    "colab_type": "text",
    "id": "0ZPB0nmx_nzT"
   },
   "source": [
    "# Naive Bayes"
   ]
  },
  {
   "cell_type": "code",
   "execution_count": 19,
   "metadata": {
    "colab": {
     "base_uri": "https://localhost:8080/",
     "height": 69
    },
    "colab_type": "code",
    "id": "N0fdHCwj_qsi",
    "outputId": "4c8d2a2f-89b2-4fa6-c0b6-93acd8316c2e"
   },
   "outputs": [
    {
     "name": "stdout",
     "output_type": "stream",
     "text": [
      "CPU times: user 56.4 ms, sys: 6.53 ms, total: 62.9 ms\n",
      "Wall time: 31.4 ms\n"
     ]
    },
    {
     "data": {
      "text/plain": [
       "MultinomialNB()"
      ]
     },
     "execution_count": 19,
     "metadata": {},
     "output_type": "execute_result"
    }
   ],
   "source": [
    "from nltk import classify\n",
    "from nltk import NaiveBayesClassifier\n",
    "from sklearn.naive_bayes import MultinomialNB\n",
    "\n",
    "nb = MultinomialNB()# one of the two classic naive Bayes variants used in text classification\n",
    "\n",
    "%time nb.fit(x_train, np.ravel(y_train))"
   ]
  },
  {
   "cell_type": "code",
   "execution_count": 20,
   "metadata": {
    "colab": {},
    "colab_type": "code",
    "id": "YU82695MNHjV"
   },
   "outputs": [],
   "source": [
    "y_pred_class = nb.predict(x_test)"
   ]
  },
  {
   "cell_type": "code",
   "execution_count": 21,
   "metadata": {
    "colab": {
     "base_uri": "https://localhost:8080/",
     "height": 52
    },
    "colab_type": "code",
    "id": "KHOh_T8MCX8t",
    "outputId": "a7d07552-b40f-449b-c5c9-459db655ceeb"
   },
   "outputs": [
    {
     "name": "stdout",
     "output_type": "stream",
     "text": [
      "Accuracy is: 0.8684409007650038\n",
      "Mean Squared Error is: 0.3627107652593127\n"
     ]
    }
   ],
   "source": [
    "print(\"Accuracy is:\", metrics.accuracy_score(y_test, y_pred_class))\n",
    "print(\"Mean Squared Error is:\", np.sqrt(mean_squared_error(y_test, y_pred_class)))"
   ]
  },
  {
   "cell_type": "code",
   "execution_count": 22,
   "metadata": {
    "colab": {
     "base_uri": "https://localhost:8080/",
     "height": 52
    },
    "colab_type": "code",
    "id": "5Y5GcLuCNPQK",
    "outputId": "e24172fb-3223-4bae-ec78-bf646ef1397b"
   },
   "outputs": [
    {
     "name": "stdout",
     "output_type": "stream",
     "text": [
      "[[3872  613]\n",
      " [ 608 4188]]\n"
     ]
    }
   ],
   "source": [
    "nb_cm = metrics.confusion_matrix(y_test, y_pred_class)\n",
    "print(nb_cm)"
   ]
  },
  {
   "cell_type": "code",
   "execution_count": 23,
   "metadata": {
    "colab": {
     "base_uri": "https://localhost:8080/",
     "height": 265
    },
    "colab_type": "code",
    "id": "5-_gA6i4CjX0",
    "outputId": "81a44919-343c-4134-d2f2-57581c4705d3"
   },
   "outputs": [
    {
     "data": {
      "image/png": "[encoded data removed]",
      "text/plain": [
       "<Figure size 432x288 with 2 Axes>"
      ]
     },
     "metadata": {
      "needs_background": "light"
     },
     "output_type": "display_data"
    }
   ],
   "source": [
    "labels =  np.array(nb_cm)\n",
    "sns.heatmap(nb_cm, annot=labels, fmt = '')\n",
    "plt.show()"
   ]
  },
  {
   "cell_type": "code",
   "execution_count": 24,
   "metadata": {
    "colab": {
     "base_uri": "https://localhost:8080/",
     "height": 173
    },
    "colab_type": "code",
    "id": "01Z_Wcs_kvND",
    "outputId": "3618dc1f-2c85-497d-e8b3-6b7bfe799d3d"
   },
   "outputs": [
    {
     "name": "stdout",
     "output_type": "stream",
     "text": [
      "              precision    recall  f1-score   support\n",
      "\n",
      "           0       0.86      0.86      0.86      4485\n",
      "           1       0.87      0.87      0.87      4796\n",
      "\n",
      "    accuracy                           0.87      9281\n",
      "   macro avg       0.87      0.87      0.87      9281\n",
      "weighted avg       0.87      0.87      0.87      9281\n",
      "\n"
     ]
    }
   ],
   "source": [
    "print(metrics.classification_report(y_test, y_pred_class))"
   ]
  },
  {
   "cell_type": "code",
   "execution_count": 25,
   "metadata": {
    "colab": {},
    "colab_type": "code",
    "id": "xL-5v2B65jkB"
   },
   "outputs": [],
   "source": [
    "# Calculate predicted probabilities for test data \n",
    "y_pred_prob_nb = nb.predict_proba(x_test)[:, 1]"
   ]
  },
  {
   "cell_type": "code",
   "execution_count": 26,
   "metadata": {
    "colab": {
     "base_uri": "https://localhost:8080/",
     "height": 35
    },
    "colab_type": "code",
    "id": "_SjyxT3O5nFy",
    "outputId": "f84f5098-ea4d-4945-b823-a326e5b0f4f0"
   },
   "outputs": [
    {
     "data": {
      "text/plain": [
       "0.9333181776340931"
      ]
     },
     "execution_count": 26,
     "metadata": {},
     "output_type": "execute_result"
    }
   ],
   "source": [
    "metrics.roc_auc_score(y_test, y_pred_prob_nb)"
   ]
  },
  {
   "cell_type": "code",
   "execution_count": 27,
   "metadata": {
    "colab": {},
    "colab_type": "code",
    "id": "HsZQ4C1B3B2r"
   },
   "outputs": [],
   "source": [
    "#Number of times token appears in each True article\n",
    "true_token = nb.feature_count_[0, :]\n",
    "\n",
    "#Number of times token appears in each Fake article\n",
    "fake_token = nb.feature_count_[1, :]"
   ]
  },
  {
   "cell_type": "code",
   "execution_count": 28,
   "metadata": {
    "colab": {
     "base_uri": "https://localhost:8080/",
     "height": 228
    },
    "colab_type": "code",
    "id": "nHp9b7239CYJ",
    "outputId": "e45c04ad-bfa0-4a46-85c9-d4dc82e9772c"
   },
   "outputs": [
    {
     "data": {
      "text/html": [
       "<div>\n",
       "<style scoped>\n",
       "    .dataframe tbody tr th:only-of-type {\n",
       "        vertical-align: middle;\n",
       "    }\n",
       "\n",
       "    .dataframe tbody tr th {\n",
       "        vertical-align: top;\n",
       "    }\n",
       "\n",
       "    .dataframe thead th {\n",
       "        text-align: right;\n",
       "    }\n",
       "</style>\n",
       "<table border=\"1\" class=\"dataframe\">\n",
       "  <thead>\n",
       "    <tr style=\"text-align: right;\">\n",
       "      <th></th>\n",
       "      <th>true</th>\n",
       "      <th>fake</th>\n",
       "    </tr>\n",
       "    <tr>\n",
       "      <th>token</th>\n",
       "      <th></th>\n",
       "      <th></th>\n",
       "    </tr>\n",
       "  </thead>\n",
       "  <tbody>\n",
       "    <tr>\n",
       "      <th>according</th>\n",
       "      <td>384.828061</td>\n",
       "      <td>394.890371</td>\n",
       "    </tr>\n",
       "    <tr>\n",
       "      <th>act</th>\n",
       "      <td>218.300525</td>\n",
       "      <td>275.816121</td>\n",
       "    </tr>\n",
       "    <tr>\n",
       "      <th>action</th>\n",
       "      <td>286.925843</td>\n",
       "      <td>277.689188</td>\n",
       "    </tr>\n",
       "    <tr>\n",
       "      <th>added</th>\n",
       "      <td>318.648536</td>\n",
       "      <td>161.806045</td>\n",
       "    </tr>\n",
       "    <tr>\n",
       "      <th>administration</th>\n",
       "      <td>500.333563</td>\n",
       "      <td>363.236312</td>\n",
       "    </tr>\n",
       "  </tbody>\n",
       "</table>\n",
       "</div>"
      ],
      "text/plain": [
       "                      true        fake\n",
       "token                                 \n",
       "according       384.828061  394.890371\n",
       "act             218.300525  275.816121\n",
       "action          286.925843  277.689188\n",
       "added           318.648536  161.806045\n",
       "administration  500.333563  363.236312"
      ]
     },
     "execution_count": 28,
     "metadata": {},
     "output_type": "execute_result"
    }
   ],
   "source": [
    "tokens = pd.DataFrame({'token':x_train.columns, 'true':true_token, 'fake':fake_token}).set_index('token')\n",
    "tokens.head()"
   ]
  },
  {
   "cell_type": "code",
   "execution_count": 29,
   "metadata": {
    "colab": {},
    "colab_type": "code",
    "id": "lDS8pCQM9dvf"
   },
   "outputs": [],
   "source": [
    "# add 1 to true and fake counts to avoid dividing by 0\n",
    "tokens['true'] = tokens.true + 1\n",
    "tokens['fake'] = tokens.fake + 1"
   ]
  },
  {
   "cell_type": "code",
   "execution_count": 30,
   "metadata": {
    "colab": {},
    "colab_type": "code",
    "id": "S-KObV8Y9huu"
   },
   "outputs": [],
   "source": [
    "# convert the true and fake counts into frequencies\n",
    "tokens['true'] = tokens.true / nb.class_count_[0]\n",
    "tokens['fake'] = tokens.fake / nb.class_count_[1]"
   ]
  },
  {
   "cell_type": "code",
   "execution_count": 31,
   "metadata": {
    "colab": {
     "base_uri": "https://localhost:8080/",
     "height": 378
    },
    "colab_type": "code",
    "id": "r62ygt3A9rLq",
    "outputId": "2536e16a-b829-4188-f567-cd36347f2b41"
   },
   "outputs": [
    {
     "data": {
      "text/html": [
       "<div>\n",
       "<style scoped>\n",
       "    .dataframe tbody tr th:only-of-type {\n",
       "        vertical-align: middle;\n",
       "    }\n",
       "\n",
       "    .dataframe tbody tr th {\n",
       "        vertical-align: top;\n",
       "    }\n",
       "\n",
       "    .dataframe thead th {\n",
       "        text-align: right;\n",
       "    }\n",
       "</style>\n",
       "<table border=\"1\" class=\"dataframe\">\n",
       "  <thead>\n",
       "    <tr style=\"text-align: right;\">\n",
       "      <th></th>\n",
       "      <th>true</th>\n",
       "      <th>fake</th>\n",
       "      <th>fake/true ratio</th>\n",
       "    </tr>\n",
       "    <tr>\n",
       "      <th>token</th>\n",
       "      <th></th>\n",
       "      <th></th>\n",
       "      <th></th>\n",
       "    </tr>\n",
       "  </thead>\n",
       "  <tbody>\n",
       "    <tr>\n",
       "      <th>video</th>\n",
       "      <td>0.005443</td>\n",
       "      <td>0.039229</td>\n",
       "      <td>7.207080</td>\n",
       "    </tr>\n",
       "    <tr>\n",
       "      <th>fact</th>\n",
       "      <td>0.004219</td>\n",
       "      <td>0.025490</td>\n",
       "      <td>6.041735</td>\n",
       "    </tr>\n",
       "    <tr>\n",
       "      <th>hillary</th>\n",
       "      <td>0.008842</td>\n",
       "      <td>0.048001</td>\n",
       "      <td>5.428504</td>\n",
       "    </tr>\n",
       "    <tr>\n",
       "      <th>really</th>\n",
       "      <td>0.004868</td>\n",
       "      <td>0.025361</td>\n",
       "      <td>5.209811</td>\n",
       "    </tr>\n",
       "    <tr>\n",
       "      <th>know</th>\n",
       "      <td>0.008278</td>\n",
       "      <td>0.038964</td>\n",
       "      <td>4.706908</td>\n",
       "    </tr>\n",
       "    <tr>\n",
       "      <th>got</th>\n",
       "      <td>0.004612</td>\n",
       "      <td>0.021311</td>\n",
       "      <td>4.620883</td>\n",
       "    </tr>\n",
       "    <tr>\n",
       "      <th>america</th>\n",
       "      <td>0.008377</td>\n",
       "      <td>0.037259</td>\n",
       "      <td>4.447839</td>\n",
       "    </tr>\n",
       "    <tr>\n",
       "      <th>story</th>\n",
       "      <td>0.005401</td>\n",
       "      <td>0.022906</td>\n",
       "      <td>4.240710</td>\n",
       "    </tr>\n",
       "    <tr>\n",
       "      <th>went</th>\n",
       "      <td>0.004650</td>\n",
       "      <td>0.019021</td>\n",
       "      <td>4.090358</td>\n",
       "    </tr>\n",
       "    <tr>\n",
       "      <th>thing</th>\n",
       "      <td>0.007934</td>\n",
       "      <td>0.031024</td>\n",
       "      <td>3.910071</td>\n",
       "    </tr>\n",
       "  </tbody>\n",
       "</table>\n",
       "</div>"
      ],
      "text/plain": [
       "             true      fake  fake/true ratio\n",
       "token                                       \n",
       "video    0.005443  0.039229         7.207080\n",
       "fact     0.004219  0.025490         6.041735\n",
       "hillary  0.008842  0.048001         5.428504\n",
       "really   0.004868  0.025361         5.209811\n",
       "know     0.008278  0.038964         4.706908\n",
       "got      0.004612  0.021311         4.620883\n",
       "america  0.008377  0.037259         4.447839\n",
       "story    0.005401  0.022906         4.240710\n",
       "went     0.004650  0.019021         4.090358\n",
       "thing    0.007934  0.031024         3.910071"
      ]
     },
     "execution_count": 31,
     "metadata": {},
     "output_type": "execute_result"
    }
   ],
   "source": [
    "# calculate the ratio of fake to true for each token\n",
    "tokens['fake/true ratio'] = tokens.fake / tokens.true\n",
    "tokens.sort_values('fake/true ratio', ascending=False).head(10)"
   ]
  },
  {
   "cell_type": "code",
   "execution_count": 32,
   "metadata": {
    "colab": {
     "base_uri": "https://localhost:8080/",
     "height": 378
    },
    "colab_type": "code",
    "id": "phoTGMVpxZlw",
    "outputId": "9807f2e3-f766-4222-ea3d-54fba35d54aa"
   },
   "outputs": [
    {
     "data": {
      "text/html": [
       "<div>\n",
       "<style scoped>\n",
       "    .dataframe tbody tr th:only-of-type {\n",
       "        vertical-align: middle;\n",
       "    }\n",
       "\n",
       "    .dataframe tbody tr th {\n",
       "        vertical-align: top;\n",
       "    }\n",
       "\n",
       "    .dataframe thead th {\n",
       "        text-align: right;\n",
       "    }\n",
       "</style>\n",
       "<table border=\"1\" class=\"dataframe\">\n",
       "  <thead>\n",
       "    <tr style=\"text-align: right;\">\n",
       "      <th></th>\n",
       "      <th>true</th>\n",
       "      <th>fake</th>\n",
       "      <th>fake/true ratio</th>\n",
       "    </tr>\n",
       "    <tr>\n",
       "      <th>token</th>\n",
       "      <th></th>\n",
       "      <th></th>\n",
       "      <th></th>\n",
       "    </tr>\n",
       "  </thead>\n",
       "  <tbody>\n",
       "    <tr>\n",
       "      <th>minister</th>\n",
       "      <td>0.049920</td>\n",
       "      <td>0.004316</td>\n",
       "      <td>0.086464</td>\n",
       "    </tr>\n",
       "    <tr>\n",
       "      <th>thursday</th>\n",
       "      <td>0.038360</td>\n",
       "      <td>0.008121</td>\n",
       "      <td>0.211694</td>\n",
       "    </tr>\n",
       "    <tr>\n",
       "      <th>wednesday</th>\n",
       "      <td>0.039308</td>\n",
       "      <td>0.008558</td>\n",
       "      <td>0.217713</td>\n",
       "    </tr>\n",
       "    <tr>\n",
       "      <th>tuesday</th>\n",
       "      <td>0.036958</td>\n",
       "      <td>0.008887</td>\n",
       "      <td>0.240460</td>\n",
       "    </tr>\n",
       "    <tr>\n",
       "      <th>friday</th>\n",
       "      <td>0.036311</td>\n",
       "      <td>0.009290</td>\n",
       "      <td>0.255835</td>\n",
       "    </tr>\n",
       "    <tr>\n",
       "      <th>monday</th>\n",
       "      <td>0.034645</td>\n",
       "      <td>0.009239</td>\n",
       "      <td>0.266672</td>\n",
       "    </tr>\n",
       "    <tr>\n",
       "      <th>foreign</th>\n",
       "      <td>0.035192</td>\n",
       "      <td>0.010620</td>\n",
       "      <td>0.301766</td>\n",
       "    </tr>\n",
       "    <tr>\n",
       "      <th>international</th>\n",
       "      <td>0.023630</td>\n",
       "      <td>0.007198</td>\n",
       "      <td>0.304605</td>\n",
       "    </tr>\n",
       "    <tr>\n",
       "      <th>military</th>\n",
       "      <td>0.036157</td>\n",
       "      <td>0.012109</td>\n",
       "      <td>0.334903</td>\n",
       "    </tr>\n",
       "    <tr>\n",
       "      <th>force</th>\n",
       "      <td>0.031469</td>\n",
       "      <td>0.011112</td>\n",
       "      <td>0.353092</td>\n",
       "    </tr>\n",
       "  </tbody>\n",
       "</table>\n",
       "</div>"
      ],
      "text/plain": [
       "                   true      fake  fake/true ratio\n",
       "token                                             \n",
       "minister       0.049920  0.004316         0.086464\n",
       "thursday       0.038360  0.008121         0.211694\n",
       "wednesday      0.039308  0.008558         0.217713\n",
       "tuesday        0.036958  0.008887         0.240460\n",
       "friday         0.036311  0.009290         0.255835\n",
       "monday         0.034645  0.009239         0.266672\n",
       "foreign        0.035192  0.010620         0.301766\n",
       "international  0.023630  0.007198         0.304605\n",
       "military       0.036157  0.012109         0.334903\n",
       "force          0.031469  0.011112         0.353092"
      ]
     },
     "execution_count": 32,
     "metadata": {},
     "output_type": "execute_result"
    }
   ],
   "source": [
    "tokens.sort_values('fake/true ratio', ascending=True).head(10)"
   ]
  },
  {
   "cell_type": "markdown",
   "metadata": {
    "colab_type": "text",
    "id": "1KrfWuvMs8dP"
   },
   "source": [
    "# Support Vector Machines"
   ]
  },
  {
   "cell_type": "code",
   "execution_count": 33,
   "metadata": {
    "colab": {
     "base_uri": "https://localhost:8080/",
     "height": 86
    },
    "colab_type": "code",
    "id": "ycDtArtw1bhG",
    "outputId": "9683fc1c-8197-4867-e69d-a5931db7bc27"
   },
   "outputs": [
    {
     "data": {
      "text/plain": [
       "SVC(kernel='linear', random_state=1)"
      ]
     },
     "execution_count": 33,
     "metadata": {},
     "output_type": "execute_result"
    }
   ],
   "source": [
    "from sklearn.svm import SVC\n",
    "\n",
    "#Linear kernel fits decently well, decided not to use another kernel because of parsimony \n",
    "#and because linear has the lowest risk of overfitting\n",
    "svc = SVC(kernel='linear', random_state=1) \n",
    "svc.fit(x_train, np.ravel(y_train))"
   ]
  },
  {
   "cell_type": "code",
   "execution_count": 34,
   "metadata": {
    "colab": {},
    "colab_type": "code",
    "id": "i470dNxu1ZTM"
   },
   "outputs": [],
   "source": [
    "y_pred_svm = svc.predict(x_test)"
   ]
  },
  {
   "cell_type": "code",
   "execution_count": 35,
   "metadata": {
    "colab": {
     "base_uri": "https://localhost:8080/",
     "height": 207
    },
    "colab_type": "code",
    "id": "1hIwOCcr6y_9",
    "outputId": "9c492288-38f9-454b-da52-50d02b19e778"
   },
   "outputs": [
    {
     "name": "stdout",
     "output_type": "stream",
     "text": [
      "Accuracy is: 0.8979635815106131\n",
      "Mean Squared Error is: 0.3194313987218334\n",
      "              precision    recall  f1-score   support\n",
      "\n",
      "           0       0.90      0.89      0.89      4485\n",
      "           1       0.90      0.91      0.90      4796\n",
      "\n",
      "    accuracy                           0.90      9281\n",
      "   macro avg       0.90      0.90      0.90      9281\n",
      "weighted avg       0.90      0.90      0.90      9281\n",
      "\n"
     ]
    }
   ],
   "source": [
    "print(\"Accuracy is:\", metrics.accuracy_score(y_test, y_pred_svm))\n",
    "print(\"Mean Squared Error is:\", np.sqrt(mean_squared_error(y_test, y_pred_svm)))\n",
    "print(metrics.classification_report(y_test, y_pred_svm))"
   ]
  },
  {
   "cell_type": "code",
   "execution_count": 36,
   "metadata": {
    "colab": {
     "base_uri": "https://localhost:8080/",
     "height": 52
    },
    "colab_type": "code",
    "id": "cAVX3Kdo1jVo",
    "outputId": "8ad93fef-a5c5-4b47-fc86-ccc83f926cd2"
   },
   "outputs": [
    {
     "name": "stdout",
     "output_type": "stream",
     "text": [
      "[[3984  501]\n",
      " [ 446 4350]]\n"
     ]
    }
   ],
   "source": [
    "svm_cm = metrics.confusion_matrix(y_test, y_pred_svm)\n",
    "print(svm_cm)"
   ]
  },
  {
   "cell_type": "code",
   "execution_count": 37,
   "metadata": {
    "colab": {
     "base_uri": "https://localhost:8080/",
     "height": 265
    },
    "colab_type": "code",
    "id": "N8sIAX7E66E_",
    "outputId": "f16dc21e-b087-484a-cd40-21ea81c3ed08"
   },
   "outputs": [
    {
     "data": {
      "image/png": "[encoded data removed]",
      "text/plain": [
       "<Figure size 432x288 with 2 Axes>"
      ]
     },
     "metadata": {
      "needs_background": "light"
     },
     "output_type": "display_data"
    }
   ],
   "source": [
    "labels =  np.array(svm_cm)\n",
    "sns.heatmap(svm_cm, annot=labels, fmt = '')\n",
    "plt.show()"
   ]
  },
  {
   "cell_type": "code",
   "execution_count": 38,
   "metadata": {
    "colab": {
     "base_uri": "https://localhost:8080/",
     "height": 35
    },
    "colab_type": "code",
    "id": "h55e3NG36sGa",
    "outputId": "3a2a751a-4ca7-47bb-df76-c1839df1d2ea"
   },
   "outputs": [
    {
     "name": "stdout",
     "output_type": "stream",
     "text": [
      "0.8976500762898849\n"
     ]
    }
   ],
   "source": [
    "print (metrics.roc_auc_score(y_test, y_pred_svm))"
   ]
  },
  {
   "cell_type": "markdown",
   "metadata": {
    "colab_type": "text",
    "id": "QWx3UslRs5_Z"
   },
   "source": [
    "# Random Forest"
   ]
  },
  {
   "cell_type": "code",
   "execution_count": 39,
   "metadata": {
    "colab": {
     "base_uri": "https://localhost:8080/",
     "height": 69
    },
    "colab_type": "code",
    "id": "SFzTAw2nvSF4",
    "outputId": "bcd4a66a-37c2-4db6-cbd6-db85a83ada61"
   },
   "outputs": [
    {
     "name": "stdout",
     "output_type": "stream",
     "text": [
      "CPU times: user 155 µs, sys: 4 µs, total: 159 µs\n",
      "Wall time: 165 µs\n"
     ]
    },
    {
     "data": {
      "text/plain": [
       "{'max_depth': 70, 'n_estimators': 200}"
      ]
     },
     "execution_count": 39,
     "metadata": {},
     "output_type": "execute_result"
    }
   ],
   "source": [
    "#Tried depths greater and less than 60, 60 was the best. \n",
    "#Tried estimators greater and less than 200 but 200 was the best\n",
    "\n",
    "from sklearn.ensemble import RandomForestClassifier\n",
    "from sklearn.model_selection import GridSearchCV\n",
    "\n",
    "rf = RandomForestClassifier(random_state = 1)\n",
    "\n",
    "param_grid = {\n",
    "    'n_estimators': [200],\n",
    "    'max_depth': [50, 60, 70]\n",
    "    }\n",
    "\n",
    "%time grid_search_rf = GridSearchCV(estimator = rf, param_grid = param_grid, cv = 5)\n",
    "grid_search_rf.fit(x_train, np.ravel(y_train))\n",
    "grid_search_rf.best_params_"
   ]
  },
  {
   "cell_type": "code",
   "execution_count": 40,
   "metadata": {
    "colab": {},
    "colab_type": "code",
    "id": "8ApxMOK9HYmr"
   },
   "outputs": [],
   "source": [
    "y_pred_rf = grid_search_rf.predict(x_test)"
   ]
  },
  {
   "cell_type": "code",
   "execution_count": 41,
   "metadata": {
    "colab": {
     "base_uri": "https://localhost:8080/",
     "height": 52
    },
    "colab_type": "code",
    "id": "irFVTe9xw1y1",
    "outputId": "c379514f-fd76-4f42-e36f-1a23cd2746f6"
   },
   "outputs": [
    {
     "name": "stdout",
     "output_type": "stream",
     "text": [
      "Accuracy is: 0.9306109255468161\n",
      "Mean Squared Error is: 0.2634180602259153\n"
     ]
    }
   ],
   "source": [
    "print(\"Accuracy is:\", metrics.accuracy_score(y_test, y_pred_rf))\n",
    "print(\"Mean Squared Error is:\", np.sqrt(mean_squared_error(y_test, y_pred_rf)))"
   ]
  },
  {
   "cell_type": "code",
   "execution_count": 42,
   "metadata": {
    "colab": {
     "base_uri": "https://localhost:8080/",
     "height": 52
    },
    "colab_type": "code",
    "id": "R9-6FRDhw8gW",
    "outputId": "eb7710c6-9486-4f72-c63c-7447afd26cac"
   },
   "outputs": [
    {
     "name": "stdout",
     "output_type": "stream",
     "text": [
      "[[4072  413]\n",
      " [ 231 4565]]\n"
     ]
    }
   ],
   "source": [
    "rf_cm = metrics.confusion_matrix(y_test, y_pred_rf)\n",
    "print(rf_cm)"
   ]
  },
  {
   "cell_type": "code",
   "execution_count": 43,
   "metadata": {
    "colab": {
     "base_uri": "https://localhost:8080/",
     "height": 173
    },
    "colab_type": "code",
    "id": "XYFr1uXmkq8A",
    "outputId": "9c1926d7-f6dc-452e-9eaf-eeb1ff0dfcaa"
   },
   "outputs": [
    {
     "name": "stdout",
     "output_type": "stream",
     "text": [
      "              precision    recall  f1-score   support\n",
      "\n",
      "           0       0.95      0.91      0.93      4485\n",
      "           1       0.92      0.95      0.93      4796\n",
      "\n",
      "    accuracy                           0.93      9281\n",
      "   macro avg       0.93      0.93      0.93      9281\n",
      "weighted avg       0.93      0.93      0.93      9281\n",
      "\n"
     ]
    }
   ],
   "source": [
    "print(metrics.classification_report(y_test, y_pred_rf))"
   ]
  },
  {
   "cell_type": "code",
   "execution_count": 44,
   "metadata": {
    "colab": {
     "base_uri": "https://localhost:8080/",
     "height": 266
    },
    "colab_type": "code",
    "id": "ieZMUfdTC0Og",
    "outputId": "18e38c72-e58c-4a5f-c115-a4ac967d19d7"
   },
   "outputs": [
    {
     "data": {
      "image/png": "[encoded data removed]",
      "text/plain": [
       "<Figure size 432x288 with 2 Axes>"
      ]
     },
     "metadata": {
      "needs_background": "light"
     },
     "output_type": "display_data"
    }
   ],
   "source": [
    "labels = np.array(rf_cm)\n",
    "sns.heatmap(rf_cm, annot=labels, fmt = '')\n",
    "plt.show()"
   ]
  },
  {
   "cell_type": "code",
   "execution_count": 45,
   "metadata": {
    "colab": {},
    "colab_type": "code",
    "id": "5vOI13Gy5rzG"
   },
   "outputs": [],
   "source": [
    "# Calculate predicted probabilities for test data \n",
    "y_pred_prob_rf = grid_search_rf.predict_proba(x_test)[:, 1]"
   ]
  },
  {
   "cell_type": "code",
   "execution_count": 46,
   "metadata": {
    "colab": {
     "base_uri": "https://localhost:8080/",
     "height": 35
    },
    "colab_type": "code",
    "id": "mI7wpYf_5wSE",
    "outputId": "18829a89-00ff-4564-90a2-00db7d25f187"
   },
   "outputs": [
    {
     "data": {
      "text/plain": [
       "0.9775593141069807"
      ]
     },
     "execution_count": 46,
     "metadata": {},
     "output_type": "execute_result"
    }
   ],
   "source": [
    "metrics.roc_auc_score(y_test, y_pred_prob_rf)"
   ]
  },
  {
   "cell_type": "code",
   "execution_count": 47,
   "metadata": {
    "colab": {
     "base_uri": "https://localhost:8080/",
     "height": 282
    },
    "colab_type": "code",
    "id": "i4eujoJV6VQf",
    "outputId": "5c226c59-de41-4b90-9dbc-12ba6f6e881d"
   },
   "outputs": [
    {
     "data": {
      "text/plain": [
       "<AxesSubplot:>"
      ]
     },
     "execution_count": 47,
     "metadata": {},
     "output_type": "execute_result"
    },
    {
     "data": {
      "image/png": "[encoded data removed]",
      "text/plain": [
       "<Figure size 432x288 with 1 Axes>"
      ]
     },
     "metadata": {
      "needs_background": "light"
     },
     "output_type": "display_data"
    }
   ],
   "source": [
    "feature_importances = pd.Series(grid_search_rf.best_estimator_.feature_importances_, index=x_train.columns)\n",
    "feature_importances.nlargest(10).plot(kind='barh')"
   ]
  },
  {
   "cell_type": "markdown",
   "metadata": {
    "colab_type": "text",
    "id": "CN3og0p2tDah"
   },
   "source": [
    "# Neural Network"
   ]
  },
  {
   "cell_type": "code",
   "execution_count": 48,
   "metadata": {
    "colab": {},
    "colab_type": "code",
    "id": "fNRHGMe5vygb"
   },
   "outputs": [],
   "source": [
    "import sklearn.model_selection as ms\n",
    "\n",
    "#Create new train-test set\n",
    "X = pd.concat([true[\"text\"], fake[\"text\"]])\n",
    "true[\"label\"] = [0 for x in true[\"label\"]]\n",
    "fake[\"label\"] = [1 for x in fake[\"label\"]]\n",
    "y = pd.concat([true[\"label\"], fake[\"label\"]])\n",
    "\n",
    "X_train, X_test, y_train, y_test = ms.train_test_split(X, y, test_size = 0.2, random_state=1)\n",
    "train_data = pd.concat([X_train, y_train],axis = 1).reset_index(drop=True)\n",
    "test_data = pd.concat([X_test, y_test],axis = 1).reset_index(drop=True)"
   ]
  },
  {
   "cell_type": "code",
   "execution_count": 49,
   "metadata": {
    "colab": {},
    "colab_type": "code",
    "id": "Ed0WqarkjE95"
   },
   "outputs": [],
   "source": [
    "X = pd.DataFrame(X)\n",
    "articles = X[\"text\"].tolist()\n",
    "y = pd.DataFrame(y)\n",
    "labels = y[\"label\"].tolist()"
   ]
  },
  {
   "cell_type": "code",
   "execution_count": 50,
   "metadata": {
    "colab": {
     "base_uri": "https://localhost:8080/",
     "height": 66,
     "referenced_widgets": [
      "74b38c71a0bf429b9410639ad163f05c",
      "527409c0cfc649f8a7c92e763144b08c",
      "26b137ad3f174023a302bddf59b81900",
      "4146c4dd98fe415cb9026492d1ff22e2",
      "0ab27068e3434e97a119812517ac3c0b",
      "6232b8b4f2d047218bd49978714a12be",
      "ab590566b5fa4726b27579b9049b17d6",
      "2a83c1ae880b4db1964b74643c778851"
     ]
    },
    "colab_type": "code",
    "id": "_SECJbbClVhy",
    "outputId": "3feed53d-18e2-4612-b44b-6e92c09c12c8"
   },
   "outputs": [],
   "source": [
    "#Create new tokenizer because it's best to tokenize with the same tokenizer \n",
    "#that BERT was trained on instead of self-defined one \n",
    "from transformers import BertTokenizer\n",
    "tokenizer = BertTokenizer.from_pretrained('bert-base-uncased', do_lower_case=True)"
   ]
  },
  {
   "cell_type": "code",
   "execution_count": 54,
   "metadata": {
    "colab": {},
    "colab_type": "code",
    "id": "XtG0vtCYjAv5"
   },
   "outputs": [],
   "source": [
    "# Tokenize all of the articles and map the tokens to thier word IDs.\n",
    "input_ids = []\n",
    "attention_masks = []\n",
    "\n",
    "for article in articles:\n",
    "    encoded_dict = tokenizer.encode_plus(\n",
    "                        str(article),                      #Article to encode\n",
    "                        add_special_tokens = True, #Add [CLS] to start, [SEP] to end\n",
    "                        max_length = 64,           #Pad & truncate all sentences\n",
    "                        pad_to_max_length = True,\n",
    "                        return_attention_mask = True,   #Create masks\n",
    "                        return_tensors = \"pt\",     # Return pytorch tensors\n",
    "                   )\n",
    "    \n",
    "    #Add the encoded sentence to the list    \n",
    "    input_ids.append(encoded_dict['input_ids'])\n",
    "    \n",
    "    # Add attention mask (simply differentiates padding from non-padding)\n",
    "    attention_masks.append(encoded_dict['attention_mask'])\n",
    "\n",
    "# Convert the lists into tensors\n",
    "input_ids = torch.cat(input_ids, dim=0) #encoded sentence\n",
    "attention_masks = torch.cat(attention_masks, dim=0) #mask\n",
    "labels = torch.tensor(labels) #labels (fake/true)"
   ]
  },
  {
   "cell_type": "code",
   "execution_count": 55,
   "metadata": {
    "colab": {
     "base_uri": "https://localhost:8080/",
     "height": 69
    },
    "colab_type": "code",
    "id": "W4LQN86bmUgd",
    "outputId": "877e8c37-a593-4c30-9b58-2a6419def766"
   },
   "outputs": [
    {
     "name": "stdout",
     "output_type": "stream",
     "text": [
      "32,481 training samples\n",
      "4,641 validation samples\n",
      "9,280 test samples\n"
     ]
    }
   ],
   "source": [
    "from torch.utils.data import TensorDataset, random_split\n",
    "\n",
    "# Combine the training inputs into a TensorDataset\n",
    "dataset = TensorDataset(input_ids, attention_masks, labels)\n",
    "\n",
    "# Create a 70-10-20 train-validation-test split\n",
    "\n",
    "# Calculate the number of samples to include in each set.\n",
    "train_size = int(0.7 * len(dataset))\n",
    "val_size = int(0.1 * len(dataset)) + 1 #add 1 because int() causes 1 row to be left out\n",
    "test_size = int(0.2 * len(dataset)) \n",
    "\n",
    "train_dataset, val_dataset, test_dataset = random_split(dataset, [train_size, val_size, test_size])\n",
    "\n",
    "print('{:>5,} training samples'.format(train_size))\n",
    "print('{:>5,} validation samples'.format(val_size))\n",
    "print('{:>5,} test samples'.format(test_size))"
   ]
  },
  {
   "cell_type": "code",
   "execution_count": 56,
   "metadata": {
    "colab": {},
    "colab_type": "code",
    "id": "Y8L4W_Smmst0"
   },
   "outputs": [],
   "source": [
    "from torch.utils.data import DataLoader, RandomSampler, SequentialSampler\n",
    "\n",
    "#BERT developers recommend 16 or 32 batch_size\n",
    "batch_size = 16\n",
    "\n",
    "train_dataloader = DataLoader(\n",
    "            train_dataset,  \n",
    "            sampler = RandomSampler(train_dataset), # Select batches randomly\n",
    "            batch_size = batch_size)\n",
    "\n",
    "validation_dataloader = DataLoader(\n",
    "            val_dataset, \n",
    "            sampler = SequentialSampler(val_dataset), # Pull out batches sequentially, since order doesn't matter here\n",
    "            batch_size = batch_size)\n",
    "\n",
    "test_dataloader = DataLoader(\n",
    "            test_dataset, \n",
    "            sampler = SequentialSampler(test_dataset), # Pull out batches sequentially, since order doesn't matter here\n",
    "            batch_size = batch_size)"
   ]
  },
  {
   "cell_type": "code",
   "execution_count": 57,
   "metadata": {
    "colab": {},
    "colab_type": "code",
    "id": "42qLMvZamyRa"
   },
   "outputs": [
    {
     "name": "stderr",
     "output_type": "stream",
     "text": [
      "Some weights of the model checkpoint at bert-base-uncased were not used when initializing BertForSequenceClassification: ['cls.predictions.bias', 'cls.predictions.transform.dense.weight', 'cls.predictions.transform.dense.bias', 'cls.predictions.decoder.weight', 'cls.seq_relationship.weight', 'cls.seq_relationship.bias', 'cls.predictions.transform.LayerNorm.weight', 'cls.predictions.transform.LayerNorm.bias']\n",
      "- This IS expected if you are initializing BertForSequenceClassification from the checkpoint of a model trained on another task or with another architecture (e.g. initializing a BertForSequenceClassification model from a BertForPreTraining model).\n",
      "- This IS NOT expected if you are initializing BertForSequenceClassification from the checkpoint of a model that you expect to be exactly identical (initializing a BertForSequenceClassification model from a BertForSequenceClassification model).\n",
      "Some weights of BertForSequenceClassification were not initialized from the model checkpoint at bert-base-uncased and are newly initialized: ['classifier.weight', 'classifier.bias']\n",
      "You should probably TRAIN this model on a down-stream task to be able to use it for predictions and inference.\n"
     ]
    },
    {
     "data": {
      "text/plain": [
       "BertForSequenceClassification(\n",
       "  (bert): BertModel(\n",
       "    (embeddings): BertEmbeddings(\n",
       "      (word_embeddings): Embedding(30522, 768, padding_idx=0)\n",
       "      (position_embeddings): Embedding(512, 768)\n",
       "      (token_type_embeddings): Embedding(2, 768)\n",
       "      (LayerNorm): LayerNorm((768,), eps=1e-12, elementwise_affine=True)\n",
       "      (dropout): Dropout(p=0.1, inplace=False)\n",
       "    )\n",
       "    (encoder): BertEncoder(\n",
       "      (layer): ModuleList(\n",
       "        (0): BertLayer(\n",
       "          (attention): BertAttention(\n",
       "            (self): BertSelfAttention(\n",
       "              (query): Linear(in_features=768, out_features=768, bias=True)\n",
       "              (key): Linear(in_features=768, out_features=768, bias=True)\n",
       "              (value): Linear(in_features=768, out_features=768, bias=True)\n",
       "              (dropout): Dropout(p=0.1, inplace=False)\n",
       "            )\n",
       "            (output): BertSelfOutput(\n",
       "              (dense): Linear(in_features=768, out_features=768, bias=True)\n",
       "              (LayerNorm): LayerNorm((768,), eps=1e-12, elementwise_affine=True)\n",
       "              (dropout): Dropout(p=0.1, inplace=False)\n",
       "            )\n",
       "          )\n",
       "          (intermediate): BertIntermediate(\n",
       "            (dense): Linear(in_features=768, out_features=3072, bias=True)\n",
       "          )\n",
       "          (output): BertOutput(\n",
       "            (dense): Linear(in_features=3072, out_features=768, bias=True)\n",
       "            (LayerNorm): LayerNorm((768,), eps=1e-12, elementwise_affine=True)\n",
       "            (dropout): Dropout(p=0.1, inplace=False)\n",
       "          )\n",
       "        )\n",
       "        (1): BertLayer(\n",
       "          (attention): BertAttention(\n",
       "            (self): BertSelfAttention(\n",
       "              (query): Linear(in_features=768, out_features=768, bias=True)\n",
       "              (key): Linear(in_features=768, out_features=768, bias=True)\n",
       "              (value): Linear(in_features=768, out_features=768, bias=True)\n",
       "              (dropout): Dropout(p=0.1, inplace=False)\n",
       "            )\n",
       "            (output): BertSelfOutput(\n",
       "              (dense): Linear(in_features=768, out_features=768, bias=True)\n",
       "              (LayerNorm): LayerNorm((768,), eps=1e-12, elementwise_affine=True)\n",
       "              (dropout): Dropout(p=0.1, inplace=False)\n",
       "            )\n",
       "          )\n",
       "          (intermediate): BertIntermediate(\n",
       "            (dense): Linear(in_features=768, out_features=3072, bias=True)\n",
       "          )\n",
       "          (output): BertOutput(\n",
       "            (dense): Linear(in_features=3072, out_features=768, bias=True)\n",
       "            (LayerNorm): LayerNorm((768,), eps=1e-12, elementwise_affine=True)\n",
       "            (dropout): Dropout(p=0.1, inplace=False)\n",
       "          )\n",
       "        )\n",
       "        (2): BertLayer(\n",
       "          (attention): BertAttention(\n",
       "            (self): BertSelfAttention(\n",
       "              (query): Linear(in_features=768, out_features=768, bias=True)\n",
       "              (key): Linear(in_features=768, out_features=768, bias=True)\n",
       "              (value): Linear(in_features=768, out_features=768, bias=True)\n",
       "              (dropout): Dropout(p=0.1, inplace=False)\n",
       "            )\n",
       "            (output): BertSelfOutput(\n",
       "              (dense): Linear(in_features=768, out_features=768, bias=True)\n",
       "              (LayerNorm): LayerNorm((768,), eps=1e-12, elementwise_affine=True)\n",
       "              (dropout): Dropout(p=0.1, inplace=False)\n",
       "            )\n",
       "          )\n",
       "          (intermediate): BertIntermediate(\n",
       "            (dense): Linear(in_features=768, out_features=3072, bias=True)\n",
       "          )\n",
       "          (output): BertOutput(\n",
       "            (dense): Linear(in_features=3072, out_features=768, bias=True)\n",
       "            (LayerNorm): LayerNorm((768,), eps=1e-12, elementwise_affine=True)\n",
       "            (dropout): Dropout(p=0.1, inplace=False)\n",
       "          )\n",
       "        )\n",
       "        (3): BertLayer(\n",
       "          (attention): BertAttention(\n",
       "            (self): BertSelfAttention(\n",
       "              (query): Linear(in_features=768, out_features=768, bias=True)\n",
       "              (key): Linear(in_features=768, out_features=768, bias=True)\n",
       "              (value): Linear(in_features=768, out_features=768, bias=True)\n",
       "              (dropout): Dropout(p=0.1, inplace=False)\n",
       "            )\n",
       "            (output): BertSelfOutput(\n",
       "              (dense): Linear(in_features=768, out_features=768, bias=True)\n",
       "              (LayerNorm): LayerNorm((768,), eps=1e-12, elementwise_affine=True)\n",
       "              (dropout): Dropout(p=0.1, inplace=False)\n",
       "            )\n",
       "          )\n",
       "          (intermediate): BertIntermediate(\n",
       "            (dense): Linear(in_features=768, out_features=3072, bias=True)\n",
       "          )\n",
       "          (output): BertOutput(\n",
       "            (dense): Linear(in_features=3072, out_features=768, bias=True)\n",
       "            (LayerNorm): LayerNorm((768,), eps=1e-12, elementwise_affine=True)\n",
       "            (dropout): Dropout(p=0.1, inplace=False)\n",
       "          )\n",
       "        )\n",
       "        (4): BertLayer(\n",
       "          (attention): BertAttention(\n",
       "            (self): BertSelfAttention(\n",
       "              (query): Linear(in_features=768, out_features=768, bias=True)\n",
       "              (key): Linear(in_features=768, out_features=768, bias=True)\n",
       "              (value): Linear(in_features=768, out_features=768, bias=True)\n",
       "              (dropout): Dropout(p=0.1, inplace=False)\n",
       "            )\n",
       "            (output): BertSelfOutput(\n",
       "              (dense): Linear(in_features=768, out_features=768, bias=True)\n",
       "              (LayerNorm): LayerNorm((768,), eps=1e-12, elementwise_affine=True)\n",
       "              (dropout): Dropout(p=0.1, inplace=False)\n",
       "            )\n",
       "          )\n",
       "          (intermediate): BertIntermediate(\n",
       "            (dense): Linear(in_features=768, out_features=3072, bias=True)\n",
       "          )\n",
       "          (output): BertOutput(\n",
       "            (dense): Linear(in_features=3072, out_features=768, bias=True)\n",
       "            (LayerNorm): LayerNorm((768,), eps=1e-12, elementwise_affine=True)\n",
       "            (dropout): Dropout(p=0.1, inplace=False)\n",
       "          )\n",
       "        )\n",
       "        (5): BertLayer(\n",
       "          (attention): BertAttention(\n",
       "            (self): BertSelfAttention(\n",
       "              (query): Linear(in_features=768, out_features=768, bias=True)\n",
       "              (key): Linear(in_features=768, out_features=768, bias=True)\n",
       "              (value): Linear(in_features=768, out_features=768, bias=True)\n",
       "              (dropout): Dropout(p=0.1, inplace=False)\n",
       "            )\n",
       "            (output): BertSelfOutput(\n",
       "              (dense): Linear(in_features=768, out_features=768, bias=True)\n",
       "              (LayerNorm): LayerNorm((768,), eps=1e-12, elementwise_affine=True)\n",
       "              (dropout): Dropout(p=0.1, inplace=False)\n",
       "            )\n",
       "          )\n",
       "          (intermediate): BertIntermediate(\n",
       "            (dense): Linear(in_features=768, out_features=3072, bias=True)\n",
       "          )\n",
       "          (output): BertOutput(\n",
       "            (dense): Linear(in_features=3072, out_features=768, bias=True)\n",
       "            (LayerNorm): LayerNorm((768,), eps=1e-12, elementwise_affine=True)\n",
       "            (dropout): Dropout(p=0.1, inplace=False)\n",
       "          )\n",
       "        )\n",
       "        (6): BertLayer(\n",
       "          (attention): BertAttention(\n",
       "            (self): BertSelfAttention(\n",
       "              (query): Linear(in_features=768, out_features=768, bias=True)\n",
       "              (key): Linear(in_features=768, out_features=768, bias=True)\n",
       "              (value): Linear(in_features=768, out_features=768, bias=True)\n",
       "              (dropout): Dropout(p=0.1, inplace=False)\n",
       "            )\n",
       "            (output): BertSelfOutput(\n",
       "              (dense): Linear(in_features=768, out_features=768, bias=True)\n",
       "              (LayerNorm): LayerNorm((768,), eps=1e-12, elementwise_affine=True)\n",
       "              (dropout): Dropout(p=0.1, inplace=False)\n",
       "            )\n",
       "          )\n",
       "          (intermediate): BertIntermediate(\n",
       "            (dense): Linear(in_features=768, out_features=3072, bias=True)\n",
       "          )\n",
       "          (output): BertOutput(\n",
       "            (dense): Linear(in_features=3072, out_features=768, bias=True)\n",
       "            (LayerNorm): LayerNorm((768,), eps=1e-12, elementwise_affine=True)\n",
       "            (dropout): Dropout(p=0.1, inplace=False)\n",
       "          )\n",
       "        )\n",
       "        (7): BertLayer(\n",
       "          (attention): BertAttention(\n",
       "            (self): BertSelfAttention(\n",
       "              (query): Linear(in_features=768, out_features=768, bias=True)\n",
       "              (key): Linear(in_features=768, out_features=768, bias=True)\n",
       "              (value): Linear(in_features=768, out_features=768, bias=True)\n",
       "              (dropout): Dropout(p=0.1, inplace=False)\n",
       "            )\n",
       "            (output): BertSelfOutput(\n",
       "              (dense): Linear(in_features=768, out_features=768, bias=True)\n",
       "              (LayerNorm): LayerNorm((768,), eps=1e-12, elementwise_affine=True)\n",
       "              (dropout): Dropout(p=0.1, inplace=False)\n",
       "            )\n",
       "          )\n",
       "          (intermediate): BertIntermediate(\n",
       "            (dense): Linear(in_features=768, out_features=3072, bias=True)\n",
       "          )\n",
       "          (output): BertOutput(\n",
       "            (dense): Linear(in_features=3072, out_features=768, bias=True)\n",
       "            (LayerNorm): LayerNorm((768,), eps=1e-12, elementwise_affine=True)\n",
       "            (dropout): Dropout(p=0.1, inplace=False)\n",
       "          )\n",
       "        )\n",
       "        (8): BertLayer(\n",
       "          (attention): BertAttention(\n",
       "            (self): BertSelfAttention(\n",
       "              (query): Linear(in_features=768, out_features=768, bias=True)\n",
       "              (key): Linear(in_features=768, out_features=768, bias=True)\n",
       "              (value): Linear(in_features=768, out_features=768, bias=True)\n",
       "              (dropout): Dropout(p=0.1, inplace=False)\n",
       "            )\n",
       "            (output): BertSelfOutput(\n",
       "              (dense): Linear(in_features=768, out_features=768, bias=True)\n",
       "              (LayerNorm): LayerNorm((768,), eps=1e-12, elementwise_affine=True)\n",
       "              (dropout): Dropout(p=0.1, inplace=False)\n",
       "            )\n",
       "          )\n",
       "          (intermediate): BertIntermediate(\n",
       "            (dense): Linear(in_features=768, out_features=3072, bias=True)\n",
       "          )\n",
       "          (output): BertOutput(\n",
       "            (dense): Linear(in_features=3072, out_features=768, bias=True)\n",
       "            (LayerNorm): LayerNorm((768,), eps=1e-12, elementwise_affine=True)\n",
       "            (dropout): Dropout(p=0.1, inplace=False)\n",
       "          )\n",
       "        )\n",
       "        (9): BertLayer(\n",
       "          (attention): BertAttention(\n",
       "            (self): BertSelfAttention(\n",
       "              (query): Linear(in_features=768, out_features=768, bias=True)\n",
       "              (key): Linear(in_features=768, out_features=768, bias=True)\n",
       "              (value): Linear(in_features=768, out_features=768, bias=True)\n",
       "              (dropout): Dropout(p=0.1, inplace=False)\n",
       "            )\n",
       "            (output): BertSelfOutput(\n",
       "              (dense): Linear(in_features=768, out_features=768, bias=True)\n",
       "              (LayerNorm): LayerNorm((768,), eps=1e-12, elementwise_affine=True)\n",
       "              (dropout): Dropout(p=0.1, inplace=False)\n",
       "            )\n",
       "          )\n",
       "          (intermediate): BertIntermediate(\n",
       "            (dense): Linear(in_features=768, out_features=3072, bias=True)\n",
       "          )\n",
       "          (output): BertOutput(\n",
       "            (dense): Linear(in_features=3072, out_features=768, bias=True)\n",
       "            (LayerNorm): LayerNorm((768,), eps=1e-12, elementwise_affine=True)\n",
       "            (dropout): Dropout(p=0.1, inplace=False)\n",
       "          )\n",
       "        )\n",
       "        (10): BertLayer(\n",
       "          (attention): BertAttention(\n",
       "            (self): BertSelfAttention(\n",
       "              (query): Linear(in_features=768, out_features=768, bias=True)\n",
       "              (key): Linear(in_features=768, out_features=768, bias=True)\n",
       "              (value): Linear(in_features=768, out_features=768, bias=True)\n",
       "              (dropout): Dropout(p=0.1, inplace=False)\n",
       "            )\n",
       "            (output): BertSelfOutput(\n",
       "              (dense): Linear(in_features=768, out_features=768, bias=True)\n",
       "              (LayerNorm): LayerNorm((768,), eps=1e-12, elementwise_affine=True)\n",
       "              (dropout): Dropout(p=0.1, inplace=False)\n",
       "            )\n",
       "          )\n",
       "          (intermediate): BertIntermediate(\n",
       "            (dense): Linear(in_features=768, out_features=3072, bias=True)\n",
       "          )\n",
       "          (output): BertOutput(\n",
       "            (dense): Linear(in_features=3072, out_features=768, bias=True)\n",
       "            (LayerNorm): LayerNorm((768,), eps=1e-12, elementwise_affine=True)\n",
       "            (dropout): Dropout(p=0.1, inplace=False)\n",
       "          )\n",
       "        )\n",
       "        (11): BertLayer(\n",
       "          (attention): BertAttention(\n",
       "            (self): BertSelfAttention(\n",
       "              (query): Linear(in_features=768, out_features=768, bias=True)\n",
       "              (key): Linear(in_features=768, out_features=768, bias=True)\n",
       "              (value): Linear(in_features=768, out_features=768, bias=True)\n",
       "              (dropout): Dropout(p=0.1, inplace=False)\n",
       "            )\n",
       "            (output): BertSelfOutput(\n",
       "              (dense): Linear(in_features=768, out_features=768, bias=True)\n",
       "              (LayerNorm): LayerNorm((768,), eps=1e-12, elementwise_affine=True)\n",
       "              (dropout): Dropout(p=0.1, inplace=False)\n",
       "            )\n",
       "          )\n",
       "          (intermediate): BertIntermediate(\n",
       "            (dense): Linear(in_features=768, out_features=3072, bias=True)\n",
       "          )\n",
       "          (output): BertOutput(\n",
       "            (dense): Linear(in_features=3072, out_features=768, bias=True)\n",
       "            (LayerNorm): LayerNorm((768,), eps=1e-12, elementwise_affine=True)\n",
       "            (dropout): Dropout(p=0.1, inplace=False)\n",
       "          )\n",
       "        )\n",
       "      )\n",
       "    )\n",
       "    (pooler): BertPooler(\n",
       "      (dense): Linear(in_features=768, out_features=768, bias=True)\n",
       "      (activation): Tanh()\n",
       "    )\n",
       "  )\n",
       "  (dropout): Dropout(p=0.1, inplace=False)\n",
       "  (classifier): Linear(in_features=768, out_features=2, bias=True)\n",
       ")"
      ]
     },
     "execution_count": 57,
     "metadata": {},
     "output_type": "execute_result"
    }
   ],
   "source": [
    "from transformers import BertForSequenceClassification, AdamW, BertConfig\n",
    "\n",
    "# Load BertForSequenceClassification, the pretrained BERT model with a single linear classification layer  \n",
    "# Don't output all layers due to memory limits\n",
    "model = BertForSequenceClassification.from_pretrained(\n",
    "    \"bert-base-uncased\", # Use the 12-layer BERT model, with an uncased vocab\n",
    "    num_labels = 2, #binary classification  \n",
    "    output_attentions = False, \n",
    "    output_hidden_states = False)\n",
    "\n",
    "#run model on the GPU\n",
    "model.cuda()"
   ]
  },
  {
   "cell_type": "code",
   "execution_count": 58,
   "metadata": {
    "colab": {},
    "colab_type": "code",
    "id": "VkZeFvllm8dA"
   },
   "outputs": [],
   "source": [
    "#Use Adam optimizer\n",
    "optimizer = AdamW(model.parameters(),\n",
    "                  lr = 0.00002,\n",
    "                  eps = 1e-8) # default is 1e-8"
   ]
  },
  {
   "cell_type": "code",
   "execution_count": 59,
   "metadata": {
    "colab": {},
    "colab_type": "code",
    "id": "Po1WlwAkm_rA"
   },
   "outputs": [],
   "source": [
    "from transformers import get_linear_schedule_with_warmup\n",
    "\n",
    "# BERT authors recommend between 2 and 4 epochs\n",
    "epochs = 4\n",
    "\n",
    "# number of batches x number of epochs\n",
    "total_steps = len(train_dataloader) * epochs\n",
    "\n",
    "# Create the learning rate scheduler to reduce the learning rate as training epochs increase\n",
    "scheduler = get_linear_schedule_with_warmup(optimizer, \n",
    "                                            num_warmup_steps = 0, #default\n",
    "                                            num_training_steps = total_steps)"
   ]
  },
  {
   "cell_type": "code",
   "execution_count": 60,
   "metadata": {
    "colab": {},
    "colab_type": "code",
    "id": "PrTJNJqzm_fk"
   },
   "outputs": [],
   "source": [
    "def accuracy(preds, labels):\n",
    "    pred_flat = np.argmax(preds, axis=1).flatten()\n",
    "    labels_flat = labels.flatten()\n",
    "    return metrics.accuracy_score(pred_flat, labels_flat)"
   ]
  },
  {
   "cell_type": "code",
   "execution_count": 61,
   "metadata": {
    "colab": {},
    "colab_type": "code",
    "id": "VLE7gsDP8o2d"
   },
   "outputs": [],
   "source": [
    "import time\n",
    "import datetime\n",
    "\n",
    "#Takes a time in seconds and returns a string hh:mm:ss\n",
    "def format_time(elapsed):\n",
    "    \n",
    "    # Round to the nearest second.\n",
    "    elapsed_rounded = int(round((elapsed)))\n",
    "    \n",
    "    # Format as hh:mm:ss\n",
    "    return str(datetime.timedelta(seconds=elapsed_rounded))\n"
   ]
  },
  {
   "cell_type": "code",
   "execution_count": 62,
   "metadata": {
    "colab": {
     "base_uri": "https://localhost:8080/",
     "height": 1000
    },
    "colab_type": "code",
    "id": "Tp1DuKV08kOZ",
    "outputId": "a3b520c8-a6b9-4f10-bbb7-588d7249512f",
    "scrolled": true
   },
   "outputs": [
    {
     "name": "stdout",
     "output_type": "stream",
     "text": [
      "\n",
      "======== Epoch 1 / 4 ========\n",
      "  Batch    40  of  2,031.    Elapsed: 0:00:06.\n",
      "  Batch    80  of  2,031.    Elapsed: 0:00:12.\n",
      "  Batch   120  of  2,031.    Elapsed: 0:00:18.\n",
      "  Batch   160  of  2,031.    Elapsed: 0:00:24.\n",
      "  Batch   200  of  2,031.    Elapsed: 0:00:30.\n",
      "  Batch   240  of  2,031.    Elapsed: 0:00:36.\n",
      "  Batch   280  of  2,031.    Elapsed: 0:00:42.\n",
      "  Batch   320  of  2,031.    Elapsed: 0:00:48.\n",
      "  Batch   360  of  2,031.    Elapsed: 0:00:54.\n",
      "  Batch   400  of  2,031.    Elapsed: 0:01:00.\n",
      "  Batch   440  of  2,031.    Elapsed: 0:01:06.\n",
      "  Batch   480  of  2,031.    Elapsed: 0:01:12.\n",
      "  Batch   520  of  2,031.    Elapsed: 0:01:18.\n",
      "  Batch   560  of  2,031.    Elapsed: 0:01:24.\n",
      "  Batch   600  of  2,031.    Elapsed: 0:01:30.\n",
      "  Batch   640  of  2,031.    Elapsed: 0:01:36.\n",
      "  Batch   680  of  2,031.    Elapsed: 0:01:44.\n",
      "  Batch   720  of  2,031.    Elapsed: 0:01:53.\n",
      "  Batch   760  of  2,031.    Elapsed: 0:02:10.\n",
      "  Batch   800  of  2,031.    Elapsed: 0:02:47.\n",
      "  Batch   840  of  2,031.    Elapsed: 0:03:28.\n",
      "  Batch   880  of  2,031.    Elapsed: 0:04:10.\n",
      "  Batch   920  of  2,031.    Elapsed: 0:04:53.\n",
      "  Batch   960  of  2,031.    Elapsed: 0:05:35.\n",
      "  Batch 1,000  of  2,031.    Elapsed: 0:06:18.\n",
      "  Batch 1,040  of  2,031.    Elapsed: 0:07:01.\n",
      "  Batch 1,080  of  2,031.    Elapsed: 0:07:44.\n",
      "  Batch 1,120  of  2,031.    Elapsed: 0:08:28.\n",
      "  Batch 1,160  of  2,031.    Elapsed: 0:09:11.\n",
      "  Batch 1,200  of  2,031.    Elapsed: 0:09:54.\n",
      "  Batch 1,240  of  2,031.    Elapsed: 0:10:38.\n",
      "  Batch 1,280  of  2,031.    Elapsed: 0:11:21.\n",
      "  Batch 1,320  of  2,031.    Elapsed: 0:11:40.\n",
      "  Batch 1,360  of  2,031.    Elapsed: 0:11:54.\n",
      "  Batch 1,400  of  2,031.    Elapsed: 0:12:06.\n",
      "  Batch 1,440  of  2,031.    Elapsed: 0:12:19.\n",
      "  Batch 1,480  of  2,031.    Elapsed: 0:12:35.\n",
      "  Batch 1,520  of  2,031.    Elapsed: 0:12:50.\n",
      "  Batch 1,560  of  2,031.    Elapsed: 0:13:08.\n",
      "  Batch 1,600  of  2,031.    Elapsed: 0:13:29.\n",
      "  Batch 1,640  of  2,031.    Elapsed: 0:13:53.\n",
      "  Batch 1,680  of  2,031.    Elapsed: 0:14:23.\n",
      "  Batch 1,720  of  2,031.    Elapsed: 0:14:54.\n",
      "  Batch 1,760  of  2,031.    Elapsed: 0:15:25.\n",
      "  Batch 1,800  of  2,031.    Elapsed: 0:15:53.\n",
      "  Batch 1,840  of  2,031.    Elapsed: 0:16:14.\n",
      "  Batch 1,880  of  2,031.    Elapsed: 0:16:36.\n",
      "  Batch 1,920  of  2,031.    Elapsed: 0:16:57.\n",
      "  Batch 1,960  of  2,031.    Elapsed: 0:17:19.\n",
      "  Batch 2,000  of  2,031.    Elapsed: 0:17:37.\n",
      "\n",
      "  Average training loss: 0.10\n",
      "  Training epcoh took: 0:17:48\n",
      "\n",
      "Running Validation...\n",
      "  Accuracy: 0.99\n",
      "  Validation Loss: 0.06\n",
      "  Validation took: 0:00:56\n",
      "\n",
      "======== Epoch 2 / 4 ========\n",
      "  Batch    40  of  2,031.    Elapsed: 0:00:21.\n",
      "  Batch    80  of  2,031.    Elapsed: 0:00:42.\n",
      "  Batch   120  of  2,031.    Elapsed: 0:01:03.\n",
      "  Batch   160  of  2,031.    Elapsed: 0:01:27.\n",
      "  Batch   200  of  2,031.    Elapsed: 0:01:51.\n",
      "  Batch   240  of  2,031.    Elapsed: 0:02:12.\n",
      "  Batch   280  of  2,031.    Elapsed: 0:02:37.\n",
      "  Batch   320  of  2,031.    Elapsed: 0:03:01.\n",
      "  Batch   360  of  2,031.    Elapsed: 0:03:26.\n",
      "  Batch   400  of  2,031.    Elapsed: 0:03:53.\n",
      "  Batch   440  of  2,031.    Elapsed: 0:04:20.\n",
      "  Batch   480  of  2,031.    Elapsed: 0:04:49.\n",
      "  Batch   520  of  2,031.    Elapsed: 0:05:14.\n",
      "  Batch   560  of  2,031.    Elapsed: 0:05:41.\n",
      "  Batch   600  of  2,031.    Elapsed: 0:06:09.\n",
      "  Batch   640  of  2,031.    Elapsed: 0:06:37.\n",
      "  Batch   680  of  2,031.    Elapsed: 0:07:06.\n",
      "  Batch   720  of  2,031.    Elapsed: 0:07:38.\n",
      "  Batch   760  of  2,031.    Elapsed: 0:08:09.\n",
      "  Batch   800  of  2,031.    Elapsed: 0:08:39.\n",
      "  Batch   840  of  2,031.    Elapsed: 0:09:08.\n",
      "  Batch   880  of  2,031.    Elapsed: 0:09:40.\n",
      "  Batch   920  of  2,031.    Elapsed: 0:10:11.\n",
      "  Batch   960  of  2,031.    Elapsed: 0:10:41.\n",
      "  Batch 1,000  of  2,031.    Elapsed: 0:11:13.\n",
      "  Batch 1,040  of  2,031.    Elapsed: 0:11:44.\n",
      "  Batch 1,080  of  2,031.    Elapsed: 0:12:15.\n",
      "  Batch 1,120  of  2,031.    Elapsed: 0:12:46.\n",
      "  Batch 1,160  of  2,031.    Elapsed: 0:13:18.\n",
      "  Batch 1,200  of  2,031.    Elapsed: 0:13:49.\n",
      "  Batch 1,240  of  2,031.    Elapsed: 0:14:22.\n",
      "  Batch 1,280  of  2,031.    Elapsed: 0:14:52.\n",
      "  Batch 1,320  of  2,031.    Elapsed: 0:15:24.\n",
      "  Batch 1,360  of  2,031.    Elapsed: 0:15:55.\n",
      "  Batch 1,400  of  2,031.    Elapsed: 0:16:26.\n",
      "  Batch 1,440  of  2,031.    Elapsed: 0:16:57.\n",
      "  Batch 1,480  of  2,031.    Elapsed: 0:17:29.\n",
      "  Batch 1,520  of  2,031.    Elapsed: 0:17:59.\n",
      "  Batch 1,560  of  2,031.    Elapsed: 0:18:30.\n",
      "  Batch 1,600  of  2,031.    Elapsed: 0:19:01.\n",
      "  Batch 1,640  of  2,031.    Elapsed: 0:19:33.\n",
      "  Batch 1,680  of  2,031.    Elapsed: 0:20:05.\n",
      "  Batch 1,720  of  2,031.    Elapsed: 0:20:36.\n",
      "  Batch 1,760  of  2,031.    Elapsed: 0:21:09.\n",
      "  Batch 1,800  of  2,031.    Elapsed: 0:21:41.\n",
      "  Batch 1,840  of  2,031.    Elapsed: 0:22:14.\n",
      "  Batch 1,880  of  2,031.    Elapsed: 0:22:47.\n",
      "  Batch 1,920  of  2,031.    Elapsed: 0:23:18.\n",
      "  Batch 1,960  of  2,031.    Elapsed: 0:23:51.\n",
      "  Batch 2,000  of  2,031.    Elapsed: 0:24:24.\n",
      "\n",
      "  Average training loss: 0.03\n",
      "  Training epcoh took: 0:24:49\n",
      "\n",
      "Running Validation...\n",
      "  Accuracy: 0.99\n",
      "  Validation Loss: 0.07\n",
      "  Validation took: 0:01:22\n",
      "\n",
      "======== Epoch 3 / 4 ========\n",
      "  Batch    40  of  2,031.    Elapsed: 0:00:33.\n",
      "  Batch    80  of  2,031.    Elapsed: 0:01:07.\n",
      "  Batch   120  of  2,031.    Elapsed: 0:01:41.\n",
      "  Batch   160  of  2,031.    Elapsed: 0:02:14.\n",
      "  Batch   200  of  2,031.    Elapsed: 0:02:47.\n",
      "  Batch   240  of  2,031.    Elapsed: 0:03:22.\n",
      "  Batch   280  of  2,031.    Elapsed: 0:04:02.\n",
      "  Batch   320  of  2,031.    Elapsed: 0:04:35.\n",
      "  Batch   360  of  2,031.    Elapsed: 0:05:08.\n",
      "  Batch   400  of  2,031.    Elapsed: 0:05:42.\n",
      "  Batch   440  of  2,031.    Elapsed: 0:06:16.\n",
      "  Batch   480  of  2,031.    Elapsed: 0:06:52.\n",
      "  Batch   520  of  2,031.    Elapsed: 0:07:28.\n",
      "  Batch   560  of  2,031.    Elapsed: 0:08:02.\n",
      "  Batch   600  of  2,031.    Elapsed: 0:08:37.\n",
      "  Batch   640  of  2,031.    Elapsed: 0:09:13.\n",
      "  Batch   680  of  2,031.    Elapsed: 0:09:49.\n",
      "  Batch   720  of  2,031.    Elapsed: 0:10:25.\n",
      "  Batch   760  of  2,031.    Elapsed: 0:11:01.\n",
      "  Batch   800  of  2,031.    Elapsed: 0:11:36.\n",
      "  Batch   840  of  2,031.    Elapsed: 0:12:15.\n",
      "  Batch   880  of  2,031.    Elapsed: 0:12:52.\n",
      "  Batch   920  of  2,031.    Elapsed: 0:13:27.\n",
      "  Batch   960  of  2,031.    Elapsed: 0:14:03.\n",
      "  Batch 1,000  of  2,031.    Elapsed: 0:14:40.\n",
      "  Batch 1,040  of  2,031.    Elapsed: 0:15:17.\n",
      "  Batch 1,080  of  2,031.    Elapsed: 0:15:57.\n",
      "  Batch 1,120  of  2,031.    Elapsed: 0:16:36.\n",
      "  Batch 1,160  of  2,031.    Elapsed: 0:17:16.\n",
      "  Batch 1,200  of  2,031.    Elapsed: 0:17:56.\n",
      "  Batch 1,240  of  2,031.    Elapsed: 0:18:35.\n",
      "  Batch 1,280  of  2,031.    Elapsed: 0:19:15.\n",
      "  Batch 1,320  of  2,031.    Elapsed: 0:19:55.\n",
      "  Batch 1,360  of  2,031.    Elapsed: 0:20:35.\n",
      "  Batch 1,400  of  2,031.    Elapsed: 0:21:15.\n",
      "  Batch 1,440  of  2,031.    Elapsed: 0:21:56.\n",
      "  Batch 1,480  of  2,031.    Elapsed: 0:22:36.\n",
      "  Batch 1,520  of  2,031.    Elapsed: 0:23:17.\n",
      "  Batch 1,560  of  2,031.    Elapsed: 0:23:57.\n",
      "  Batch 1,600  of  2,031.    Elapsed: 0:24:38.\n",
      "  Batch 1,640  of  2,031.    Elapsed: 0:25:20.\n",
      "  Batch 1,680  of  2,031.    Elapsed: 0:26:01.\n",
      "  Batch 1,720  of  2,031.    Elapsed: 0:26:42.\n",
      "  Batch 1,760  of  2,031.    Elapsed: 0:27:24.\n",
      "  Batch 1,800  of  2,031.    Elapsed: 0:28:05.\n",
      "  Batch 1,840  of  2,031.    Elapsed: 0:28:47.\n",
      "  Batch 1,880  of  2,031.    Elapsed: 0:29:31.\n",
      "  Batch 1,920  of  2,031.    Elapsed: 0:30:21.\n",
      "  Batch 1,960  of  2,031.    Elapsed: 0:31:38.\n",
      "  Batch 2,000  of  2,031.    Elapsed: 0:32:54.\n",
      "\n",
      "  Average training loss: 0.01\n",
      "  Training epcoh took: 0:33:51\n",
      "\n",
      "Running Validation...\n",
      "  Accuracy: 0.99\n",
      "  Validation Loss: 0.08\n",
      "  Validation took: 0:02:56\n",
      "\n",
      "======== Epoch 4 / 4 ========\n",
      "  Batch    40  of  2,031.    Elapsed: 0:01:10.\n",
      "  Batch    80  of  2,031.    Elapsed: 0:02:16.\n",
      "  Batch   120  of  2,031.    Elapsed: 0:03:18.\n",
      "  Batch   160  of  2,031.    Elapsed: 0:04:22.\n",
      "  Batch   200  of  2,031.    Elapsed: 0:05:27.\n",
      "  Batch   240  of  2,031.    Elapsed: 0:06:32.\n",
      "  Batch   280  of  2,031.    Elapsed: 0:07:33.\n",
      "  Batch   320  of  2,031.    Elapsed: 0:08:31.\n",
      "  Batch   360  of  2,031.    Elapsed: 0:09:33.\n",
      "  Batch   400  of  2,031.    Elapsed: 0:10:32.\n",
      "  Batch   440  of  2,031.    Elapsed: 0:11:32.\n",
      "  Batch   480  of  2,031.    Elapsed: 0:12:28.\n"
     ]
    },
    {
     "name": "stdout",
     "output_type": "stream",
     "text": [
      "  Batch   520  of  2,031.    Elapsed: 0:13:27.\n",
      "  Batch   560  of  2,031.    Elapsed: 0:14:24.\n",
      "  Batch   600  of  2,031.    Elapsed: 0:15:21.\n",
      "  Batch   640  of  2,031.    Elapsed: 0:16:16.\n",
      "  Batch   680  of  2,031.    Elapsed: 0:17:12.\n",
      "  Batch   720  of  2,031.    Elapsed: 0:18:08.\n",
      "  Batch   760  of  2,031.    Elapsed: 0:19:05.\n",
      "  Batch   800  of  2,031.    Elapsed: 0:19:58.\n",
      "  Batch   840  of  2,031.    Elapsed: 0:20:54.\n",
      "  Batch   880  of  2,031.    Elapsed: 0:21:51.\n",
      "  Batch   920  of  2,031.    Elapsed: 0:22:46.\n",
      "  Batch   960  of  2,031.    Elapsed: 0:23:43.\n",
      "  Batch 1,000  of  2,031.    Elapsed: 0:24:37.\n",
      "  Batch 1,040  of  2,031.    Elapsed: 0:25:33.\n",
      "  Batch 1,080  of  2,031.    Elapsed: 0:26:28.\n",
      "  Batch 1,120  of  2,031.    Elapsed: 0:27:23.\n",
      "  Batch 1,160  of  2,031.    Elapsed: 0:28:18.\n",
      "  Batch 1,200  of  2,031.    Elapsed: 0:29:11.\n",
      "  Batch 1,240  of  2,031.    Elapsed: 0:30:05.\n",
      "  Batch 1,280  of  2,031.    Elapsed: 0:30:56.\n",
      "  Batch 1,320  of  2,031.    Elapsed: 0:31:50.\n",
      "  Batch 1,360  of  2,031.    Elapsed: 0:32:45.\n",
      "  Batch 1,400  of  2,031.    Elapsed: 0:33:41.\n",
      "  Batch 1,440  of  2,031.    Elapsed: 0:34:36.\n",
      "  Batch 1,480  of  2,031.    Elapsed: 0:35:30.\n",
      "  Batch 1,520  of  2,031.    Elapsed: 0:36:22.\n",
      "  Batch 1,560  of  2,031.    Elapsed: 0:37:13.\n",
      "  Batch 1,600  of  2,031.    Elapsed: 0:38:07.\n",
      "  Batch 1,640  of  2,031.    Elapsed: 0:38:58.\n",
      "  Batch 1,680  of  2,031.    Elapsed: 0:39:52.\n",
      "  Batch 1,720  of  2,031.    Elapsed: 0:40:44.\n",
      "  Batch 1,760  of  2,031.    Elapsed: 0:41:36.\n",
      "  Batch 1,800  of  2,031.    Elapsed: 0:42:28.\n",
      "  Batch 1,840  of  2,031.    Elapsed: 0:43:20.\n",
      "  Batch 1,880  of  2,031.    Elapsed: 0:44:13.\n",
      "  Batch 1,920  of  2,031.    Elapsed: 0:45:04.\n",
      "  Batch 1,960  of  2,031.    Elapsed: 0:45:56.\n",
      "  Batch 2,000  of  2,031.    Elapsed: 0:46:49.\n",
      "\n",
      "  Average training loss: 0.00\n",
      "  Training epcoh took: 0:47:27\n",
      "\n",
      "Running Validation...\n",
      "  Accuracy: 0.99\n",
      "  Validation Loss: 0.09\n",
      "  Validation took: 0:02:00\n",
      "\n",
      "Training complete!\n",
      "Total training took 2:11:09 (h:mm:ss)\n"
     ]
    }
   ],
   "source": [
    "import random\n",
    "\n",
    "#Use a seed to ensure reproductibility\n",
    "seed_val = 22\n",
    "\n",
    "random.seed(seed_val)\n",
    "np.random.seed(seed_val)\n",
    "torch.manual_seed(seed_val)\n",
    "torch.cuda.manual_seed_all(seed_val)\n",
    "\n",
    "training_stats = []\n",
    "\n",
    "# Measure the total training time for the whole run.\n",
    "total_t0 = time.time()\n",
    "\n",
    "\n",
    "for epoch_i in range(0, epochs):\n",
    "    \n",
    "    print(\"\")\n",
    "    print('======== Epoch {:} / {:} ========'.format(epoch_i + 1, epochs))\n",
    "\n",
    "    # Measure how long the training epoch takes\n",
    "    t0 = time.time()\n",
    "\n",
    "    # Reset the total loss for this epoch\n",
    "    total_train_loss = 0\n",
    "\n",
    "    model.train()\n",
    "\n",
    "    for step, batch in enumerate(train_dataloader):\n",
    "\n",
    "        # Progress update every 40 batches\n",
    "        if step % 40 == 0 and not step == 0:\n",
    "            # Calculate elapsed time in minutes\n",
    "            elapsed = format_time(time.time() - t0)\n",
    "            \n",
    "            # Report progress\n",
    "            print('  Batch {:>5,}  of  {:>5,}.    Elapsed: {:}.'.format(step, len(train_dataloader), elapsed))\n",
    "\n",
    "        b_input_ids = batch[0].to(device) #copy each tensor to the GPU\n",
    "        b_input_mask = batch[1].to(device) #copy each tensor to the GPU\n",
    "        b_labels = batch[2].to(device) #copy each tensor to the GPU\n",
    "\n",
    "        model.zero_grad()        \n",
    "\n",
    "        # Perform forward pass \n",
    "        # Returns the loss (because we provided labels) and the \"logits\" - the model\n",
    "        # outputs prior to activation\n",
    "        loss, logits = model(b_input_ids, \n",
    "                             token_type_ids=None, \n",
    "                             attention_mask=b_input_mask, \n",
    "                             labels=b_labels)\n",
    "\n",
    "        total_train_loss += loss.item()\n",
    "        loss.backward()\n",
    "\n",
    "        # Clip the norm of the gradients to 1.0\n",
    "        # This is to help prevent the \"exploding gradients\" problem\n",
    "        torch.nn.utils.clip_grad_norm_(model.parameters(), 1.0)\n",
    "        optimizer.step()\n",
    "        scheduler.step() # Update the learning rate\n",
    "\n",
    "    avg_train_loss = total_train_loss / len(train_dataloader)            \n",
    "    \n",
    "    # Measure how long this epoch took\n",
    "    training_time = format_time(time.time() - t0)\n",
    "\n",
    "    print(\"\")\n",
    "    print(\"  Average training loss: {0:.2f}\".format(avg_train_loss))\n",
    "    print(\"  Training epcoh took: {:}\".format(training_time))\n",
    "\n",
    "    print(\"\")\n",
    "    print(\"Running Validation...\")\n",
    "\n",
    "    t0 = time.time()\n",
    "\n",
    "    model.eval()\n",
    "\n",
    "    # Tracking variables \n",
    "    total_eval_accuracy = 0\n",
    "    total_eval_loss = 0\n",
    "    nb_eval_steps = 0\n",
    "\n",
    "    for batch in validation_dataloader:\n",
    "        \n",
    "        b_input_ids = batch[0].to(device) #copy each tensor to the GPU\n",
    "        b_input_mask = batch[1].to(device) #copy each tensor to the GPU\n",
    "        b_labels = batch[2].to(device) #copy each tensor to the GPU\n",
    "        \n",
    "        # Tell pytorch not to bother with constructing the compute graph during\n",
    "        # the forward pass, since this is only needed for backprop (training).\n",
    "        with torch.no_grad():        \n",
    "            (loss, logits) = model(b_input_ids, \n",
    "                                   token_type_ids=None, \n",
    "                                   attention_mask=b_input_mask,\n",
    "                                   labels=b_labels)         \n",
    "        total_eval_loss += loss.item()\n",
    "\n",
    "        # Move logits and labels to CPU\n",
    "        logits = logits.detach().cpu().numpy()\n",
    "        label_ids = b_labels.to('cpu').numpy()\n",
    "\n",
    "        # Calculate the accuracy for this batch of test sentences, and\n",
    "        # accumulate it over all batches.\n",
    "        total_eval_accuracy += accuracy(logits, label_ids)\n",
    "        \n",
    "    # Report the final accuracy for this validation run\n",
    "    avg_val_accuracy = total_eval_accuracy / len(validation_dataloader)\n",
    "    print(\"  Accuracy: {0:.2f}\".format(avg_val_accuracy))\n",
    "\n",
    "    # Calculate the average loss over all of the batches\n",
    "    avg_val_loss = total_eval_loss / len(validation_dataloader)\n",
    "    \n",
    "    # Measure how long the validation run took\n",
    "    validation_time = format_time(time.time() - t0)\n",
    "    \n",
    "    print(\"  Validation Loss: {0:.2f}\".format(avg_val_loss))\n",
    "    print(\"  Validation took: {:}\".format(validation_time))\n",
    "\n",
    "    # Record all statistics from this epoch.\n",
    "    training_stats.append(\n",
    "        {\n",
    "            'epoch': epoch_i + 1,\n",
    "            'Training Loss': avg_train_loss,\n",
    "            'Valid. Loss': avg_val_loss,\n",
    "            'Valid. Accur.': avg_val_accuracy,\n",
    "            'Training Time': training_time,\n",
    "            'Validation Time': validation_time\n",
    "        }\n",
    "    )\n",
    "\n",
    "print(\"\")\n",
    "print(\"Training complete!\")\n",
    "\n",
    "print(\"Total training took {:} (h:mm:ss)\".format(format_time(time.time()-total_t0)))"
   ]
  },
  {
   "cell_type": "code",
   "execution_count": 63,
   "metadata": {
    "colab": {
     "base_uri": "https://localhost:8080/",
     "height": 198
    },
    "colab_type": "code",
    "id": "oPo7PBk9Poxn",
    "outputId": "f7ca4147-60e2-4819-ab6c-85c9ca717201"
   },
   "outputs": [
    {
     "data": {
      "text/html": [
       "<div>\n",
       "<style scoped>\n",
       "    .dataframe tbody tr th:only-of-type {\n",
       "        vertical-align: middle;\n",
       "    }\n",
       "\n",
       "    .dataframe tbody tr th {\n",
       "        vertical-align: top;\n",
       "    }\n",
       "\n",
       "    .dataframe thead th {\n",
       "        text-align: right;\n",
       "    }\n",
       "</style>\n",
       "<table border=\"1\" class=\"dataframe\">\n",
       "  <thead>\n",
       "    <tr style=\"text-align: right;\">\n",
       "      <th></th>\n",
       "      <th>Training Loss</th>\n",
       "      <th>Valid. Loss</th>\n",
       "      <th>Valid. Accur.</th>\n",
       "      <th>Training Time</th>\n",
       "      <th>Validation Time</th>\n",
       "    </tr>\n",
       "    <tr>\n",
       "      <th>epoch</th>\n",
       "      <th></th>\n",
       "      <th></th>\n",
       "      <th></th>\n",
       "      <th></th>\n",
       "      <th></th>\n",
       "    </tr>\n",
       "  </thead>\n",
       "  <tbody>\n",
       "    <tr>\n",
       "      <th>1</th>\n",
       "      <td>1.00e-01</td>\n",
       "      <td>0.06</td>\n",
       "      <td>0.99</td>\n",
       "      <td>0:17:48</td>\n",
       "      <td>0:00:56</td>\n",
       "    </tr>\n",
       "    <tr>\n",
       "      <th>2</th>\n",
       "      <td>2.84e-02</td>\n",
       "      <td>0.07</td>\n",
       "      <td>0.99</td>\n",
       "      <td>0:24:49</td>\n",
       "      <td>0:01:22</td>\n",
       "    </tr>\n",
       "    <tr>\n",
       "      <th>3</th>\n",
       "      <td>9.37e-03</td>\n",
       "      <td>0.08</td>\n",
       "      <td>0.99</td>\n",
       "      <td>0:33:51</td>\n",
       "      <td>0:02:56</td>\n",
       "    </tr>\n",
       "    <tr>\n",
       "      <th>4</th>\n",
       "      <td>2.70e-03</td>\n",
       "      <td>0.09</td>\n",
       "      <td>0.99</td>\n",
       "      <td>0:47:27</td>\n",
       "      <td>0:02:00</td>\n",
       "    </tr>\n",
       "  </tbody>\n",
       "</table>\n",
       "</div>"
      ],
      "text/plain": [
       "       Training Loss  Valid. Loss  Valid. Accur. Training Time Validation Time\n",
       "epoch                                                                         \n",
       "1           1.00e-01         0.06           0.99       0:17:48         0:00:56\n",
       "2           2.84e-02         0.07           0.99       0:24:49         0:01:22\n",
       "3           9.37e-03         0.08           0.99       0:33:51         0:02:56\n",
       "4           2.70e-03         0.09           0.99       0:47:27         0:02:00"
      ]
     },
     "execution_count": 63,
     "metadata": {},
     "output_type": "execute_result"
    }
   ],
   "source": [
    "pd.set_option('precision', 2)\n",
    "\n",
    "df_stats = pd.DataFrame(data=training_stats)\n",
    "\n",
    "df_stats = df_stats.set_index('epoch')\n",
    "\n",
    "df_stats"
   ]
  },
  {
   "cell_type": "code",
   "execution_count": 64,
   "metadata": {
    "colab": {},
    "colab_type": "code",
    "id": "toBHWDqLPwoR"
   },
   "outputs": [
    {
     "data": {
      "image/png": "[encoded data removed]",
      "text/plain": [
       "<Figure size 864x432 with 1 Axes>"
      ]
     },
     "metadata": {},
     "output_type": "display_data"
    }
   ],
   "source": [
    "sns.set(style='darkgrid')\n",
    "\n",
    "sns.set(font_scale=0.5)\n",
    "plt.rcParams[\"figure.figsize\"] = (12,6)\n",
    "\n",
    "plt.plot(df_stats['Training Loss'], 'b-o', label=\"Training\")\n",
    "plt.plot(df_stats['Valid. Loss'], 'g-o', label=\"Validation\")\n",
    "\n",
    "plt.title(\"Training & Validation Loss\")\n",
    "plt.xlabel(\"Epoch\")\n",
    "plt.ylabel(\"Loss\")\n",
    "plt.legend()\n",
    "plt.xticks([1, 2, 3, 4])\n",
    "\n",
    "plt.show()"
   ]
  },
  {
   "cell_type": "code",
   "execution_count": 65,
   "metadata": {
    "colab": {},
    "colab_type": "code",
    "id": "QViYaMjJQTsO"
   },
   "outputs": [],
   "source": [
    "model.eval()\n",
    "\n",
    "predictions , true_labels = [], []\n",
    "\n",
    "for batch in test_dataloader:\n",
    "  batch = tuple(t.to(device) for t in batch)\n",
    "  \n",
    "  b_input_ids, b_input_mask, b_labels = batch\n",
    "  \n",
    "  # Telling the model not to compute or store gradients, saving memory and \n",
    "  # speeding up prediction\n",
    "  with torch.no_grad():\n",
    "      # Forward pass, calculate logit predictions\n",
    "      outputs = model(b_input_ids, token_type_ids=None, \n",
    "                      attention_mask=b_input_mask)\n",
    "\n",
    "  logits = outputs[0]\n",
    "\n",
    "  # Move logits and labels to CPU\n",
    "  logits = logits.detach().cpu().numpy()\n",
    "  label_ids = b_labels.to('cpu').numpy()\n",
    "  \n",
    "  # Store predictions and true labels\n",
    "  predictions.append(logits)\n",
    "  true_labels.append(label_ids)"
   ]
  },
  {
   "cell_type": "code",
   "execution_count": 66,
   "metadata": {
    "colab": {
     "base_uri": "https://localhost:8080/",
     "height": 86
    },
    "colab_type": "code",
    "id": "SkbnfmDQlTBC",
    "outputId": "d5c0eedb-0d37-45a8-dce2-85a343ca41ed"
   },
   "outputs": [
    {
     "name": "stdout",
     "output_type": "stream",
     "text": [
      "Accuracy is: 0.9927801724137931\n",
      "Mean Squared Error is: 0.08496956858903602\n",
      "[[4440   43]\n",
      " [  24 4773]]\n"
     ]
    }
   ],
   "source": [
    "flat_predictions = np.concatenate(predictions, axis=0)\n",
    "\n",
    "# For each sample, pick the label (0 or 1) with the higher score.\n",
    "flat_predictions = np.argmax(flat_predictions, axis=1).flatten()\n",
    "\n",
    "# Combine the correct labels for each batch into a single list.\n",
    "flat_true_labels = np.concatenate(true_labels, axis=0)\n",
    "\n",
    "print(\"Accuracy is:\", metrics.accuracy_score(flat_predictions,flat_true_labels))\n",
    "print(\"Mean Squared Error is:\", np.sqrt(mean_squared_error(flat_predictions, flat_true_labels)))\n",
    "b_cm = metrics.confusion_matrix(flat_predictions,flat_true_labels)\n",
    "print(b_cm)"
   ]
  },
  {
   "cell_type": "code",
   "execution_count": 67,
   "metadata": {
    "colab": {
     "base_uri": "https://localhost:8080/",
     "height": 385
    },
    "colab_type": "code",
    "id": "XLX1Vyd3m-O5",
    "outputId": "2860543f-9fdf-4e06-8e19-ec7047048c13"
   },
   "outputs": [
    {
     "data": {
      "image/png": "[encoded data removed]",
      "text/plain": [
       "<Figure size 864x432 with 2 Axes>"
      ]
     },
     "metadata": {},
     "output_type": "display_data"
    }
   ],
   "source": [
    "labels = np.array(b_cm)\n",
    "sns.heatmap(b_cm, annot=labels, fmt = '')\n",
    "plt.show()"
   ]
  },
  {
   "cell_type": "code",
   "execution_count": 69,
   "metadata": {
    "colab": {
     "base_uri": "https://localhost:8080/",
     "height": 190
    },
    "colab_type": "code",
    "id": "8eSz1FqVpYEI",
    "outputId": "318b7e69-e18d-4bc4-e1ec-ccf121d35e7c"
   },
   "outputs": [
    {
     "name": "stdout",
     "output_type": "stream",
     "text": [
      "0.9927025409172056\n",
      "              precision    recall  f1-score   support\n",
      "\n",
      "           0       0.99      0.99      0.99      4483\n",
      "           1       0.99      0.99      0.99      4797\n",
      "\n",
      "    accuracy                           0.99      9280\n",
      "   macro avg       0.99      0.99      0.99      9280\n",
      "weighted avg       0.99      0.99      0.99      9280\n",
      "\n"
     ]
    }
   ],
   "source": [
    "print (metrics.roc_auc_score(flat_predictions, flat_true_labels))\n",
    "print(metrics.classification_report(flat_predictions, flat_true_labels))"
   ]
  },
  {
   "cell_type": "code",
   "execution_count": null,
   "metadata": {},
   "outputs": [],
   "source": []
  }
 ],
 "metadata": {
  "accelerator": "GPU",
  "colab": {
   "collapsed_sections": [
    "srnkYN3XtBG7",
    "0ZPB0nmx_nzT",
    "QWx3UslRs5_Z",
    "1KrfWuvMs8dP"
   ],
   "name": "Modeling.ipynb",
   "provenance": [],
   "toc_visible": true
  },
  "kernelspec": {
   "display_name": "Python 3",
   "language": "python",
   "name": "python3"
  },
  "language_info": {
   "codemirror_mode": {
    "name": "ipython",
    "version": 3
   },
   "file_extension": ".py",
   "mimetype": "text/x-python",
   "name": "python",
   "nbconvert_exporter": "python",
   "pygments_lexer": "ipython3",
   "version": "3.6.9"
  },
  "widgets": {
   "application/vnd.jupyter.widget-state+json": {
    "0ab27068e3434e97a119812517ac3c0b": {
     "model_module": "@jupyter-widgets/controls",
     "model_name": "ProgressStyleModel",
     "state": {
      "_model_module": "@jupyter-widgets/controls",
      "_model_module_version": "1.5.0",
      "_model_name": "ProgressStyleModel",
      "_view_count": null,
      "_view_module": "@jupyter-widgets/base",
      "_view_module_version": "1.2.0",
      "_view_name": "StyleView",
      "bar_color": null,
      "description_width": "initial"
     }
    },
    "26b137ad3f174023a302bddf59b81900": {
     "model_module": "@jupyter-widgets/controls",
     "model_name": "IntProgressModel",
     "state": {
      "_dom_classes": [],
      "_model_module": "@jupyter-widgets/controls",
      "_model_module_version": "1.5.0",
      "_model_name": "IntProgressModel",
      "_view_count": null,
      "_view_module": "@jupyter-widgets/controls",
      "_view_module_version": "1.5.0",
      "_view_name": "ProgressView",
      "bar_style": "success",
      "description": "Downloading: 100%",
      "description_tooltip": null,
      "layout": "IPY_MODEL_6232b8b4f2d047218bd49978714a12be",
      "max": 231508,
      "min": 0,
      "orientation": "horizontal",
      "style": "IPY_MODEL_0ab27068e3434e97a119812517ac3c0b",
      "value": 231508
     }
    },
    "2a83c1ae880b4db1964b74643c778851": {
     "model_module": "@jupyter-widgets/base",
     "model_name": "LayoutModel",
     "state": {
      "_model_module": "@jupyter-widgets/base",
      "_model_module_version": "1.2.0",
      "_model_name": "LayoutModel",
      "_view_count": null,
      "_view_module": "@jupyter-widgets/base",
      "_view_module_version": "1.2.0",
      "_view_name": "LayoutView",
      "align_content": null,
      "align_items": null,
      "align_self": null,
      "border": null,
      "bottom": null,
      "display": null,
      "flex": null,
      "flex_flow": null,
      "grid_area": null,
      "grid_auto_columns": null,
      "grid_auto_flow": null,
      "grid_auto_rows": null,
      "grid_column": null,
      "grid_gap": null,
      "grid_row": null,
      "grid_template_areas": null,
      "grid_template_columns": null,
      "grid_template_rows": null,
      "height": null,
      "justify_content": null,
      "justify_items": null,
      "left": null,
      "margin": null,
      "max_height": null,
      "max_width": null,
      "min_height": null,
      "min_width": null,
      "object_fit": null,
      "object_position": null,
      "order": null,
      "overflow": null,
      "overflow_x": null,
      "overflow_y": null,
      "padding": null,
      "right": null,
      "top": null,
      "visibility": null,
      "width": null
     }
    },
    "4146c4dd98fe415cb9026492d1ff22e2": {
     "model_module": "@jupyter-widgets/controls",
     "model_name": "HTMLModel",
     "state": {
      "_dom_classes": [],
      "_model_module": "@jupyter-widgets/controls",
      "_model_module_version": "1.5.0",
      "_model_name": "HTMLModel",
      "_view_count": null,
      "_view_module": "@jupyter-widgets/controls",
      "_view_module_version": "1.5.0",
      "_view_name": "HTMLView",
      "description": "",
      "description_tooltip": null,
      "layout": "IPY_MODEL_2a83c1ae880b4db1964b74643c778851",
      "placeholder": "​",
      "style": "IPY_MODEL_ab590566b5fa4726b27579b9049b17d6",
      "value": " 232k/232k [00:00&lt;00:00, 253kB/s]"
     }
    },
    "527409c0cfc649f8a7c92e763144b08c": {
     "model_module": "@jupyter-widgets/base",
     "model_name": "LayoutModel",
     "state": {
      "_model_module": "@jupyter-widgets/base",
      "_model_module_version": "1.2.0",
      "_model_name": "LayoutModel",
      "_view_count": null,
      "_view_module": "@jupyter-widgets/base",
      "_view_module_version": "1.2.0",
      "_view_name": "LayoutView",
      "align_content": null,
      "align_items": null,
      "align_self": null,
      "border": null,
      "bottom": null,
      "display": null,
      "flex": null,
      "flex_flow": null,
      "grid_area": null,
      "grid_auto_columns": null,
      "grid_auto_flow": null,
      "grid_auto_rows": null,
      "grid_column": null,
      "grid_gap": null,
      "grid_row": null,
      "grid_template_areas": null,
      "grid_template_columns": null,
      "grid_template_rows": null,
      "height": null,
      "justify_content": null,
      "justify_items": null,
      "left": null,
      "margin": null,
      "max_height": null,
      "max_width": null,
      "min_height": null,
      "min_width": null,
      "object_fit": null,
      "object_position": null,
      "order": null,
      "overflow": null,
      "overflow_x": null,
      "overflow_y": null,
      "padding": null,
      "right": null,
      "top": null,
      "visibility": null,
      "width": null
     }
    },
    "6232b8b4f2d047218bd49978714a12be": {
     "model_module": "@jupyter-widgets/base",
     "model_name": "LayoutModel",
     "state": {
      "_model_module": "@jupyter-widgets/base",
      "_model_module_version": "1.2.0",
      "_model_name": "LayoutModel",
      "_view_count": null,
      "_view_module": "@jupyter-widgets/base",
      "_view_module_version": "1.2.0",
      "_view_name": "LayoutView",
      "align_content": null,
      "align_items": null,
      "align_self": null,
      "border": null,
      "bottom": null,
      "display": null,
      "flex": null,
      "flex_flow": null,
      "grid_area": null,
      "grid_auto_columns": null,
      "grid_auto_flow": null,
      "grid_auto_rows": null,
      "grid_column": null,
      "grid_gap": null,
      "grid_row": null,
      "grid_template_areas": null,
      "grid_template_columns": null,
      "grid_template_rows": null,
      "height": null,
      "justify_content": null,
      "justify_items": null,
      "left": null,
      "margin": null,
      "max_height": null,
      "max_width": null,
      "min_height": null,
      "min_width": null,
      "object_fit": null,
      "object_position": null,
      "order": null,
      "overflow": null,
      "overflow_x": null,
      "overflow_y": null,
      "padding": null,
      "right": null,
      "top": null,
      "visibility": null,
      "width": null
     }
    },
    "74b38c71a0bf429b9410639ad163f05c": {
     "model_module": "@jupyter-widgets/controls",
     "model_name": "HBoxModel",
     "state": {
      "_dom_classes": [],
      "_model_module": "@jupyter-widgets/controls",
      "_model_module_version": "1.5.0",
      "_model_name": "HBoxModel",
      "_view_count": null,
      "_view_module": "@jupyter-widgets/controls",
      "_view_module_version": "1.5.0",
      "_view_name": "HBoxView",
      "box_style": "",
      "children": [
       "IPY_MODEL_26b137ad3f174023a302bddf59b81900",
       "IPY_MODEL_4146c4dd98fe415cb9026492d1ff22e2"
      ],
      "layout": "IPY_MODEL_527409c0cfc649f8a7c92e763144b08c"
     }
    },
    "ab590566b5fa4726b27579b9049b17d6": {
     "model_module": "@jupyter-widgets/controls",
     "model_name": "DescriptionStyleModel",
     "state": {
      "_model_module": "@jupyter-widgets/controls",
      "_model_module_version": "1.5.0",
      "_model_name": "DescriptionStyleModel",
      "_view_count": null,
      "_view_module": "@jupyter-widgets/base",
      "_view_module_version": "1.2.0",
      "_view_name": "StyleView",
      "description_width": ""
     }
    }
   }
  }
 },
 "nbformat": 4,
 "nbformat_minor": 1
}
