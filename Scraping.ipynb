{
 "cells": [
  {
   "cell_type": "markdown",
   "metadata": {
    "colab_type": "text",
    "id": "qbLARzOqft-2"
   },
   "source": [
    "### **Scraping**"
   ]
  },
  {
   "cell_type": "markdown",
   "metadata": {
    "colab_type": "text",
    "id": "G25rkbKcfrcQ"
   },
   "source": [
    "This is not my scraper. I utilized code from https://holwech.github.io/blog/Automatic-news-scraper/ since I wanted to add some more recent articles to my dataset. However, I modified some of the code so that I could scrape more articles than the scraper was originally scraping."
   ]
  },
  {
   "cell_type": "code",
   "execution_count": 3,
   "metadata": {
    "colab": {},
    "colab_type": "code",
    "id": "j6MRVrxXFxzc"
   },
   "outputs": [
    {
     "name": "stdout",
     "output_type": "stream",
     "text": [
      "Defaulting to user installation because normal site-packages is not writeable\n",
      "Requirement already satisfied: feedparser in /home/nabarun/.local/lib/python3.6/site-packages (5.2.1)\n",
      "\u001b[33mWARNING: You are using pip version 20.2.4; however, version 20.3.3 is available.\n",
      "You should consider upgrading via the '/usr/bin/python3 -m pip install --upgrade pip' command.\u001b[0m\n"
     ]
    }
   ],
   "source": [
    "!pip3 install feedparser"
   ]
  },
  {
   "cell_type": "code",
   "execution_count": 4,
   "metadata": {
    "colab": {},
    "colab_type": "code",
    "id": "kt3beinUHPOp"
   },
   "outputs": [
    {
     "name": "stdout",
     "output_type": "stream",
     "text": [
      "Defaulting to user installation because normal site-packages is not writeable\n",
      "Requirement already satisfied: newspaper3k in /home/nabarun/.local/lib/python3.6/site-packages (0.2.8)\n",
      "Requirement already satisfied: requests>=2.10.0 in /home/nabarun/.local/lib/python3.6/site-packages (from newspaper3k) (2.24.0)\n",
      "Requirement already satisfied: python-dateutil>=2.5.3 in /home/nabarun/.local/lib/python3.6/site-packages (from newspaper3k) (2.8.0)\n",
      "Requirement already satisfied: tldextract>=2.0.1 in /home/nabarun/.local/lib/python3.6/site-packages (from newspaper3k) (2.2.1)\n",
      "Requirement already satisfied: cssselect>=0.9.2 in /home/nabarun/.local/lib/python3.6/site-packages (from newspaper3k) (1.0.3)\n",
      "Requirement already satisfied: PyYAML>=3.11 in /home/nabarun/.local/lib/python3.6/site-packages (from newspaper3k) (5.1)\n",
      "Requirement already satisfied: feedfinder2>=0.0.4 in /home/nabarun/.local/lib/python3.6/site-packages (from newspaper3k) (0.0.4)\n",
      "Requirement already satisfied: jieba3k>=0.35.1 in /home/nabarun/.local/lib/python3.6/site-packages (from newspaper3k) (0.35.1)\n",
      "Requirement already satisfied: lxml>=3.6.0 in /home/nabarun/.local/lib/python3.6/site-packages (from newspaper3k) (4.3.2)\n",
      "Requirement already satisfied: nltk>=3.2.1 in /home/nabarun/.local/lib/python3.6/site-packages (from newspaper3k) (3.4)\n",
      "Requirement already satisfied: Pillow>=3.3.0 in /home/nabarun/.local/lib/python3.6/site-packages (from newspaper3k) (5.4.1)\n",
      "Requirement already satisfied: feedparser>=5.2.1 in /home/nabarun/.local/lib/python3.6/site-packages (from newspaper3k) (5.2.1)\n",
      "Requirement already satisfied: beautifulsoup4>=4.4.1 in /home/nabarun/.local/lib/python3.6/site-packages (from newspaper3k) (4.7.1)\n",
      "Requirement already satisfied: tinysegmenter==0.3 in /home/nabarun/.local/lib/python3.6/site-packages (from newspaper3k) (0.3)\n",
      "Requirement already satisfied: idna<3,>=2.5 in /home/nabarun/.local/lib/python3.6/site-packages (from requests>=2.10.0->newspaper3k) (2.8)\n",
      "Requirement already satisfied: chardet<4,>=3.0.2 in /home/nabarun/.local/lib/python3.6/site-packages (from requests>=2.10.0->newspaper3k) (3.0.4)\n",
      "Requirement already satisfied: certifi>=2017.4.17 in /home/nabarun/.local/lib/python3.6/site-packages (from requests>=2.10.0->newspaper3k) (2020.6.20)\n",
      "Requirement already satisfied: urllib3!=1.25.0,!=1.25.1,<1.26,>=1.21.1 in /home/nabarun/.local/lib/python3.6/site-packages (from requests>=2.10.0->newspaper3k) (1.25.11)\n",
      "Requirement already satisfied: six>=1.5 in /home/nabarun/.local/lib/python3.6/site-packages (from python-dateutil>=2.5.3->newspaper3k) (1.12.0)\n",
      "Requirement already satisfied: setuptools in /home/nabarun/.local/lib/python3.6/site-packages (from tldextract>=2.0.1->newspaper3k) (50.3.2)\n",
      "Requirement already satisfied: requests-file>=1.4 in /home/nabarun/.local/lib/python3.6/site-packages (from tldextract>=2.0.1->newspaper3k) (1.4.3)\n",
      "Requirement already satisfied: singledispatch in /home/nabarun/.local/lib/python3.6/site-packages (from nltk>=3.2.1->newspaper3k) (3.4.0.3)\n",
      "Requirement already satisfied: soupsieve>=1.2 in /home/nabarun/.local/lib/python3.6/site-packages (from beautifulsoup4>=4.4.1->newspaper3k) (1.8)\n",
      "\u001b[33mWARNING: You are using pip version 20.2.4; however, version 20.3.3 is available.\n",
      "You should consider upgrading via the '/usr/bin/python3 -m pip install --upgrade pip' command.\u001b[0m\n"
     ]
    }
   ],
   "source": [
    "!pip3 install newspaper3k"
   ]
  },
  {
   "cell_type": "code",
   "execution_count": 6,
   "metadata": {
    "colab": {
     "base_uri": "https://localhost:8080/",
     "height": 124
    },
    "colab_type": "code",
    "id": "diQAzNIjGxqN",
    "outputId": "612ee26b-e8a6-4bdf-fc77-67b02d1dc222"
   },
   "outputs": [],
   "source": [
    "import os\n",
    "# from google.colab import drive\n",
    "\n",
    "# Mount google drive\n",
    "DRIVE_MOUNT='./'\n",
    "# drive.mount(DRIVE_MOUNT)\n",
    "\n",
    "# create folder to write data to\n",
    "DLNLP_FOLDER=os.path.join(DRIVE_MOUNT, 'My Drive', 'DLNLP_2020')\n",
    "HOMEWORK_FOLDER=os.path.join(DLNLP_FOLDER, 'Project')\n",
    "os.makedirs(HOMEWORK_FOLDER, exist_ok=True)"
   ]
  },
  {
   "cell_type": "code",
   "execution_count": 4,
   "metadata": {
    "colab": {},
    "colab_type": "code",
    "id": "wIpGURz6ZkHi"
   },
   "outputs": [],
   "source": [
    "import json"
   ]
  },
  {
   "cell_type": "code",
   "execution_count": 2,
   "metadata": {
    "colab": {},
    "colab_type": "code",
    "id": "0cPCU4uvJWYp"
   },
   "outputs": [],
   "source": [
    "dictionary = {\n",
    "  \"cnn\": {\n",
    "    \"link\": \"http://edition.cnn.com/\"\n",
    "  },\n",
    "  \"bbc\": {\n",
    "    \"rss\": \"http://feeds.bbci.co.uk/news/rss.xml\",\n",
    "    \"link\": \"http://www.bbc.com/\"\n",
    "  },\n",
    "  \"theguardian\": {\n",
    "    \"rss\": \"https://www.theguardian.com/uk/rss\",\n",
    "    \"link\": \"https://www.theguardian.com/international\"\n",
    "  },\n",
    "  \"breitbart\": {\n",
    "    \"link\": \"http://www.breitbart.com/\"\n",
    "  },\n",
    "  \"infowars\": {\n",
    "    \"link\": \"https://www.infowars.com/\"\n",
    "  },\n",
    "  \"foxnews\": {\n",
    "    \"link\": \"http://www.foxnews.com/\"\n",
    "  },\n",
    "  \"nbcnews\": {\n",
    "    \"link\": \"http://www.nbcnews.com/\"\n",
    "  },\n",
    "  \"washingtonpost\": {\n",
    "    \"rss\": \"http://feeds.washingtonpost.com/rss/world\",\n",
    "    \"link\": \"https://www.washingtonpost.com/\"\n",
    "  },\n",
    "  \"theonion\": {\n",
    "      \"rss\": \"https://www.theonion.com/rss\",\n",
    "    \"link\": \"http://www.theonion.com/\"\n",
    "  }\n",
    "}"
   ]
  },
  {
   "cell_type": "code",
   "execution_count": 5,
   "metadata": {
    "colab": {},
    "colab_type": "code",
    "id": "RxJaxXKwZBmP"
   },
   "outputs": [],
   "source": [
    "json_object = json.dumps(dictionary, indent = 4) "
   ]
  },
  {
   "cell_type": "code",
   "execution_count": 7,
   "metadata": {
    "colab": {},
    "colab_type": "code",
    "id": "a1l1mxQdJWuZ"
   },
   "outputs": [],
   "source": [
    "with open(\"NewsPapers.json\", \"w\") as outfile: \n",
    "    outfile.write(json_object) "
   ]
  },
  {
   "cell_type": "code",
   "execution_count": 8,
   "metadata": {
    "colab": {},
    "colab_type": "code",
    "id": "OcruXn0JEGv0",
    "scrolled": true
   },
   "outputs": [
    {
     "name": "stdout",
     "output_type": "stream",
     "text": [
      "Downloading articles from  theonion\n",
      "1 articles downloaded from theonion , url:  https://local.theonion.com/spatter-analyst-finally-working-with-blood-after-years-1846070424\n",
      "2 articles downloaded from theonion , url:  https://www.theonion.com/god-blindsided-after-illegitimate-son-from-andromeda-ga-1846069193\n",
      "3 articles downloaded from theonion , url:  https://www.theonion.com/seth-rich-conspiracy-theorists-publicly-apologize-as-pa-1846069164\n",
      "4 articles downloaded from theonion , url:  https://entertainment.theonion.com/vince-gilligan-reunites-with-bryan-cranston-for-new-bre-1846071138\n",
      "5 articles downloaded from theonion , url:  https://www.theonion.com/mlb-beginning-to-suspect-pirates-just-a-mob-front-1846067072\n",
      "6 articles downloaded from theonion , url:  https://www.theonion.com/lady-gaga-j-lo-to-perform-at-biden-inauguration-1846069106\n",
      "7 articles downloaded from theonion , url:  https://politics.theonion.com/she-s-now-eating-a-muffin-in-the-commissary-posts-co-1846067955\n",
      "8 articles downloaded from theonion , url:  https://www.theonion.com/u-s-mint-introduces-new-seven-cent-coin-to-bolster-cit-1845108468\n",
      "9 articles downloaded from theonion , url:  https://www.theonion.com/nation-enters-new-phase-of-vaccine-distribution-where-c-1846067570\n",
      "10 articles downloaded from theonion , url:  https://www.theonion.com/wikipedia-turns-20-1846062024\n",
      "11 articles downloaded from theonion , url:  https://www.theonion.com/ac-unit-propped-up-by-bricks-dangling-precipitously-fro-1846065421\n",
      "12 articles downloaded from theonion , url:  https://www.theonion.com/animal-shelter-s-free-adoption-day-not-even-that-good-o-1846065377\n",
      "13 articles downloaded from theonion , url:  https://www.theonion.com/former-michigan-governor-charged-in-flint-water-crisis-1846061059\n",
      "14 articles downloaded from theonion , url:  https://www.theonion.com/matt-gaetz-forced-to-host-hundreds-of-white-nationalist-1846059413\n",
      "15 articles downloaded from theonion , url:  https://www.theonion.com/airbnb-blocks-all-d-c-bookings-ahead-of-inauguration-1846059961\n",
      "16 articles downloaded from theonion , url:  https://www.theonion.com/forward-thinking-ceo-hoping-company-can-capture-new-aud-1846058985\n",
      "17 articles downloaded from theonion , url:  https://sports.theonion.com/the-greatest-nfl-coaches-of-all-time-1846051440\n",
      "18 articles downloaded from theonion , url:  https://sports.theonion.com/charles-barkley-blasts-today-s-fragile-nba-players-who-1846058145\n",
      "19 articles downloaded from theonion , url:  https://www.theonion.com/tips-for-dealing-with-bad-neighbors-1846057214\n",
      "20 articles downloaded from theonion , url:  https://www.theonion.com/shocked-authorities-discover-dozens-of-bodies-being-kep-1846057113\n",
      "21 articles downloaded from theonion , url:  https://www.theonion.com/national-guard-may-deploy-up-to-20-000-troops-to-dc-for-1846053032\n",
      "22 articles downloaded from theonion , url:  https://www.theonion.com/citigroup-begrudgingly-keeps-funding-marco-rubio-after-1846053257\n",
      "23 articles downloaded from theonion , url:  https://www.theonion.com/officials-trace-slow-vaccine-rollout-to-sweet-old-ladie-1846051582\n",
      "24 articles downloaded from theonion , url:  https://www.theonion.com/indifferent-nation-didn-t-even-notice-metal-shards-in-r-1846052670\n",
      "25 articles downloaded from theonion , url:  https://ogn.theonion.com/still-time-the-ps5s-in-this-ancient-cave-painting-fore-1846051672\n"
     ]
    }
   ],
   "source": [
    "import feedparser as fp\n",
    "import json\n",
    "import newspaper\n",
    "from newspaper import Article\n",
    "from time import mktime\n",
    "from datetime import datetime\n",
    "\n",
    "# Set the limit for number of articles to download\n",
    "LIMIT = 14500\n",
    "\n",
    "data = {}\n",
    "data['newspapers'] = {}\n",
    "\n",
    "# Loads the JSON files with news sites\n",
    "with open('NewsPapers.json') as data_file:\n",
    "    companies = json.load(data_file)\n",
    "\n",
    "count = 1\n",
    "\n",
    "# Iterate through each news company\n",
    "for company, value in companies.items():\n",
    "    # If a RSS link is provided in the JSON file, this will be the first choice.\n",
    "    # Reason for this is that, RSS feeds often give more consistent and correct data.\n",
    "    # If you do not want to scrape from the RSS-feed, just leave the RSS attr empty in the JSON file.\n",
    "    if 'rss' in value:\n",
    "        d = fp.parse(value['rss'])\n",
    "        print(\"Downloading articles from \", company)\n",
    "        newsPaper = {\n",
    "            \"rss\": value['rss'],\n",
    "            \"link\": value['link'],\n",
    "            \"articles\": []\n",
    "        }\n",
    "        for entry in d.entries:\n",
    "            # Check if publish date is provided, if no the article is skipped.\n",
    "            # This is done to keep consistency in the data and to keep the script from crashing.\n",
    "            if hasattr(entry, 'published'):\n",
    "                if count > LIMIT:\n",
    "                    break\n",
    "                article = {}\n",
    "                article['link'] = entry.link\n",
    "                date = entry.published_parsed\n",
    "                article['published'] = datetime.fromtimestamp(mktime(date)).isoformat()\n",
    "                try:\n",
    "                    content = Article(entry.link)\n",
    "                    content.download()\n",
    "                    content.parse()\n",
    "                except Exception as e:\n",
    "                    # If the download for some reason fails (ex. 404) the script will continue downloading\n",
    "                    # the next article.\n",
    "                    print(e)\n",
    "                    print(\"continuing...\")\n",
    "                    continue\n",
    "                article['title'] = content.title\n",
    "                article['text'] = content.text\n",
    "                newsPaper['articles'].append(article)\n",
    "                print(count, \"articles downloaded from\", company, \", url: \", entry.link)\n",
    "                count = count + 1\n",
    "    else:\n",
    "        # This is the fallback method if a RSS-feed link is not provided.\n",
    "        # It uses the python newspaper library to extract articles\n",
    "        print(\"Building site for \", company)\n",
    "        paper = newspaper.build(value['link'], memoize_articles=False)\n",
    "        newsPaper = {\n",
    "            \"link\": value['link'],\n",
    "            \"articles\": []\n",
    "        }\n",
    "        noneTypeCount = 0\n",
    "        for content in paper.articles:\n",
    "            if count > LIMIT:\n",
    "                break\n",
    "            try:\n",
    "                content.download()\n",
    "                content.parse()\n",
    "            except Exception as e:\n",
    "                print(e)\n",
    "                print(\"continuing...\")\n",
    "                continue\n",
    "            # Again, for consistency, if there is no found publish date the article will be skipped.\n",
    "            # After 10 downloaded articles from the same newspaper without publish date, the company will be skipped.\n",
    "            if content.publish_date is None:\n",
    "                print(count, \" Article has date of type None...\")\n",
    "                noneTypeCount = noneTypeCount + 1\n",
    "                if noneTypeCount > 100:\n",
    "                    print(\"Too many noneType dates, aborting...\")\n",
    "                    noneTypeCount = 0\n",
    "                    break\n",
    "                count = count + 1\n",
    "                continue\n",
    "            article = {}\n",
    "            article['title'] = content.title\n",
    "            article['text'] = content.text\n",
    "            article['link'] = content.url\n",
    "            article['published'] = content.publish_date.isoformat()\n",
    "            newsPaper['articles'].append(article)\n",
    "            print(count, \"articles downloaded from\", company, \" using newspaper, url: \", content.url)\n",
    "            count = count + 1\n",
    "            noneTypeCount = 0\n",
    "    count = 1\n",
    "    data['newspapers'][company] = newsPaper\n",
    "\n",
    "# Finally it saves the articles as a JSON-file.\n",
    "try:\n",
    "    with open('scraped_articles.json', 'w') as outfile:\n",
    "        json.dump(data, outfile)\n",
    "except Exception as e: print(e)"
   ]
  },
  {
   "cell_type": "code",
   "execution_count": 11,
   "metadata": {
    "colab": {},
    "colab_type": "code",
    "id": "HjbEIgFDH9y8"
   },
   "outputs": [],
   "source": [
    "with open('scraped_articles.json') as json_data:\n",
    "    d = json.load(json_data)"
   ]
  },
  {
   "cell_type": "code",
   "execution_count": 12,
   "metadata": {
    "colab": {
     "base_uri": "https://localhost:8080/",
     "height": 173
    },
    "colab_type": "code",
    "id": "RwZSsyj_IqgS",
    "outputId": "91ba5abd-a643-40b3-9532-7437cfb62282"
   },
   "outputs": [
    {
     "name": "stdout",
     "output_type": "stream",
     "text": [
      "0 theonion\n"
     ]
    }
   ],
   "source": [
    "for i, site in enumerate((list(d['newspapers']))):\n",
    "    print(i, site)"
   ]
  },
  {
   "cell_type": "code",
   "execution_count": 13,
   "metadata": {
    "colab": {},
    "colab_type": "code",
    "id": "Z870rTwYIt58"
   },
   "outputs": [],
   "source": [
    "import pandas as pd\n",
    "for i, site in enumerate((list(d['newspapers']))):\n",
    "    articles = list(d['newspapers'][site]['articles'])\n",
    "    if i == 0:\n",
    "        df = pd.DataFrame.from_dict(articles)\n",
    "        df[\"site\"] = site\n",
    "    else:\n",
    "        new_df = pd.DataFrame.from_dict(articles)\n",
    "        new_df[\"site\"] = site\n",
    "        df = pd.concat([df, new_df], ignore_index = True)     "
   ]
  },
  {
   "cell_type": "code",
   "execution_count": 14,
   "metadata": {
    "colab": {
     "base_uri": "https://localhost:8080/",
     "height": 35
    },
    "colab_type": "code",
    "id": "A-iiY1uWIweF",
    "outputId": "569559ff-89e6-484b-a5d5-b3aa11e16af5"
   },
   "outputs": [
    {
     "data": {
      "text/plain": [
       "(25, 5)"
      ]
     },
     "execution_count": 14,
     "metadata": {},
     "output_type": "execute_result"
    }
   ],
   "source": [
    "df.shape"
   ]
  },
  {
   "cell_type": "code",
   "execution_count": 15,
   "metadata": {
    "colab": {
     "base_uri": "https://localhost:8080/",
     "height": 787
    },
    "colab_type": "code",
    "id": "WyXeL62_I2LY",
    "outputId": "7d3a20c9-7834-46f1-b654-8c6533e2a039"
   },
   "outputs": [
    {
     "data": {
      "text/html": [
       "<div>\n",
       "<style scoped>\n",
       "    .dataframe tbody tr th:only-of-type {\n",
       "        vertical-align: middle;\n",
       "    }\n",
       "\n",
       "    .dataframe tbody tr th {\n",
       "        vertical-align: top;\n",
       "    }\n",
       "\n",
       "    .dataframe thead th {\n",
       "        text-align: right;\n",
       "    }\n",
       "</style>\n",
       "<table border=\"1\" class=\"dataframe\">\n",
       "  <thead>\n",
       "    <tr style=\"text-align: right;\">\n",
       "      <th></th>\n",
       "      <th>link</th>\n",
       "      <th>published</th>\n",
       "      <th>title</th>\n",
       "      <th>text</th>\n",
       "      <th>site</th>\n",
       "    </tr>\n",
       "  </thead>\n",
       "  <tbody>\n",
       "    <tr>\n",
       "      <th>0</th>\n",
       "      <td>https://local.theonion.com/spatter-analyst-fin...</td>\n",
       "      <td>2021-01-18T14:02:00</td>\n",
       "      <td>Spatter Analyst Finally Working With Blood Aft...</td>\n",
       "      <td>NEW YORK—Happy to move on to the next phase of...</td>\n",
       "      <td>theonion</td>\n",
       "    </tr>\n",
       "    <tr>\n",
       "      <th>1</th>\n",
       "      <td>https://www.theonion.com/god-blindsided-after-...</td>\n",
       "      <td>2021-01-18T14:00:00</td>\n",
       "      <td>God Blindsided After Illegitimate Son From And...</td>\n",
       "      <td>THE HEAVENS—Expressing uncertainty about how t...</td>\n",
       "      <td>theonion</td>\n",
       "    </tr>\n",
       "    <tr>\n",
       "      <th>2</th>\n",
       "      <td>https://www.theonion.com/seth-rich-conspiracy-...</td>\n",
       "      <td>2021-01-18T14:00:00</td>\n",
       "      <td>Seth Rich Conspiracy Theorists Publicly Apolog...</td>\n",
       "      <td>Ed Butowsky and Matt Couch, two conspiracy the...</td>\n",
       "      <td>theonion</td>\n",
       "    </tr>\n",
       "    <tr>\n",
       "      <th>3</th>\n",
       "      <td>https://entertainment.theonion.com/vince-gilli...</td>\n",
       "      <td>2021-01-18T14:00:00</td>\n",
       "      <td>Vince Gilligan Reunites With Bryan Cranston Fo...</td>\n",
       "      <td>LOS ANGELES—Finally announcing the joint ventu...</td>\n",
       "      <td>theonion</td>\n",
       "    </tr>\n",
       "    <tr>\n",
       "      <th>4</th>\n",
       "      <td>https://www.theonion.com/mlb-beginning-to-susp...</td>\n",
       "      <td>2021-01-15T22:00:00</td>\n",
       "      <td>MLB Beginning To Suspect Pirates Just A Mob Front</td>\n",
       "      <td>PITTSBURGH—Speculating as to how the listless ...</td>\n",
       "      <td>theonion</td>\n",
       "    </tr>\n",
       "    <tr>\n",
       "      <th>5</th>\n",
       "      <td>https://www.theonion.com/lady-gaga-j-lo-to-per...</td>\n",
       "      <td>2021-01-15T19:43:00</td>\n",
       "      <td>Lady Gaga, J. Lo To Perform At Biden Inauguration</td>\n",
       "      <td>Lady Gaga will sing the national anthem and J....</td>\n",
       "      <td>theonion</td>\n",
       "    </tr>\n",
       "    <tr>\n",
       "      <th>6</th>\n",
       "      <td>https://politics.theonion.com/she-s-now-eating...</td>\n",
       "      <td>2021-01-15T19:20:00</td>\n",
       "      <td>‘She’s Now Eating A Muffin In The Commissary,’...</td>\n",
       "      <td>WASHINGTON—Following her brief suspension from...</td>\n",
       "      <td>theonion</td>\n",
       "    </tr>\n",
       "    <tr>\n",
       "      <th>7</th>\n",
       "      <td>https://www.theonion.com/u-s-mint-introduces-n...</td>\n",
       "      <td>2021-01-15T18:00:00</td>\n",
       "      <td>U.S. Mint Introduces New Seven-Cent Coin To Bo...</td>\n",
       "      <td>WASHINGTON—Explaining they were excited to “ki...</td>\n",
       "      <td>theonion</td>\n",
       "    </tr>\n",
       "    <tr>\n",
       "      <th>8</th>\n",
       "      <td>https://www.theonion.com/nation-enters-new-pha...</td>\n",
       "      <td>2021-01-15T17:55:00</td>\n",
       "      <td>Nation Enters New Phase Of Vaccine Distributio...</td>\n",
       "      <td>ATLANTA—Reviewing changes to the priorities fo...</td>\n",
       "      <td>theonion</td>\n",
       "    </tr>\n",
       "    <tr>\n",
       "      <th>9</th>\n",
       "      <td>https://www.theonion.com/wikipedia-turns-20-18...</td>\n",
       "      <td>2021-01-15T15:50:00</td>\n",
       "      <td>Wikipedia Turns 20</td>\n",
       "      <td>Wikipedia was launched Jan. 15, 2001, and the ...</td>\n",
       "      <td>theonion</td>\n",
       "    </tr>\n",
       "    <tr>\n",
       "      <th>10</th>\n",
       "      <td>https://www.theonion.com/ac-unit-propped-up-by...</td>\n",
       "      <td>2021-01-15T14:10:00</td>\n",
       "      <td>AC Unit Propped Up By Bricks Dangling Precipit...</td>\n",
       "      <td></td>\n",
       "      <td>theonion</td>\n",
       "    </tr>\n",
       "    <tr>\n",
       "      <th>11</th>\n",
       "      <td>https://www.theonion.com/animal-shelter-s-free...</td>\n",
       "      <td>2021-01-15T14:06:00</td>\n",
       "      <td>Animal Shelter’s Free Adoption Day Not Even Th...</td>\n",
       "      <td>Hear why consumer advocates are warning that f...</td>\n",
       "      <td>theonion</td>\n",
       "    </tr>\n",
       "    <tr>\n",
       "      <th>12</th>\n",
       "      <td>https://www.theonion.com/former-michigan-gover...</td>\n",
       "      <td>2021-01-15T13:54:00</td>\n",
       "      <td>Former Michigan Governor Charged In Flint Wate...</td>\n",
       "      <td>Former Michigan governor Rick Snyder and membe...</td>\n",
       "      <td>theonion</td>\n",
       "    </tr>\n",
       "    <tr>\n",
       "      <th>13</th>\n",
       "      <td>https://www.theonion.com/matt-gaetz-forced-to-...</td>\n",
       "      <td>2021-01-14T20:00:00</td>\n",
       "      <td>Matt Gaetz Forced To Host Hundreds Of White Na...</td>\n",
       "      <td>WASHINGTON—As he rummaged through a closet to ...</td>\n",
       "      <td>theonion</td>\n",
       "    </tr>\n",
       "    <tr>\n",
       "      <th>14</th>\n",
       "      <td>https://www.theonion.com/airbnb-blocks-all-d-c...</td>\n",
       "      <td>2021-01-14T18:39:00</td>\n",
       "      <td>Airbnb Blocks All D.C. Bookings Ahead Of Inaug...</td>\n",
       "      <td>In response to federal officials urging Americ...</td>\n",
       "      <td>theonion</td>\n",
       "    </tr>\n",
       "    <tr>\n",
       "      <th>15</th>\n",
       "      <td>https://www.theonion.com/forward-thinking-ceo-...</td>\n",
       "      <td>2021-01-14T18:05:00</td>\n",
       "      <td>Forward-Thinking CEO Hoping Company Can Captur...</td>\n",
       "      <td>NEW YORK—Taking an expansive view of future pr...</td>\n",
       "      <td>theonion</td>\n",
       "    </tr>\n",
       "    <tr>\n",
       "      <th>16</th>\n",
       "      <td>https://sports.theonion.com/the-greatest-nfl-c...</td>\n",
       "      <td>2021-01-14T16:20:00</td>\n",
       "      <td>The Greatest NFL Coaches Of All Time</td>\n",
       "      <td>Grim, determined, and emotionally unavailable ...</td>\n",
       "      <td>theonion</td>\n",
       "    </tr>\n",
       "    <tr>\n",
       "      <th>17</th>\n",
       "      <td>https://sports.theonion.com/charles-barkley-bl...</td>\n",
       "      <td>2021-01-14T15:57:00</td>\n",
       "      <td>Charles Barkley Blasts Today’s Fragile NBA Pla...</td>\n",
       "      <td>ATLANTA—Following the postponement of multiple...</td>\n",
       "      <td>theonion</td>\n",
       "    </tr>\n",
       "    <tr>\n",
       "      <th>18</th>\n",
       "      <td>https://www.theonion.com/tips-for-dealing-with...</td>\n",
       "      <td>2021-01-14T14:34:00</td>\n",
       "      <td>Tips For Dealing With Bad Neighbors</td>\n",
       "      <td></td>\n",
       "      <td>theonion</td>\n",
       "    </tr>\n",
       "    <tr>\n",
       "      <th>19</th>\n",
       "      <td>https://www.theonion.com/shocked-authorities-d...</td>\n",
       "      <td>2021-01-14T14:17:00</td>\n",
       "      <td>Shocked Authorities Discover Dozens Of Bodies ...</td>\n",
       "      <td>Hear why detectives believe it could be the wo...</td>\n",
       "      <td>theonion</td>\n",
       "    </tr>\n",
       "    <tr>\n",
       "      <th>20</th>\n",
       "      <td>https://www.theonion.com/national-guard-may-de...</td>\n",
       "      <td>2021-01-14T14:00:00</td>\n",
       "      <td>National Guard May Deploy Up To 20,000 Troops ...</td>\n",
       "      <td>Army General Daniel R. Hokanson says 10,000 Gu...</td>\n",
       "      <td>theonion</td>\n",
       "    </tr>\n",
       "    <tr>\n",
       "      <th>21</th>\n",
       "      <td>https://www.theonion.com/citigroup-begrudgingl...</td>\n",
       "      <td>2021-01-13T21:40:00</td>\n",
       "      <td>Citigroup Begrudgingly Keeps Funding Marco Rub...</td>\n",
       "      <td>NEW YORK—Expressing their deep frustration wit...</td>\n",
       "      <td>theonion</td>\n",
       "    </tr>\n",
       "    <tr>\n",
       "      <th>22</th>\n",
       "      <td>https://www.theonion.com/officials-trace-slow-...</td>\n",
       "      <td>2021-01-13T20:25:00</td>\n",
       "      <td>Officials Trace Slow Vaccine Rollout To Sweet ...</td>\n",
       "      <td>ATLANTA—After conducting a nationwide survey o...</td>\n",
       "      <td>theonion</td>\n",
       "    </tr>\n",
       "    <tr>\n",
       "      <th>23</th>\n",
       "      <td>https://www.theonion.com/indifferent-nation-di...</td>\n",
       "      <td>2021-01-13T20:20:00</td>\n",
       "      <td>Indifferent Nation Didn’t Even Notice Metal Sh...</td>\n",
       "      <td></td>\n",
       "      <td>theonion</td>\n",
       "    </tr>\n",
       "    <tr>\n",
       "      <th>24</th>\n",
       "      <td>https://ogn.theonion.com/still-time-the-ps5s-i...</td>\n",
       "      <td>2021-01-13T19:15:00</td>\n",
       "      <td>Still Time: The PS5s In This Ancient Cave Pain...</td>\n",
       "      <td>Great news, gaming fans! If you haven’t yet ha...</td>\n",
       "      <td>theonion</td>\n",
       "    </tr>\n",
       "  </tbody>\n",
       "</table>\n",
       "</div>"
      ],
      "text/plain": [
       "                                                 link            published  \\\n",
       "0   https://local.theonion.com/spatter-analyst-fin...  2021-01-18T14:02:00   \n",
       "1   https://www.theonion.com/god-blindsided-after-...  2021-01-18T14:00:00   \n",
       "2   https://www.theonion.com/seth-rich-conspiracy-...  2021-01-18T14:00:00   \n",
       "3   https://entertainment.theonion.com/vince-gilli...  2021-01-18T14:00:00   \n",
       "4   https://www.theonion.com/mlb-beginning-to-susp...  2021-01-15T22:00:00   \n",
       "5   https://www.theonion.com/lady-gaga-j-lo-to-per...  2021-01-15T19:43:00   \n",
       "6   https://politics.theonion.com/she-s-now-eating...  2021-01-15T19:20:00   \n",
       "7   https://www.theonion.com/u-s-mint-introduces-n...  2021-01-15T18:00:00   \n",
       "8   https://www.theonion.com/nation-enters-new-pha...  2021-01-15T17:55:00   \n",
       "9   https://www.theonion.com/wikipedia-turns-20-18...  2021-01-15T15:50:00   \n",
       "10  https://www.theonion.com/ac-unit-propped-up-by...  2021-01-15T14:10:00   \n",
       "11  https://www.theonion.com/animal-shelter-s-free...  2021-01-15T14:06:00   \n",
       "12  https://www.theonion.com/former-michigan-gover...  2021-01-15T13:54:00   \n",
       "13  https://www.theonion.com/matt-gaetz-forced-to-...  2021-01-14T20:00:00   \n",
       "14  https://www.theonion.com/airbnb-blocks-all-d-c...  2021-01-14T18:39:00   \n",
       "15  https://www.theonion.com/forward-thinking-ceo-...  2021-01-14T18:05:00   \n",
       "16  https://sports.theonion.com/the-greatest-nfl-c...  2021-01-14T16:20:00   \n",
       "17  https://sports.theonion.com/charles-barkley-bl...  2021-01-14T15:57:00   \n",
       "18  https://www.theonion.com/tips-for-dealing-with...  2021-01-14T14:34:00   \n",
       "19  https://www.theonion.com/shocked-authorities-d...  2021-01-14T14:17:00   \n",
       "20  https://www.theonion.com/national-guard-may-de...  2021-01-14T14:00:00   \n",
       "21  https://www.theonion.com/citigroup-begrudgingl...  2021-01-13T21:40:00   \n",
       "22  https://www.theonion.com/officials-trace-slow-...  2021-01-13T20:25:00   \n",
       "23  https://www.theonion.com/indifferent-nation-di...  2021-01-13T20:20:00   \n",
       "24  https://ogn.theonion.com/still-time-the-ps5s-i...  2021-01-13T19:15:00   \n",
       "\n",
       "                                                title  \\\n",
       "0   Spatter Analyst Finally Working With Blood Aft...   \n",
       "1   God Blindsided After Illegitimate Son From And...   \n",
       "2   Seth Rich Conspiracy Theorists Publicly Apolog...   \n",
       "3   Vince Gilligan Reunites With Bryan Cranston Fo...   \n",
       "4   MLB Beginning To Suspect Pirates Just A Mob Front   \n",
       "5   Lady Gaga, J. Lo To Perform At Biden Inauguration   \n",
       "6   ‘She’s Now Eating A Muffin In The Commissary,’...   \n",
       "7   U.S. Mint Introduces New Seven-Cent Coin To Bo...   \n",
       "8   Nation Enters New Phase Of Vaccine Distributio...   \n",
       "9                                  Wikipedia Turns 20   \n",
       "10  AC Unit Propped Up By Bricks Dangling Precipit...   \n",
       "11  Animal Shelter’s Free Adoption Day Not Even Th...   \n",
       "12  Former Michigan Governor Charged In Flint Wate...   \n",
       "13  Matt Gaetz Forced To Host Hundreds Of White Na...   \n",
       "14  Airbnb Blocks All D.C. Bookings Ahead Of Inaug...   \n",
       "15  Forward-Thinking CEO Hoping Company Can Captur...   \n",
       "16               The Greatest NFL Coaches Of All Time   \n",
       "17  Charles Barkley Blasts Today’s Fragile NBA Pla...   \n",
       "18                Tips For Dealing With Bad Neighbors   \n",
       "19  Shocked Authorities Discover Dozens Of Bodies ...   \n",
       "20  National Guard May Deploy Up To 20,000 Troops ...   \n",
       "21  Citigroup Begrudgingly Keeps Funding Marco Rub...   \n",
       "22  Officials Trace Slow Vaccine Rollout To Sweet ...   \n",
       "23  Indifferent Nation Didn’t Even Notice Metal Sh...   \n",
       "24  Still Time: The PS5s In This Ancient Cave Pain...   \n",
       "\n",
       "                                                 text      site  \n",
       "0   NEW YORK—Happy to move on to the next phase of...  theonion  \n",
       "1   THE HEAVENS—Expressing uncertainty about how t...  theonion  \n",
       "2   Ed Butowsky and Matt Couch, two conspiracy the...  theonion  \n",
       "3   LOS ANGELES—Finally announcing the joint ventu...  theonion  \n",
       "4   PITTSBURGH—Speculating as to how the listless ...  theonion  \n",
       "5   Lady Gaga will sing the national anthem and J....  theonion  \n",
       "6   WASHINGTON—Following her brief suspension from...  theonion  \n",
       "7   WASHINGTON—Explaining they were excited to “ki...  theonion  \n",
       "8   ATLANTA—Reviewing changes to the priorities fo...  theonion  \n",
       "9   Wikipedia was launched Jan. 15, 2001, and the ...  theonion  \n",
       "10                                                     theonion  \n",
       "11  Hear why consumer advocates are warning that f...  theonion  \n",
       "12  Former Michigan governor Rick Snyder and membe...  theonion  \n",
       "13  WASHINGTON—As he rummaged through a closet to ...  theonion  \n",
       "14  In response to federal officials urging Americ...  theonion  \n",
       "15  NEW YORK—Taking an expansive view of future pr...  theonion  \n",
       "16  Grim, determined, and emotionally unavailable ...  theonion  \n",
       "17  ATLANTA—Following the postponement of multiple...  theonion  \n",
       "18                                                     theonion  \n",
       "19  Hear why detectives believe it could be the wo...  theonion  \n",
       "20  Army General Daniel R. Hokanson says 10,000 Gu...  theonion  \n",
       "21  NEW YORK—Expressing their deep frustration wit...  theonion  \n",
       "22  ATLANTA—After conducting a nationwide survey o...  theonion  \n",
       "23                                                     theonion  \n",
       "24  Great news, gaming fans! If you haven’t yet ha...  theonion  "
      ]
     },
     "execution_count": 15,
     "metadata": {},
     "output_type": "execute_result"
    }
   ],
   "source": [
    "df"
   ]
  },
  {
   "cell_type": "code",
   "execution_count": 18,
   "metadata": {
    "colab": {},
    "colab_type": "code",
    "id": "KFHT4EO0Oc4q"
   },
   "outputs": [],
   "source": [
    "!cp scraped_articles.json \"./My Drive/DLNLP_2020/Project/\""
   ]
  },
  {
   "cell_type": "code",
   "execution_count": 25,
   "metadata": {},
   "outputs": [],
   "source": [
    "# dfm = pd.read_csv(\"./My Drive/DLNLP_2020/Project/scraped_articles.csv\", index_col=0 )\n",
    "# df = dfm.append(df,ignore_index=True)"
   ]
  },
  {
   "cell_type": "code",
   "execution_count": 26,
   "metadata": {},
   "outputs": [],
   "source": [
    "df.to_csv(\"./My Drive/DLNLP_2020/Project/scraped_articles.csv\", index=None)"
   ]
  },
  {
   "cell_type": "code",
   "execution_count": null,
   "metadata": {},
   "outputs": [],
   "source": []
  }
 ],
 "metadata": {
  "colab": {
   "name": "Scraping.ipynb",
   "provenance": []
  },
  "kernelspec": {
   "display_name": "Python 3",
   "language": "python",
   "name": "python3"
  },
  "language_info": {
   "codemirror_mode": {
    "name": "ipython",
    "version": 3
   },
   "file_extension": ".py",
   "mimetype": "text/x-python",
   "name": "python",
   "nbconvert_exporter": "python",
   "pygments_lexer": "ipython3",
   "version": "3.6.9"
  }
 },
 "nbformat": 4,
 "nbformat_minor": 1
}
