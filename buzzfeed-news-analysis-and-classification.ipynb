{
 "cells": [
  {
   "cell_type": "code",
   "execution_count": 6,
   "metadata": {},
   "outputs": [],
   "source": [
    "import numpy as np\n",
    "import pandas as pd\n",
    "import seaborn as sns\n",
    "import matplotlib.pyplot as plt\n",
    "%matplotlib inline\n",
    "import string\n",
    "import nltk\n",
    "from nltk.corpus import stopwords\n",
    "from nltk.stem.porter import PorterStemmer\n",
    "from nltk import word_tokenize\n",
    "from nltk.tokenize import WhitespaceTokenizer \n",
    "from sklearn.feature_extraction.text import CountVectorizer\n",
    "from sklearn.feature_extraction.text import TfidfTransformer\n",
    "from sklearn.naive_bayes import MultinomialNB\n",
    "from sklearn.pipeline import Pipeline\n",
    "from sklearn.ensemble import RandomForestClassifier\n",
    "from sklearn.linear_model import PassiveAggressiveClassifier\n",
    "from sklearn.model_selection import train_test_split\n",
    "from sklearn.metrics import classification_report,confusion_matrix,accuracy_score"
   ]
  },
  {
   "cell_type": "code",
   "execution_count": 7,
   "metadata": {},
   "outputs": [],
   "source": [
    "df_real=pd.read_csv('../FakeNewsDeepLearning/fakenewsnet/BuzzFeed_real_news_content.csv')"
   ]
  },
  {
   "cell_type": "code",
   "execution_count": 8,
   "metadata": {},
   "outputs": [
    {
     "data": {
      "text/plain": [
       "(91, 12)"
      ]
     },
     "execution_count": 8,
     "metadata": {},
     "output_type": "execute_result"
    }
   ],
   "source": [
    "df_real.shape"
   ]
  },
  {
   "cell_type": "code",
   "execution_count": 9,
   "metadata": {},
   "outputs": [],
   "source": [
    "df_fake=pd.read_csv('../FakeNewsDeepLearning/fakenewsnet/BuzzFeed_fake_news_content.csv')"
   ]
  },
  {
   "cell_type": "code",
   "execution_count": 10,
   "metadata": {},
   "outputs": [
    {
     "data": {
      "text/plain": [
       "(91, 12)"
      ]
     },
     "execution_count": 10,
     "metadata": {},
     "output_type": "execute_result"
    }
   ],
   "source": [
    "df_fake.shape"
   ]
  },
  {
   "cell_type": "code",
   "execution_count": 11,
   "metadata": {},
   "outputs": [],
   "source": [
    "df=pd.concat([df_real,df_fake],axis=0)"
   ]
  },
  {
   "cell_type": "code",
   "execution_count": 12,
   "metadata": {},
   "outputs": [
    {
     "data": {
      "text/plain": [
       "(182, 12)"
      ]
     },
     "execution_count": 12,
     "metadata": {},
     "output_type": "execute_result"
    }
   ],
   "source": [
    "df.shape"
   ]
  },
  {
   "cell_type": "code",
   "execution_count": 13,
   "metadata": {},
   "outputs": [],
   "source": [
    "df['news_type']=df['id'].apply(lambda x: x.split('_')[0])"
   ]
  },
  {
   "cell_type": "code",
   "execution_count": 14,
   "metadata": {},
   "outputs": [
    {
     "data": {
      "text/html": [
       "<div>\n",
       "<style scoped>\n",
       "    .dataframe tbody tr th:only-of-type {\n",
       "        vertical-align: middle;\n",
       "    }\n",
       "\n",
       "    .dataframe tbody tr th {\n",
       "        vertical-align: top;\n",
       "    }\n",
       "\n",
       "    .dataframe thead th {\n",
       "        text-align: right;\n",
       "    }\n",
       "</style>\n",
       "<table border=\"1\" class=\"dataframe\">\n",
       "  <thead>\n",
       "    <tr style=\"text-align: right;\">\n",
       "      <th></th>\n",
       "      <th>id</th>\n",
       "      <th>title</th>\n",
       "      <th>text</th>\n",
       "      <th>url</th>\n",
       "      <th>top_img</th>\n",
       "      <th>authors</th>\n",
       "      <th>source</th>\n",
       "      <th>publish_date</th>\n",
       "      <th>movies</th>\n",
       "      <th>images</th>\n",
       "      <th>canonical_link</th>\n",
       "      <th>meta_data</th>\n",
       "      <th>news_type</th>\n",
       "    </tr>\n",
       "  </thead>\n",
       "  <tbody>\n",
       "    <tr>\n",
       "      <th>0</th>\n",
       "      <td>Real_1-Webpage</td>\n",
       "      <td>Another Terrorist Attack in NYC…Why Are we STI...</td>\n",
       "      <td>On Saturday, September 17 at 8:30 pm EST, an e...</td>\n",
       "      <td>http://eaglerising.com/36942/another-terrorist...</td>\n",
       "      <td>http://eaglerising.com/wp-content/uploads/2016...</td>\n",
       "      <td>View All Posts,Leonora Cravotta</td>\n",
       "      <td>http://eaglerising.com</td>\n",
       "      <td>{'$date': 1474528230000}</td>\n",
       "      <td>NaN</td>\n",
       "      <td>http://constitution.com/wp-content/uploads/201...</td>\n",
       "      <td>http://eaglerising.com/36942/another-terrorist...</td>\n",
       "      <td>{\"description\": \"\\u201cWe believe at this poin...</td>\n",
       "      <td>Real</td>\n",
       "    </tr>\n",
       "    <tr>\n",
       "      <th>1</th>\n",
       "      <td>Real_10-Webpage</td>\n",
       "      <td>Donald Trump: Drugs a 'Very, Very Big Factor' ...</td>\n",
       "      <td>Less than a day after protests over the police...</td>\n",
       "      <td>http://abcn.ws/2d4lNn9</td>\n",
       "      <td>http://a.abcnews.com/images/Politics/AP_donald...</td>\n",
       "      <td>More Candace,Adam Kelsey,Abc News,More Adam</td>\n",
       "      <td>http://abcn.ws</td>\n",
       "      <td>NaN</td>\n",
       "      <td>NaN</td>\n",
       "      <td>http://www.googleadservices.com/pagead/convers...</td>\n",
       "      <td>http://abcnews.go.com/Politics/donald-trump-dr...</td>\n",
       "      <td>{\"fb_title\": \"Trump: Drugs a 'Very, Very Big F...</td>\n",
       "      <td>Real</td>\n",
       "    </tr>\n",
       "  </tbody>\n",
       "</table>\n",
       "</div>"
      ],
      "text/plain": [
       "                id                                              title  \\\n",
       "0   Real_1-Webpage  Another Terrorist Attack in NYC…Why Are we STI...   \n",
       "1  Real_10-Webpage  Donald Trump: Drugs a 'Very, Very Big Factor' ...   \n",
       "\n",
       "                                                text  \\\n",
       "0  On Saturday, September 17 at 8:30 pm EST, an e...   \n",
       "1  Less than a day after protests over the police...   \n",
       "\n",
       "                                                 url  \\\n",
       "0  http://eaglerising.com/36942/another-terrorist...   \n",
       "1                             http://abcn.ws/2d4lNn9   \n",
       "\n",
       "                                             top_img  \\\n",
       "0  http://eaglerising.com/wp-content/uploads/2016...   \n",
       "1  http://a.abcnews.com/images/Politics/AP_donald...   \n",
       "\n",
       "                                       authors                  source  \\\n",
       "0              View All Posts,Leonora Cravotta  http://eaglerising.com   \n",
       "1  More Candace,Adam Kelsey,Abc News,More Adam          http://abcn.ws   \n",
       "\n",
       "               publish_date movies  \\\n",
       "0  {'$date': 1474528230000}    NaN   \n",
       "1                       NaN    NaN   \n",
       "\n",
       "                                              images  \\\n",
       "0  http://constitution.com/wp-content/uploads/201...   \n",
       "1  http://www.googleadservices.com/pagead/convers...   \n",
       "\n",
       "                                      canonical_link  \\\n",
       "0  http://eaglerising.com/36942/another-terrorist...   \n",
       "1  http://abcnews.go.com/Politics/donald-trump-dr...   \n",
       "\n",
       "                                           meta_data news_type  \n",
       "0  {\"description\": \"\\u201cWe believe at this poin...      Real  \n",
       "1  {\"fb_title\": \"Trump: Drugs a 'Very, Very Big F...      Real  "
      ]
     },
     "execution_count": 14,
     "metadata": {},
     "output_type": "execute_result"
    }
   ],
   "source": [
    "df.head(2)"
   ]
  },
  {
   "cell_type": "code",
   "execution_count": 15,
   "metadata": {},
   "outputs": [
    {
     "data": {
      "text/plain": [
       "(182, 13)"
      ]
     },
     "execution_count": 15,
     "metadata": {},
     "output_type": "execute_result"
    }
   ],
   "source": [
    "df.shape"
   ]
  },
  {
   "cell_type": "code",
   "execution_count": 16,
   "metadata": {},
   "outputs": [
    {
     "name": "stdout",
     "output_type": "stream",
     "text": [
      "<class 'pandas.core.frame.DataFrame'>\n",
      "Int64Index: 182 entries, 0 to 90\n",
      "Data columns (total 13 columns):\n",
      " #   Column          Non-Null Count  Dtype \n",
      "---  ------          --------------  ----- \n",
      " 0   id              182 non-null    object\n",
      " 1   title           182 non-null    object\n",
      " 2   text            182 non-null    object\n",
      " 3   url             174 non-null    object\n",
      " 4   top_img         172 non-null    object\n",
      " 5   authors         141 non-null    object\n",
      " 6   source          174 non-null    object\n",
      " 7   publish_date    133 non-null    object\n",
      " 8   movies          25 non-null     object\n",
      " 9   images          172 non-null    object\n",
      " 10  canonical_link  170 non-null    object\n",
      " 11  meta_data       182 non-null    object\n",
      " 12  news_type       182 non-null    object\n",
      "dtypes: object(13)\n",
      "memory usage: 19.9+ KB\n"
     ]
    }
   ],
   "source": [
    "df.info()"
   ]
  },
  {
   "cell_type": "code",
   "execution_count": 17,
   "metadata": {},
   "outputs": [
    {
     "data": {
      "text/html": [
       "<div>\n",
       "<style scoped>\n",
       "    .dataframe tbody tr th:only-of-type {\n",
       "        vertical-align: middle;\n",
       "    }\n",
       "\n",
       "    .dataframe tbody tr th {\n",
       "        vertical-align: top;\n",
       "    }\n",
       "\n",
       "    .dataframe thead th {\n",
       "        text-align: right;\n",
       "    }\n",
       "</style>\n",
       "<table border=\"1\" class=\"dataframe\">\n",
       "  <thead>\n",
       "    <tr style=\"text-align: right;\">\n",
       "      <th></th>\n",
       "      <th>id</th>\n",
       "      <th>title</th>\n",
       "      <th>text</th>\n",
       "      <th>url</th>\n",
       "      <th>top_img</th>\n",
       "      <th>authors</th>\n",
       "      <th>source</th>\n",
       "      <th>publish_date</th>\n",
       "      <th>movies</th>\n",
       "      <th>images</th>\n",
       "      <th>canonical_link</th>\n",
       "      <th>meta_data</th>\n",
       "      <th>news_type</th>\n",
       "    </tr>\n",
       "  </thead>\n",
       "  <tbody>\n",
       "    <tr>\n",
       "      <th>count</th>\n",
       "      <td>182</td>\n",
       "      <td>182</td>\n",
       "      <td>182</td>\n",
       "      <td>174</td>\n",
       "      <td>172</td>\n",
       "      <td>141</td>\n",
       "      <td>174</td>\n",
       "      <td>133</td>\n",
       "      <td>25</td>\n",
       "      <td>172</td>\n",
       "      <td>170</td>\n",
       "      <td>182</td>\n",
       "      <td>182</td>\n",
       "    </tr>\n",
       "    <tr>\n",
       "      <th>unique</th>\n",
       "      <td>182</td>\n",
       "      <td>178</td>\n",
       "      <td>178</td>\n",
       "      <td>171</td>\n",
       "      <td>166</td>\n",
       "      <td>90</td>\n",
       "      <td>28</td>\n",
       "      <td>118</td>\n",
       "      <td>25</td>\n",
       "      <td>169</td>\n",
       "      <td>168</td>\n",
       "      <td>171</td>\n",
       "      <td>2</td>\n",
       "    </tr>\n",
       "    <tr>\n",
       "      <th>top</th>\n",
       "      <td>Fake_14-Webpage</td>\n",
       "      <td>A Hillary Clinton Administration May be Entire...</td>\n",
       "      <td>We’re shocked — SHOCKED — to learn that CNN’s ...</td>\n",
       "      <td>http://eaglerising.com/36847/clinton-foundatio...</td>\n",
       "      <td>http://static.politico.com/da/f5/44342c424c68b...</td>\n",
       "      <td>Terresa Monroe-hamilton</td>\n",
       "      <td>http://politi.co</td>\n",
       "      <td>{'$date': 1474588800000}</td>\n",
       "      <td>https://www.youtube.com/embed/wkQIvgWpIDc?feat...</td>\n",
       "      <td>http://static.politico.com/da/f5/44342c424c68b...</td>\n",
       "      <td>http://eaglerising.com/36880/a-hillary-clinton...</td>\n",
       "      <td>{}</td>\n",
       "      <td>Fake</td>\n",
       "    </tr>\n",
       "    <tr>\n",
       "      <th>freq</th>\n",
       "      <td>1</td>\n",
       "      <td>2</td>\n",
       "      <td>2</td>\n",
       "      <td>2</td>\n",
       "      <td>3</td>\n",
       "      <td>8</td>\n",
       "      <td>32</td>\n",
       "      <td>5</td>\n",
       "      <td>1</td>\n",
       "      <td>2</td>\n",
       "      <td>2</td>\n",
       "      <td>8</td>\n",
       "      <td>91</td>\n",
       "    </tr>\n",
       "  </tbody>\n",
       "</table>\n",
       "</div>"
      ],
      "text/plain": [
       "                     id                                              title  \\\n",
       "count               182                                                182   \n",
       "unique              182                                                178   \n",
       "top     Fake_14-Webpage  A Hillary Clinton Administration May be Entire...   \n",
       "freq                  1                                                  2   \n",
       "\n",
       "                                                     text  \\\n",
       "count                                                 182   \n",
       "unique                                                178   \n",
       "top     We’re shocked — SHOCKED — to learn that CNN’s ...   \n",
       "freq                                                    2   \n",
       "\n",
       "                                                      url  \\\n",
       "count                                                 174   \n",
       "unique                                                171   \n",
       "top     http://eaglerising.com/36847/clinton-foundatio...   \n",
       "freq                                                    2   \n",
       "\n",
       "                                                  top_img  \\\n",
       "count                                                 172   \n",
       "unique                                                166   \n",
       "top     http://static.politico.com/da/f5/44342c424c68b...   \n",
       "freq                                                    3   \n",
       "\n",
       "                        authors            source              publish_date  \\\n",
       "count                       141               174                       133   \n",
       "unique                       90                28                       118   \n",
       "top     Terresa Monroe-hamilton  http://politi.co  {'$date': 1474588800000}   \n",
       "freq                          8                32                         5   \n",
       "\n",
       "                                                   movies  \\\n",
       "count                                                  25   \n",
       "unique                                                 25   \n",
       "top     https://www.youtube.com/embed/wkQIvgWpIDc?feat...   \n",
       "freq                                                    1   \n",
       "\n",
       "                                                   images  \\\n",
       "count                                                 172   \n",
       "unique                                                169   \n",
       "top     http://static.politico.com/da/f5/44342c424c68b...   \n",
       "freq                                                    2   \n",
       "\n",
       "                                           canonical_link meta_data news_type  \n",
       "count                                                 170       182       182  \n",
       "unique                                                168       171         2  \n",
       "top     http://eaglerising.com/36880/a-hillary-clinton...        {}      Fake  \n",
       "freq                                                    2         8        91  "
      ]
     },
     "execution_count": 17,
     "metadata": {},
     "output_type": "execute_result"
    }
   ],
   "source": [
    "df.describe()"
   ]
  },
  {
   "cell_type": "code",
   "execution_count": 18,
   "metadata": {},
   "outputs": [],
   "source": [
    "df.drop(['id','url', 'top_img','authors','publish_date','canonical_link','meta_data'],axis=1, inplace=True)"
   ]
  },
  {
   "cell_type": "code",
   "execution_count": 19,
   "metadata": {},
   "outputs": [
    {
     "data": {
      "text/plain": [
       "title          0\n",
       "text           0\n",
       "source         8\n",
       "movies       157\n",
       "images        10\n",
       "news_type      0\n",
       "dtype: int64"
      ]
     },
     "execution_count": 19,
     "metadata": {},
     "output_type": "execute_result"
    }
   ],
   "source": [
    "df.isnull().sum()"
   ]
  },
  {
   "cell_type": "code",
   "execution_count": 20,
   "metadata": {},
   "outputs": [
    {
     "data": {
      "text/plain": [
       "title         0.000000\n",
       "text          0.000000\n",
       "source        4.395604\n",
       "movies       86.263736\n",
       "images        5.494505\n",
       "news_type     0.000000\n",
       "dtype: float64"
      ]
     },
     "execution_count": 20,
     "metadata": {},
     "output_type": "execute_result"
    }
   ],
   "source": [
    "(df.isnull().sum())/(df.shape[0])*100"
   ]
  },
  {
   "cell_type": "code",
   "execution_count": 21,
   "metadata": {},
   "outputs": [],
   "source": [
    "df['contain_movies']=df['movies'].apply(lambda x: 0 if str(x)=='nan' else 1)"
   ]
  },
  {
   "cell_type": "code",
   "execution_count": 22,
   "metadata": {},
   "outputs": [],
   "source": [
    "df['contain_images']=df['images'].apply(lambda x: 0 if str(x)=='nan' else 1)"
   ]
  },
  {
   "cell_type": "code",
   "execution_count": 23,
   "metadata": {},
   "outputs": [],
   "source": [
    "df.drop(['movies','images'],axis=1,inplace=True)"
   ]
  },
  {
   "cell_type": "code",
   "execution_count": 24,
   "metadata": {},
   "outputs": [
    {
     "data": {
      "text/html": [
       "<div>\n",
       "<style scoped>\n",
       "    .dataframe tbody tr th:only-of-type {\n",
       "        vertical-align: middle;\n",
       "    }\n",
       "\n",
       "    .dataframe tbody tr th {\n",
       "        vertical-align: top;\n",
       "    }\n",
       "\n",
       "    .dataframe thead th {\n",
       "        text-align: right;\n",
       "    }\n",
       "</style>\n",
       "<table border=\"1\" class=\"dataframe\">\n",
       "  <thead>\n",
       "    <tr style=\"text-align: right;\">\n",
       "      <th></th>\n",
       "      <th>title</th>\n",
       "      <th>text</th>\n",
       "      <th>source</th>\n",
       "      <th>news_type</th>\n",
       "      <th>contain_movies</th>\n",
       "      <th>contain_images</th>\n",
       "    </tr>\n",
       "  </thead>\n",
       "  <tbody>\n",
       "    <tr>\n",
       "      <th>0</th>\n",
       "      <td>Another Terrorist Attack in NYC…Why Are we STI...</td>\n",
       "      <td>On Saturday, September 17 at 8:30 pm EST, an e...</td>\n",
       "      <td>http://eaglerising.com</td>\n",
       "      <td>Real</td>\n",
       "      <td>0</td>\n",
       "      <td>1</td>\n",
       "    </tr>\n",
       "    <tr>\n",
       "      <th>1</th>\n",
       "      <td>Donald Trump: Drugs a 'Very, Very Big Factor' ...</td>\n",
       "      <td>Less than a day after protests over the police...</td>\n",
       "      <td>http://abcn.ws</td>\n",
       "      <td>Real</td>\n",
       "      <td>0</td>\n",
       "      <td>1</td>\n",
       "    </tr>\n",
       "  </tbody>\n",
       "</table>\n",
       "</div>"
      ],
      "text/plain": [
       "                                               title  \\\n",
       "0  Another Terrorist Attack in NYC…Why Are we STI...   \n",
       "1  Donald Trump: Drugs a 'Very, Very Big Factor' ...   \n",
       "\n",
       "                                                text                  source  \\\n",
       "0  On Saturday, September 17 at 8:30 pm EST, an e...  http://eaglerising.com   \n",
       "1  Less than a day after protests over the police...          http://abcn.ws   \n",
       "\n",
       "  news_type  contain_movies  contain_images  \n",
       "0      Real               0               1  \n",
       "1      Real               0               1  "
      ]
     },
     "execution_count": 24,
     "metadata": {},
     "output_type": "execute_result"
    }
   ],
   "source": [
    "df.head(2)"
   ]
  },
  {
   "cell_type": "markdown",
   "metadata": {},
   "source": [
    "## EDA"
   ]
  },
  {
   "cell_type": "code",
   "execution_count": 25,
   "metadata": {},
   "outputs": [],
   "source": [
    "real_order=df[df['news_type']=='Real']['source'].value_counts().sort_values(ascending=False).index"
   ]
  },
  {
   "cell_type": "code",
   "execution_count": 26,
   "metadata": {},
   "outputs": [
    {
     "data": {
      "image/png": "[encoded data removed]",
      "text/plain": [
       "<Figure size 720x432 with 1 Axes>"
      ]
     },
     "metadata": {
      "needs_background": "light"
     },
     "output_type": "display_data"
    }
   ],
   "source": [
    "plt.figure(figsize=(10,6))\n",
    "sns.countplot(y='source', data=df[df['news_type']=='Real'],order=real_order,palette='summer')\n",
    "plt.xlabel('Count',fontsize=12)\n",
    "plt.ylabel('Source',fontsize=12)\n",
    "plt.title('Sources of Real News',fontsize=15)\n",
    "plt.show()"
   ]
  },
  {
   "cell_type": "code",
   "execution_count": 27,
   "metadata": {},
   "outputs": [],
   "source": [
    "fake_order=df[df['news_type']=='Fake']['source'].value_counts().sort_values(ascending=False).index"
   ]
  },
  {
   "cell_type": "code",
   "execution_count": 28,
   "metadata": {},
   "outputs": [
    {
     "data": {
      "image/png": "[encoded data removed]",
      "text/plain": [
       "<Figure size 720x432 with 1 Axes>"
      ]
     },
     "metadata": {
      "needs_background": "light"
     },
     "output_type": "display_data"
    }
   ],
   "source": [
    "plt.figure(figsize=(10,6))\n",
    "sns.countplot(y='source',data=df[df['news_type']=='Fake'],order=fake_order,palette='autumn')\n",
    "plt.xlabel('Count',fontsize=12)\n",
    "plt.ylabel('Source',fontsize=12)\n",
    "plt.title('Sources of Fake News',fontsize=20)\n",
    "plt.show()"
   ]
  },
  {
   "cell_type": "code",
   "execution_count": 29,
   "metadata": {},
   "outputs": [
    {
     "name": "stdout",
     "output_type": "stream",
     "text": [
      "['http://www.addictinginfo.org', 'http://eaglerising.com', 'http://conservativebyte.com', 'http://winningdemocrats.com', 'http://freedomdaily.com', 'http://occupydemocrats.com', 'http://rightwingnews.com', 'http://addictinginfo.org']\n"
     ]
    }
   ],
   "source": [
    "new=[]\n",
    "for x in df[df['news_type']=='Fake']['source'].unique():\n",
    "    if x in df[df['news_type']=='Real']['source'].unique():\n",
    "        new.append(x)\n",
    "print(new)"
   ]
  },
  {
   "cell_type": "code",
   "execution_count": 30,
   "metadata": {},
   "outputs": [],
   "source": [
    "df['common']=df['source'].apply(lambda x: x if x in new else 0)"
   ]
  },
  {
   "cell_type": "code",
   "execution_count": 31,
   "metadata": {},
   "outputs": [],
   "source": [
    "df1=df[df['common']!=0]"
   ]
  },
  {
   "cell_type": "code",
   "execution_count": 32,
   "metadata": {},
   "outputs": [
    {
     "data": {
      "image/png": "[encoded data removed]",
      "text/plain": [
       "<Figure size 720x432 with 1 Axes>"
      ]
     },
     "metadata": {
      "needs_background": "light"
     },
     "output_type": "display_data"
    }
   ],
   "source": [
    "plt.figure(figsize=(10,6))\n",
    "sns.countplot(y='common',data=df1,hue='news_type',palette='viridis')\n",
    "plt.xlabel('Count',fontsize=12)\n",
    "plt.ylabel('Source',fontsize=12)\n",
    "plt.legend(loc='best', title='News Type',fontsize=10)\n",
    "plt.title('Common Sources of Real and Fake News',fontsize=20)\n",
    "plt.show()"
   ]
  },
  {
   "cell_type": "code",
   "execution_count": 33,
   "metadata": {},
   "outputs": [
    {
     "data": {
      "text/html": [
       "<div>\n",
       "<style scoped>\n",
       "    .dataframe tbody tr th:only-of-type {\n",
       "        vertical-align: middle;\n",
       "    }\n",
       "\n",
       "    .dataframe tbody tr th {\n",
       "        vertical-align: top;\n",
       "    }\n",
       "\n",
       "    .dataframe thead th {\n",
       "        text-align: right;\n",
       "    }\n",
       "</style>\n",
       "<table border=\"1\" class=\"dataframe\">\n",
       "  <thead>\n",
       "    <tr style=\"text-align: right;\">\n",
       "      <th></th>\n",
       "      <th>title</th>\n",
       "      <th>text</th>\n",
       "      <th>source</th>\n",
       "      <th>news_type</th>\n",
       "      <th>contain_movies</th>\n",
       "      <th>contain_images</th>\n",
       "      <th>common</th>\n",
       "    </tr>\n",
       "  </thead>\n",
       "  <tbody>\n",
       "    <tr>\n",
       "      <th>0</th>\n",
       "      <td>Another Terrorist Attack in NYC…Why Are we STI...</td>\n",
       "      <td>On Saturday, September 17 at 8:30 pm EST, an e...</td>\n",
       "      <td>http://eaglerising.com</td>\n",
       "      <td>Real</td>\n",
       "      <td>0</td>\n",
       "      <td>1</td>\n",
       "      <td>http://eaglerising.com</td>\n",
       "    </tr>\n",
       "    <tr>\n",
       "      <th>1</th>\n",
       "      <td>Donald Trump: Drugs a 'Very, Very Big Factor' ...</td>\n",
       "      <td>Less than a day after protests over the police...</td>\n",
       "      <td>http://abcn.ws</td>\n",
       "      <td>Real</td>\n",
       "      <td>0</td>\n",
       "      <td>1</td>\n",
       "      <td>0</td>\n",
       "    </tr>\n",
       "  </tbody>\n",
       "</table>\n",
       "</div>"
      ],
      "text/plain": [
       "                                               title  \\\n",
       "0  Another Terrorist Attack in NYC…Why Are we STI...   \n",
       "1  Donald Trump: Drugs a 'Very, Very Big Factor' ...   \n",
       "\n",
       "                                                text                  source  \\\n",
       "0  On Saturday, September 17 at 8:30 pm EST, an e...  http://eaglerising.com   \n",
       "1  Less than a day after protests over the police...          http://abcn.ws   \n",
       "\n",
       "  news_type  contain_movies  contain_images                  common  \n",
       "0      Real               0               1  http://eaglerising.com  \n",
       "1      Real               0               1                       0  "
      ]
     },
     "execution_count": 33,
     "metadata": {},
     "output_type": "execute_result"
    }
   ],
   "source": [
    "df.head(2)"
   ]
  },
  {
   "cell_type": "code",
   "execution_count": 34,
   "metadata": {},
   "outputs": [
    {
     "data": {
      "image/png": "[encoded data removed]",
      "text/plain": [
       "<Figure size 720x432 with 1 Axes>"
      ]
     },
     "metadata": {
      "needs_background": "light"
     },
     "output_type": "display_data"
    }
   ],
   "source": [
    "plt.figure(figsize=(10,6))\n",
    "sns.countplot(x='contain_movies', data=df, hue='news_type', palette='PuBuGn_r')\n",
    "plt.xlabel('Movies Linked to News',fontsize=12)\n",
    "plt.ylabel('Count',fontsize=12)\n",
    "plt.legend(loc='best', title='News Type',fontsize=10)\n",
    "plt.title('Number of Different News Type Versus Linked Movies',fontsize=18)\n",
    "plt.show()"
   ]
  },
  {
   "cell_type": "code",
   "execution_count": 35,
   "metadata": {},
   "outputs": [
    {
     "data": {
      "image/png": "[encoded data removed]",
      "text/plain": [
       "<Figure size 720x432 with 1 Axes>"
      ]
     },
     "metadata": {
      "needs_background": "light"
     },
     "output_type": "display_data"
    }
   ],
   "source": [
    "plt.figure(figsize=(10,6))\n",
    "sns.countplot(x='contain_images', data=df, hue='news_type', palette='PuBuGn_r')\n",
    "plt.xlabel('Images Linked to News',fontsize=12)\n",
    "plt.ylabel('Count',fontsize=12)\n",
    "plt.legend(loc='upper left', title='News Type',fontsize=10)\n",
    "plt.title('Number of Different News Type Versus Linked Images',fontsize=18)\n",
    "plt.show()"
   ]
  },
  {
   "cell_type": "markdown",
   "metadata": {},
   "source": [
    "### Analysis of Title and Body of News Articles"
   ]
  },
  {
   "cell_type": "code",
   "execution_count": 36,
   "metadata": {},
   "outputs": [],
   "source": [
    "ps=PorterStemmer()\n",
    "wst= WhitespaceTokenizer() \n",
    "\n",
    "##### 1. Converting text to lower case\n",
    "def lower_func (x):\n",
    "    return x.lower()\n",
    "\n",
    "\n",
    "##### 2. Removing Numbers from the text corpus\n",
    "def remove_number_func (x): \n",
    "    new=\"\"\n",
    "    for a in x:\n",
    "        if a.isdigit()==False:\n",
    "            new=new+a\n",
    "    return new\n",
    "\n",
    "\n",
    "##### 3. Removing punctuation \n",
    "def remove_punc_func(x):\n",
    "    new=''\n",
    "    for a in x:\n",
    "        if a not in string.punctuation:\n",
    "            new=new+a\n",
    "    return new\n",
    "\n",
    "##### 4. Removing special characters\n",
    "def remove_spec_char_func(x):\n",
    "    new=''\n",
    "    for a in x:\n",
    "        if (a.isalnum()==True) or (a==' '):\n",
    "            new=new+a\n",
    "    return(new)\n",
    "\n",
    "##### 5. Removing english stopwords\n",
    "def remove_stopwords(x):\n",
    "    new=[]\n",
    "    for a in x.split():\n",
    "        if a not in stopwords.words('english'):\n",
    "            new.append(a)\n",
    "    return \" \".join(new)\n",
    "\n",
    "##### 6. Stemming words to root words\n",
    "def stem_func(x):\n",
    "    wordlist = word_tokenize(x)\n",
    "    psstem = [ps.stem(a) for a in wordlist]\n",
    "    return ' '.join(psstem)\n",
    "\n",
    "##### 7. Removing extra whitespaces \n",
    "def remove_whitespace_func(x):\n",
    "    return(wst.tokenize(x))\n",
    "\n",
    "def compose(f, g):\n",
    "    return lambda x: f(g(x))\n",
    "\n",
    "final=compose(compose(compose(compose(compose(compose(remove_whitespace_func,stem_func),remove_stopwords),remove_spec_char_func),remove_punc_func),remove_number_func),lower_func)"
   ]
  },
  {
   "cell_type": "markdown",
   "metadata": {},
   "source": [
    "##### Fake News"
   ]
  },
  {
   "cell_type": "code",
   "execution_count": 37,
   "metadata": {},
   "outputs": [],
   "source": [
    "df_fake=df[df['news_type']=='Fake']"
   ]
  },
  {
   "cell_type": "code",
   "execution_count": 38,
   "metadata": {
    "scrolled": true
   },
   "outputs": [],
   "source": [
    "cv1 = CountVectorizer(analyzer=final)\n",
    "cv1.fit(df_fake['title'])\n",
    "bow1=cv1.transform(df_fake['title'])"
   ]
  },
  {
   "cell_type": "code",
   "execution_count": 39,
   "metadata": {},
   "outputs": [
    {
     "data": {
      "text/plain": [
       "(91, 459)"
      ]
     },
     "execution_count": 39,
     "metadata": {},
     "output_type": "execute_result"
    }
   ],
   "source": [
    "pd.DataFrame(bow1.todense()).shape"
   ]
  },
  {
   "cell_type": "code",
   "execution_count": 40,
   "metadata": {},
   "outputs": [],
   "source": [
    "new1=[]\n",
    "for x in range(0,459):\n",
    "    new1.append(cv1.get_feature_names()[x])"
   ]
  },
  {
   "cell_type": "code",
   "execution_count": 41,
   "metadata": {},
   "outputs": [],
   "source": [
    "matrix1=pd.DataFrame(bow1.todense(),columns=new1)"
   ]
  },
  {
   "cell_type": "code",
   "execution_count": 42,
   "metadata": {},
   "outputs": [],
   "source": [
    "sm1=[]\n",
    "for x in new1:\n",
    "    sm1.append(matrix1[x].sum())"
   ]
  },
  {
   "cell_type": "code",
   "execution_count": 43,
   "metadata": {},
   "outputs": [],
   "source": [
    "trans1=matrix1.transpose()"
   ]
  },
  {
   "cell_type": "code",
   "execution_count": 44,
   "metadata": {},
   "outputs": [],
   "source": [
    "trans1['sum']=sm1"
   ]
  },
  {
   "cell_type": "code",
   "execution_count": 45,
   "metadata": {},
   "outputs": [],
   "source": [
    "top1=trans1.sort_values(by='sum', ascending=False).head(20)"
   ]
  },
  {
   "cell_type": "markdown",
   "metadata": {},
   "source": [
    "##### Real News"
   ]
  },
  {
   "cell_type": "code",
   "execution_count": 46,
   "metadata": {},
   "outputs": [],
   "source": [
    "df_real=df[df['news_type']=='Real']"
   ]
  },
  {
   "cell_type": "code",
   "execution_count": 47,
   "metadata": {
    "scrolled": true
   },
   "outputs": [],
   "source": [
    "cv2 = CountVectorizer(analyzer=final)\n",
    "cv2.fit(df_real['title'])\n",
    "bow2=cv2.transform(df_real['title'])"
   ]
  },
  {
   "cell_type": "code",
   "execution_count": 48,
   "metadata": {},
   "outputs": [
    {
     "data": {
      "text/plain": [
       "(91, 436)"
      ]
     },
     "execution_count": 48,
     "metadata": {},
     "output_type": "execute_result"
    }
   ],
   "source": [
    "pd.DataFrame(bow2.todense()).shape"
   ]
  },
  {
   "cell_type": "code",
   "execution_count": 49,
   "metadata": {},
   "outputs": [],
   "source": [
    "new2=[]\n",
    "for x in range(0,436):\n",
    "    new2.append(cv2.get_feature_names()[x])"
   ]
  },
  {
   "cell_type": "code",
   "execution_count": 50,
   "metadata": {},
   "outputs": [],
   "source": [
    "matrix2=pd.DataFrame(bow2.todense(),columns=new2)"
   ]
  },
  {
   "cell_type": "code",
   "execution_count": 51,
   "metadata": {},
   "outputs": [],
   "source": [
    "sm2=[]\n",
    "for x in new2:\n",
    "    sm2.append(matrix2[x].sum())"
   ]
  },
  {
   "cell_type": "code",
   "execution_count": 52,
   "metadata": {},
   "outputs": [],
   "source": [
    "trans2=matrix2.transpose()"
   ]
  },
  {
   "cell_type": "code",
   "execution_count": 53,
   "metadata": {},
   "outputs": [],
   "source": [
    "trans2['sum']=sm2"
   ]
  },
  {
   "cell_type": "code",
   "execution_count": 54,
   "metadata": {},
   "outputs": [],
   "source": [
    "top2=trans2.sort_values(by='sum', ascending=False).head(20)"
   ]
  },
  {
   "cell_type": "markdown",
   "metadata": {},
   "source": [
    "##### Concatenation"
   ]
  },
  {
   "cell_type": "code",
   "execution_count": 55,
   "metadata": {},
   "outputs": [],
   "source": [
    "top1.drop(list(range(0,91)),axis=1,inplace=True)"
   ]
  },
  {
   "cell_type": "code",
   "execution_count": 56,
   "metadata": {},
   "outputs": [],
   "source": [
    "top1['type']=['Fake']*20"
   ]
  },
  {
   "cell_type": "code",
   "execution_count": 57,
   "metadata": {},
   "outputs": [],
   "source": [
    "top2.drop(list(range(0,91)),axis=1,inplace=True)"
   ]
  },
  {
   "cell_type": "code",
   "execution_count": 58,
   "metadata": {},
   "outputs": [],
   "source": [
    "top2['type']=['Real']*20"
   ]
  },
  {
   "cell_type": "code",
   "execution_count": 59,
   "metadata": {},
   "outputs": [],
   "source": [
    "conc1=pd.concat([top1,top2])"
   ]
  },
  {
   "cell_type": "code",
   "execution_count": 60,
   "metadata": {},
   "outputs": [
    {
     "data": {
      "image/png": "[encoded data removed]",
      "text/plain": [
       "<Figure size 864x720 with 1 Axes>"
      ]
     },
     "metadata": {
      "needs_background": "light"
     },
     "output_type": "display_data"
    }
   ],
   "source": [
    "plt.figure(figsize=(12,10))\n",
    "sns.barplot(y=conc1.index,x='sum',data=conc1,hue='type',palette='viridis')\n",
    "plt.xticks(rotation=90)\n",
    "plt.xlabel('Term Frequency of Words',fontsize=12)\n",
    "plt.ylabel('Top Words in Titles',fontsize=12)\n",
    "plt.legend(title='News Type',fontsize=12)\n",
    "plt.title('Frequency of Words in the Title of News',fontsize=20)\n",
    "plt.show()"
   ]
  },
  {
   "cell_type": "markdown",
   "metadata": {},
   "source": [
    "#### Analysis of News Body"
   ]
  },
  {
   "cell_type": "markdown",
   "metadata": {},
   "source": [
    "##### Fake News"
   ]
  },
  {
   "cell_type": "code",
   "execution_count": 61,
   "metadata": {
    "scrolled": true
   },
   "outputs": [],
   "source": [
    "cv3 = CountVectorizer(analyzer=final)\n",
    "cv3.fit(df_fake['text'])\n",
    "bow3=cv3.transform(df_fake['text'])"
   ]
  },
  {
   "cell_type": "code",
   "execution_count": 62,
   "metadata": {},
   "outputs": [
    {
     "data": {
      "text/plain": [
       "(91, 4958)"
      ]
     },
     "execution_count": 62,
     "metadata": {},
     "output_type": "execute_result"
    }
   ],
   "source": [
    "pd.DataFrame(bow3.todense()).shape"
   ]
  },
  {
   "cell_type": "code",
   "execution_count": 63,
   "metadata": {},
   "outputs": [],
   "source": [
    "new3=[]\n",
    "for x in range(0,4958):\n",
    "    new3.append(cv3.get_feature_names()[x])"
   ]
  },
  {
   "cell_type": "code",
   "execution_count": 64,
   "metadata": {},
   "outputs": [],
   "source": [
    "matrix3=pd.DataFrame(bow3.todense(),columns=new3)"
   ]
  },
  {
   "cell_type": "code",
   "execution_count": 65,
   "metadata": {},
   "outputs": [],
   "source": [
    "sm3=[]\n",
    "for x in new3:\n",
    "    sm3.append(matrix3[x].sum())"
   ]
  },
  {
   "cell_type": "code",
   "execution_count": 66,
   "metadata": {},
   "outputs": [],
   "source": [
    "trans3=matrix3.transpose()"
   ]
  },
  {
   "cell_type": "code",
   "execution_count": 67,
   "metadata": {},
   "outputs": [],
   "source": [
    "trans3['sum']=sm3"
   ]
  },
  {
   "cell_type": "code",
   "execution_count": 68,
   "metadata": {},
   "outputs": [],
   "source": [
    "top3=trans3.sort_values(by='sum', ascending=False).head(30)"
   ]
  },
  {
   "cell_type": "markdown",
   "metadata": {},
   "source": [
    "##### Real News"
   ]
  },
  {
   "cell_type": "code",
   "execution_count": 69,
   "metadata": {
    "scrolled": true
   },
   "outputs": [],
   "source": [
    "cv4 = CountVectorizer(analyzer=final)\n",
    "cv4.fit(df_real['text'])\n",
    "bow4=cv4.transform(df_real['text'])"
   ]
  },
  {
   "cell_type": "code",
   "execution_count": 70,
   "metadata": {},
   "outputs": [
    {
     "data": {
      "text/plain": [
       "(91, 6529)"
      ]
     },
     "execution_count": 70,
     "metadata": {},
     "output_type": "execute_result"
    }
   ],
   "source": [
    "pd.DataFrame(bow4.todense()).shape"
   ]
  },
  {
   "cell_type": "code",
   "execution_count": 71,
   "metadata": {},
   "outputs": [],
   "source": [
    "new4=[]\n",
    "for x in range(0,6529):\n",
    "    new4.append(cv4.get_feature_names()[x])"
   ]
  },
  {
   "cell_type": "code",
   "execution_count": 72,
   "metadata": {},
   "outputs": [],
   "source": [
    "matrix4=pd.DataFrame(bow4.todense(),columns=new4)"
   ]
  },
  {
   "cell_type": "code",
   "execution_count": 73,
   "metadata": {},
   "outputs": [],
   "source": [
    "sm4=[]\n",
    "for x in new4:\n",
    "    sm4.append(matrix4[x].sum())"
   ]
  },
  {
   "cell_type": "code",
   "execution_count": 74,
   "metadata": {},
   "outputs": [],
   "source": [
    "trans4=matrix4.transpose()"
   ]
  },
  {
   "cell_type": "code",
   "execution_count": 75,
   "metadata": {},
   "outputs": [],
   "source": [
    "trans4['sum']=sm4"
   ]
  },
  {
   "cell_type": "code",
   "execution_count": 76,
   "metadata": {},
   "outputs": [],
   "source": [
    "top4=trans4.sort_values(by='sum', ascending=False).head(30)"
   ]
  },
  {
   "cell_type": "markdown",
   "metadata": {},
   "source": [
    "##### Concatenation"
   ]
  },
  {
   "cell_type": "code",
   "execution_count": 77,
   "metadata": {},
   "outputs": [],
   "source": [
    "top3.drop(list(range(0,91)),axis=1,inplace=True)"
   ]
  },
  {
   "cell_type": "code",
   "execution_count": 78,
   "metadata": {},
   "outputs": [],
   "source": [
    "top3['type']=['Fake']*30"
   ]
  },
  {
   "cell_type": "code",
   "execution_count": 79,
   "metadata": {},
   "outputs": [],
   "source": [
    "top4.drop(list(range(0,91)),axis=1,inplace=True)"
   ]
  },
  {
   "cell_type": "code",
   "execution_count": 80,
   "metadata": {},
   "outputs": [],
   "source": [
    "top4['type']=['Real']*30"
   ]
  },
  {
   "cell_type": "code",
   "execution_count": 81,
   "metadata": {},
   "outputs": [],
   "source": [
    "conc2=pd.concat([top3,top4])"
   ]
  },
  {
   "cell_type": "code",
   "execution_count": 82,
   "metadata": {},
   "outputs": [
    {
     "data": {
      "image/png": "[encoded data removed]",
      "text/plain": [
       "<Figure size 864x720 with 1 Axes>"
      ]
     },
     "metadata": {
      "needs_background": "light"
     },
     "output_type": "display_data"
    }
   ],
   "source": [
    "plt.figure(figsize=(12,10))\n",
    "sns.barplot(y=conc2.index,x='sum',data=conc2,hue='type',palette='viridis')\n",
    "plt.xticks(rotation=90)\n",
    "plt.xlabel('Term Frequency of Words',fontsize=12)\n",
    "plt.ylabel('Top Words in Texts',fontsize=12)\n",
    "plt.legend(title='News Type',fontsize=12,loc='lower right')\n",
    "plt.title('Frequency of Words in the Text of News',fontsize=20)\n",
    "plt.show()"
   ]
  },
  {
   "cell_type": "markdown",
   "metadata": {},
   "source": [
    "#### Analysis of Title Length"
   ]
  },
  {
   "cell_type": "code",
   "execution_count": 83,
   "metadata": {},
   "outputs": [],
   "source": [
    "df['title_length']=df['title'].apply(lambda x: len(x))"
   ]
  },
  {
   "cell_type": "code",
   "execution_count": 84,
   "metadata": {},
   "outputs": [
    {
     "data": {
      "image/png": "[encoded data removed]",
      "text/plain": [
       "<Figure size 720x432 with 1 Axes>"
      ]
     },
     "metadata": {
      "needs_background": "light"
     },
     "output_type": "display_data"
    }
   ],
   "source": [
    "plt.figure(figsize=(10,6))\n",
    "sns.kdeplot(df[df['news_type']=='Real']['title_length'])\n",
    "sns.kdeplot(df[df['news_type']=='Fake']['title_length'])\n",
    "plt.xlabel('Title Length',fontsize=12)\n",
    "plt.ylabel('Density',fontsize=12)\n",
    "plt.legend(title='News Type',fontsize=10,labels=['Real','Fake'])\n",
    "plt.title('Distribuiton of Title Length for Real and Fake News',fontsize=15)\n",
    "plt.show()"
   ]
  },
  {
   "cell_type": "markdown",
   "metadata": {},
   "source": [
    "## Fake/Real News Classification"
   ]
  },
  {
   "cell_type": "code",
   "execution_count": 85,
   "metadata": {},
   "outputs": [],
   "source": [
    "X1=df['text']\n",
    "y1=df['news_type']"
   ]
  },
  {
   "cell_type": "code",
   "execution_count": 86,
   "metadata": {},
   "outputs": [],
   "source": [
    "X1_train, X1_test, y1_train, y1_test = train_test_split(X1, y1, test_size=0.3, random_state=42)"
   ]
  },
  {
   "cell_type": "code",
   "execution_count": 87,
   "metadata": {},
   "outputs": [],
   "source": [
    "pp=Pipeline([\n",
    "    ('bow',CountVectorizer(analyzer=final)),\n",
    "    ('tfidf',TfidfTransformer()),\n",
    "    ('classifier',RandomForestClassifier())\n",
    "    ])"
   ]
  },
  {
   "cell_type": "code",
   "execution_count": 88,
   "metadata": {},
   "outputs": [
    {
     "data": {
      "text/plain": [
       "Pipeline(steps=[('bow',\n",
       "                 CountVectorizer(analyzer=<function compose.<locals>.<lambda> at 0x7fd89571d7b8>)),\n",
       "                ('tfidf', TfidfTransformer()),\n",
       "                ('classifier', RandomForestClassifier())])"
      ]
     },
     "execution_count": 88,
     "metadata": {},
     "output_type": "execute_result"
    }
   ],
   "source": [
    "pp.fit(X1_train,y1_train)"
   ]
  },
  {
   "cell_type": "code",
   "execution_count": 89,
   "metadata": {},
   "outputs": [],
   "source": [
    "predictions1=pp.predict(X1_test)"
   ]
  },
  {
   "cell_type": "code",
   "execution_count": 90,
   "metadata": {},
   "outputs": [
    {
     "name": "stdout",
     "output_type": "stream",
     "text": [
      "[[19  7]\n",
      " [ 8 21]]\n",
      "\n",
      "\n",
      "              precision    recall  f1-score   support\n",
      "\n",
      "        Fake       0.70      0.73      0.72        26\n",
      "        Real       0.75      0.72      0.74        29\n",
      "\n",
      "    accuracy                           0.73        55\n",
      "   macro avg       0.73      0.73      0.73        55\n",
      "weighted avg       0.73      0.73      0.73        55\n",
      "\n"
     ]
    }
   ],
   "source": [
    "print(confusion_matrix(y1_test, predictions1))\n",
    "print('\\n')\n",
    "print(classification_report(y1_test, predictions1))"
   ]
  },
  {
   "cell_type": "code",
   "execution_count": 91,
   "metadata": {},
   "outputs": [],
   "source": [
    "pp=Pipeline([\n",
    "    ('bow',CountVectorizer()),\n",
    "    ('tfidf',TfidfTransformer()),\n",
    "    ('classifier',RandomForestClassifier())\n",
    "    ])"
   ]
  },
  {
   "cell_type": "code",
   "execution_count": 92,
   "metadata": {},
   "outputs": [
    {
     "data": {
      "text/plain": [
       "Pipeline(steps=[('bow', CountVectorizer()), ('tfidf', TfidfTransformer()),\n",
       "                ('classifier', RandomForestClassifier())])"
      ]
     },
     "execution_count": 92,
     "metadata": {},
     "output_type": "execute_result"
    }
   ],
   "source": [
    "pp.fit(X1_train,y1_train)"
   ]
  },
  {
   "cell_type": "code",
   "execution_count": 93,
   "metadata": {},
   "outputs": [],
   "source": [
    "predictions2=pp.predict(X1_test)"
   ]
  },
  {
   "cell_type": "code",
   "execution_count": 94,
   "metadata": {},
   "outputs": [
    {
     "name": "stdout",
     "output_type": "stream",
     "text": [
      "[[18  8]\n",
      " [ 7 22]]\n",
      "\n",
      "\n",
      "              precision    recall  f1-score   support\n",
      "\n",
      "        Fake       0.72      0.69      0.71        26\n",
      "        Real       0.73      0.76      0.75        29\n",
      "\n",
      "    accuracy                           0.73        55\n",
      "   macro avg       0.73      0.73      0.73        55\n",
      "weighted avg       0.73      0.73      0.73        55\n",
      "\n"
     ]
    }
   ],
   "source": [
    "print(confusion_matrix(y1_test, predictions2))\n",
    "print('\\n')\n",
    "print(classification_report(y1_test, predictions2))"
   ]
  },
  {
   "cell_type": "code",
   "execution_count": 95,
   "metadata": {},
   "outputs": [],
   "source": [
    "pp=Pipeline([\n",
    "    ('bow',CountVectorizer(analyzer=final)),\n",
    "    ('tfidf',TfidfTransformer()),\n",
    "    ('classifier',MultinomialNB())\n",
    "    ])"
   ]
  },
  {
   "cell_type": "code",
   "execution_count": 96,
   "metadata": {},
   "outputs": [
    {
     "data": {
      "text/plain": [
       "Pipeline(steps=[('bow',\n",
       "                 CountVectorizer(analyzer=<function compose.<locals>.<lambda> at 0x7fd89571d7b8>)),\n",
       "                ('tfidf', TfidfTransformer()),\n",
       "                ('classifier', MultinomialNB())])"
      ]
     },
     "execution_count": 96,
     "metadata": {},
     "output_type": "execute_result"
    }
   ],
   "source": [
    "pp.fit(X1_train,y1_train)"
   ]
  },
  {
   "cell_type": "code",
   "execution_count": 97,
   "metadata": {},
   "outputs": [],
   "source": [
    "predictions3=pp.predict(X1_test)"
   ]
  },
  {
   "cell_type": "code",
   "execution_count": 98,
   "metadata": {},
   "outputs": [
    {
     "name": "stdout",
     "output_type": "stream",
     "text": [
      "[[22  4]\n",
      " [13 16]]\n",
      "\n",
      "\n",
      "              precision    recall  f1-score   support\n",
      "\n",
      "        Fake       0.63      0.85      0.72        26\n",
      "        Real       0.80      0.55      0.65        29\n",
      "\n",
      "    accuracy                           0.69        55\n",
      "   macro avg       0.71      0.70      0.69        55\n",
      "weighted avg       0.72      0.69      0.69        55\n",
      "\n"
     ]
    }
   ],
   "source": [
    "print(confusion_matrix(y1_test, predictions3))\n",
    "print('\\n')\n",
    "print(classification_report(y1_test, predictions3))"
   ]
  },
  {
   "cell_type": "code",
   "execution_count": 99,
   "metadata": {},
   "outputs": [],
   "source": [
    "pp=Pipeline([\n",
    "    ('bow',CountVectorizer()),\n",
    "    ('tfidf',TfidfTransformer()),\n",
    "    ('classifier',MultinomialNB())\n",
    "    ])"
   ]
  },
  {
   "cell_type": "code",
   "execution_count": 100,
   "metadata": {},
   "outputs": [
    {
     "data": {
      "text/plain": [
       "Pipeline(steps=[('bow', CountVectorizer()), ('tfidf', TfidfTransformer()),\n",
       "                ('classifier', MultinomialNB())])"
      ]
     },
     "execution_count": 100,
     "metadata": {},
     "output_type": "execute_result"
    }
   ],
   "source": [
    "pp.fit(X1_train,y1_train)"
   ]
  },
  {
   "cell_type": "code",
   "execution_count": 101,
   "metadata": {},
   "outputs": [],
   "source": [
    "predictions4=pp.predict(X1_test)"
   ]
  },
  {
   "cell_type": "code",
   "execution_count": 102,
   "metadata": {},
   "outputs": [
    {
     "name": "stdout",
     "output_type": "stream",
     "text": [
      "[[25  1]\n",
      " [17 12]]\n",
      "\n",
      "\n",
      "              precision    recall  f1-score   support\n",
      "\n",
      "        Fake       0.60      0.96      0.74        26\n",
      "        Real       0.92      0.41      0.57        29\n",
      "\n",
      "    accuracy                           0.67        55\n",
      "   macro avg       0.76      0.69      0.65        55\n",
      "weighted avg       0.77      0.67      0.65        55\n",
      "\n"
     ]
    }
   ],
   "source": [
    "print(confusion_matrix(y1_test, predictions4))\n",
    "print('\\n')\n",
    "print(classification_report(y1_test, predictions4))"
   ]
  },
  {
   "cell_type": "code",
   "execution_count": 103,
   "metadata": {},
   "outputs": [],
   "source": [
    "pp=Pipeline([\n",
    "    ('bow',CountVectorizer(analyzer=final)),\n",
    "    ('tfidf',TfidfTransformer()),\n",
    "    ('classifier',PassiveAggressiveClassifier())\n",
    "    ])"
   ]
  },
  {
   "cell_type": "code",
   "execution_count": 104,
   "metadata": {},
   "outputs": [
    {
     "data": {
      "text/plain": [
       "Pipeline(steps=[('bow',\n",
       "                 CountVectorizer(analyzer=<function compose.<locals>.<lambda> at 0x7fd89571d7b8>)),\n",
       "                ('tfidf', TfidfTransformer()),\n",
       "                ('classifier', PassiveAggressiveClassifier())])"
      ]
     },
     "execution_count": 104,
     "metadata": {},
     "output_type": "execute_result"
    }
   ],
   "source": [
    "pp.fit(X1_train,y1_train)"
   ]
  },
  {
   "cell_type": "code",
   "execution_count": 105,
   "metadata": {},
   "outputs": [],
   "source": [
    "predictions5=pp.predict(X1_test)"
   ]
  },
  {
   "cell_type": "code",
   "execution_count": 106,
   "metadata": {},
   "outputs": [
    {
     "name": "stdout",
     "output_type": "stream",
     "text": [
      "[[20  6]\n",
      " [ 5 24]]\n",
      "\n",
      "\n",
      "              precision    recall  f1-score   support\n",
      "\n",
      "        Fake       0.80      0.77      0.78        26\n",
      "        Real       0.80      0.83      0.81        29\n",
      "\n",
      "    accuracy                           0.80        55\n",
      "   macro avg       0.80      0.80      0.80        55\n",
      "weighted avg       0.80      0.80      0.80        55\n",
      "\n"
     ]
    }
   ],
   "source": [
    "print(confusion_matrix(y1_test, predictions5))\n",
    "print('\\n')\n",
    "print(classification_report(y1_test, predictions5))"
   ]
  },
  {
   "cell_type": "code",
   "execution_count": 107,
   "metadata": {},
   "outputs": [],
   "source": [
    "pp=Pipeline([\n",
    "    ('bow',CountVectorizer()),\n",
    "    ('tfidf',TfidfTransformer()),\n",
    "    ('classifier',PassiveAggressiveClassifier())\n",
    "    ])"
   ]
  },
  {
   "cell_type": "code",
   "execution_count": 108,
   "metadata": {},
   "outputs": [
    {
     "data": {
      "text/plain": [
       "Pipeline(steps=[('bow', CountVectorizer()), ('tfidf', TfidfTransformer()),\n",
       "                ('classifier', PassiveAggressiveClassifier())])"
      ]
     },
     "execution_count": 108,
     "metadata": {},
     "output_type": "execute_result"
    }
   ],
   "source": [
    "pp.fit(X1_train,y1_train)"
   ]
  },
  {
   "cell_type": "code",
   "execution_count": 109,
   "metadata": {},
   "outputs": [],
   "source": [
    "predictions6=pp.predict(X1_test)"
   ]
  },
  {
   "cell_type": "code",
   "execution_count": 110,
   "metadata": {},
   "outputs": [
    {
     "name": "stdout",
     "output_type": "stream",
     "text": [
      "[[22  4]\n",
      " [ 4 25]]\n",
      "\n",
      "\n",
      "              precision    recall  f1-score   support\n",
      "\n",
      "        Fake       0.85      0.85      0.85        26\n",
      "        Real       0.86      0.86      0.86        29\n",
      "\n",
      "    accuracy                           0.85        55\n",
      "   macro avg       0.85      0.85      0.85        55\n",
      "weighted avg       0.85      0.85      0.85        55\n",
      "\n"
     ]
    }
   ],
   "source": [
    "print(confusion_matrix(y1_test, predictions6))\n",
    "print('\\n')\n",
    "print(classification_report(y1_test, predictions6))"
   ]
  },
  {
   "cell_type": "markdown",
   "metadata": {},
   "source": [
    "### Fake/Real News Detection Based on News Title"
   ]
  },
  {
   "cell_type": "code",
   "execution_count": 111,
   "metadata": {},
   "outputs": [],
   "source": [
    "X2=df['title']\n",
    "y2=df['news_type']"
   ]
  },
  {
   "cell_type": "code",
   "execution_count": 112,
   "metadata": {},
   "outputs": [],
   "source": [
    "X2_train, X2_test, y2_train, y2_test = train_test_split(X2, y2, test_size=0.3, random_state=42)"
   ]
  },
  {
   "cell_type": "code",
   "execution_count": 113,
   "metadata": {},
   "outputs": [],
   "source": [
    "pp=Pipeline([\n",
    "    ('bow',CountVectorizer(analyzer=final)),\n",
    "    ('tfidf',TfidfTransformer()),\n",
    "    ('classifier',RandomForestClassifier())\n",
    "    ])"
   ]
  },
  {
   "cell_type": "code",
   "execution_count": 114,
   "metadata": {},
   "outputs": [
    {
     "data": {
      "text/plain": [
       "Pipeline(steps=[('bow',\n",
       "                 CountVectorizer(analyzer=<function compose.<locals>.<lambda> at 0x7fd89571d7b8>)),\n",
       "                ('tfidf', TfidfTransformer()),\n",
       "                ('classifier', RandomForestClassifier())])"
      ]
     },
     "execution_count": 114,
     "metadata": {},
     "output_type": "execute_result"
    }
   ],
   "source": [
    "pp.fit(X2_train,y2_train)"
   ]
  },
  {
   "cell_type": "code",
   "execution_count": 115,
   "metadata": {},
   "outputs": [],
   "source": [
    "predictions7=pp.predict(X2_test)"
   ]
  },
  {
   "cell_type": "code",
   "execution_count": 116,
   "metadata": {},
   "outputs": [
    {
     "name": "stdout",
     "output_type": "stream",
     "text": [
      "[[20  6]\n",
      " [13 16]]\n",
      "\n",
      "\n",
      "              precision    recall  f1-score   support\n",
      "\n",
      "        Fake       0.61      0.77      0.68        26\n",
      "        Real       0.73      0.55      0.63        29\n",
      "\n",
      "    accuracy                           0.65        55\n",
      "   macro avg       0.67      0.66      0.65        55\n",
      "weighted avg       0.67      0.65      0.65        55\n",
      "\n"
     ]
    }
   ],
   "source": [
    "print(confusion_matrix(y2_test, predictions7))\n",
    "print('\\n')\n",
    "print(classification_report(y2_test, predictions7))"
   ]
  },
  {
   "cell_type": "code",
   "execution_count": 117,
   "metadata": {},
   "outputs": [],
   "source": [
    "pp=Pipeline([\n",
    "    ('bow',CountVectorizer()),\n",
    "    ('tfidf',TfidfTransformer()),\n",
    "    ('classifier',RandomForestClassifier())\n",
    "    ])"
   ]
  },
  {
   "cell_type": "code",
   "execution_count": 118,
   "metadata": {},
   "outputs": [
    {
     "data": {
      "text/plain": [
       "Pipeline(steps=[('bow', CountVectorizer()), ('tfidf', TfidfTransformer()),\n",
       "                ('classifier', RandomForestClassifier())])"
      ]
     },
     "execution_count": 118,
     "metadata": {},
     "output_type": "execute_result"
    }
   ],
   "source": [
    "pp.fit(X2_train,y2_train)"
   ]
  },
  {
   "cell_type": "code",
   "execution_count": 119,
   "metadata": {},
   "outputs": [],
   "source": [
    "predictions8=pp.predict(X2_test)"
   ]
  },
  {
   "cell_type": "code",
   "execution_count": 120,
   "metadata": {},
   "outputs": [
    {
     "name": "stdout",
     "output_type": "stream",
     "text": [
      "[[17  9]\n",
      " [11 18]]\n",
      "\n",
      "\n",
      "              precision    recall  f1-score   support\n",
      "\n",
      "        Fake       0.61      0.65      0.63        26\n",
      "        Real       0.67      0.62      0.64        29\n",
      "\n",
      "    accuracy                           0.64        55\n",
      "   macro avg       0.64      0.64      0.64        55\n",
      "weighted avg       0.64      0.64      0.64        55\n",
      "\n"
     ]
    }
   ],
   "source": [
    "print(confusion_matrix(y2_test, predictions8))\n",
    "print('\\n')\n",
    "print(classification_report(y2_test, predictions8))"
   ]
  },
  {
   "cell_type": "code",
   "execution_count": 121,
   "metadata": {},
   "outputs": [],
   "source": [
    "pp=Pipeline([\n",
    "    ('bow',CountVectorizer(analyzer=final)),\n",
    "    ('tfidf',TfidfTransformer()),\n",
    "    ('classifier',MultinomialNB())\n",
    "    ])"
   ]
  },
  {
   "cell_type": "code",
   "execution_count": 122,
   "metadata": {},
   "outputs": [
    {
     "data": {
      "text/plain": [
       "Pipeline(steps=[('bow',\n",
       "                 CountVectorizer(analyzer=<function compose.<locals>.<lambda> at 0x7fd89571d7b8>)),\n",
       "                ('tfidf', TfidfTransformer()),\n",
       "                ('classifier', MultinomialNB())])"
      ]
     },
     "execution_count": 122,
     "metadata": {},
     "output_type": "execute_result"
    }
   ],
   "source": [
    "pp.fit(X2_train,y2_train)"
   ]
  },
  {
   "cell_type": "code",
   "execution_count": 123,
   "metadata": {},
   "outputs": [],
   "source": [
    "predictions9=pp.predict(X2_test)"
   ]
  },
  {
   "cell_type": "code",
   "execution_count": 124,
   "metadata": {
    "scrolled": true
   },
   "outputs": [
    {
     "name": "stdout",
     "output_type": "stream",
     "text": [
      "[[21  5]\n",
      " [17 12]]\n",
      "\n",
      "\n",
      "              precision    recall  f1-score   support\n",
      "\n",
      "        Fake       0.55      0.81      0.66        26\n",
      "        Real       0.71      0.41      0.52        29\n",
      "\n",
      "    accuracy                           0.60        55\n",
      "   macro avg       0.63      0.61      0.59        55\n",
      "weighted avg       0.63      0.60      0.59        55\n",
      "\n"
     ]
    }
   ],
   "source": [
    "print(confusion_matrix(y2_test, predictions9))\n",
    "print('\\n')\n",
    "print(classification_report(y2_test, predictions9))"
   ]
  },
  {
   "cell_type": "code",
   "execution_count": 125,
   "metadata": {},
   "outputs": [],
   "source": [
    "pp=Pipeline([\n",
    "    ('bow',CountVectorizer()),\n",
    "    ('tfidf',TfidfTransformer()),\n",
    "    ('classifier',MultinomialNB())\n",
    "    ])"
   ]
  },
  {
   "cell_type": "code",
   "execution_count": 126,
   "metadata": {},
   "outputs": [
    {
     "data": {
      "text/plain": [
       "Pipeline(steps=[('bow', CountVectorizer()), ('tfidf', TfidfTransformer()),\n",
       "                ('classifier', MultinomialNB())])"
      ]
     },
     "execution_count": 126,
     "metadata": {},
     "output_type": "execute_result"
    }
   ],
   "source": [
    "pp.fit(X2_train,y2_train)"
   ]
  },
  {
   "cell_type": "code",
   "execution_count": 127,
   "metadata": {},
   "outputs": [],
   "source": [
    "predictions10=pp.predict(X2_test)"
   ]
  },
  {
   "cell_type": "code",
   "execution_count": 128,
   "metadata": {
    "scrolled": true
   },
   "outputs": [
    {
     "name": "stdout",
     "output_type": "stream",
     "text": [
      "[[22  4]\n",
      " [19 10]]\n",
      "\n",
      "\n",
      "              precision    recall  f1-score   support\n",
      "\n",
      "        Fake       0.54      0.85      0.66        26\n",
      "        Real       0.71      0.34      0.47        29\n",
      "\n",
      "    accuracy                           0.58        55\n",
      "   macro avg       0.63      0.60      0.56        55\n",
      "weighted avg       0.63      0.58      0.56        55\n",
      "\n"
     ]
    }
   ],
   "source": [
    "print(confusion_matrix(y2_test, predictions10))\n",
    "print('\\n')\n",
    "print(classification_report(y2_test, predictions10))"
   ]
  },
  {
   "cell_type": "code",
   "execution_count": 129,
   "metadata": {},
   "outputs": [],
   "source": [
    "pp=Pipeline([\n",
    "    ('bow',CountVectorizer(analyzer=final)),\n",
    "    ('tfidf',TfidfTransformer()),\n",
    "    ('classifier',PassiveAggressiveClassifier())\n",
    "    ])"
   ]
  },
  {
   "cell_type": "code",
   "execution_count": 130,
   "metadata": {},
   "outputs": [
    {
     "data": {
      "text/plain": [
       "Pipeline(steps=[('bow',\n",
       "                 CountVectorizer(analyzer=<function compose.<locals>.<lambda> at 0x7fd89571d7b8>)),\n",
       "                ('tfidf', TfidfTransformer()),\n",
       "                ('classifier', PassiveAggressiveClassifier())])"
      ]
     },
     "execution_count": 130,
     "metadata": {},
     "output_type": "execute_result"
    }
   ],
   "source": [
    "pp.fit(X2_train,y2_train)"
   ]
  },
  {
   "cell_type": "code",
   "execution_count": 131,
   "metadata": {},
   "outputs": [],
   "source": [
    "predictions11=pp.predict(X2_test)"
   ]
  },
  {
   "cell_type": "code",
   "execution_count": 132,
   "metadata": {},
   "outputs": [
    {
     "name": "stdout",
     "output_type": "stream",
     "text": [
      "[[20  6]\n",
      " [15 14]]\n",
      "\n",
      "\n",
      "              precision    recall  f1-score   support\n",
      "\n",
      "        Fake       0.57      0.77      0.66        26\n",
      "        Real       0.70      0.48      0.57        29\n",
      "\n",
      "    accuracy                           0.62        55\n",
      "   macro avg       0.64      0.63      0.61        55\n",
      "weighted avg       0.64      0.62      0.61        55\n",
      "\n"
     ]
    }
   ],
   "source": [
    "print(confusion_matrix(y2_test, predictions11))\n",
    "print('\\n')\n",
    "print(classification_report(y2_test, predictions11))"
   ]
  },
  {
   "cell_type": "code",
   "execution_count": 133,
   "metadata": {},
   "outputs": [],
   "source": [
    "pp=Pipeline([\n",
    "    ('bow',CountVectorizer()),\n",
    "    ('tfidf',TfidfTransformer()),\n",
    "    ('classifier',PassiveAggressiveClassifier())\n",
    "    ])"
   ]
  },
  {
   "cell_type": "code",
   "execution_count": 134,
   "metadata": {},
   "outputs": [
    {
     "data": {
      "text/plain": [
       "Pipeline(steps=[('bow', CountVectorizer()), ('tfidf', TfidfTransformer()),\n",
       "                ('classifier', PassiveAggressiveClassifier())])"
      ]
     },
     "execution_count": 134,
     "metadata": {},
     "output_type": "execute_result"
    }
   ],
   "source": [
    "pp.fit(X2_train,y2_train)"
   ]
  },
  {
   "cell_type": "code",
   "execution_count": 135,
   "metadata": {},
   "outputs": [],
   "source": [
    "predictions12=pp.predict(X2_test)"
   ]
  },
  {
   "cell_type": "code",
   "execution_count": 136,
   "metadata": {},
   "outputs": [
    {
     "name": "stdout",
     "output_type": "stream",
     "text": [
      "[[20  6]\n",
      " [18 11]]\n",
      "\n",
      "\n",
      "              precision    recall  f1-score   support\n",
      "\n",
      "        Fake       0.53      0.77      0.62        26\n",
      "        Real       0.65      0.38      0.48        29\n",
      "\n",
      "    accuracy                           0.56        55\n",
      "   macro avg       0.59      0.57      0.55        55\n",
      "weighted avg       0.59      0.56      0.55        55\n",
      "\n"
     ]
    }
   ],
   "source": [
    "print(confusion_matrix(y2_test, predictions12))\n",
    "print('\\n')\n",
    "print(classification_report(y2_test, predictions12))"
   ]
  },
  {
   "cell_type": "markdown",
   "metadata": {},
   "source": [
    "### Fake/Real News Detection Based on Both Body and Title of News "
   ]
  },
  {
   "cell_type": "code",
   "execution_count": 137,
   "metadata": {},
   "outputs": [],
   "source": [
    "df['title_text']=df['title']+': ' +df['text']"
   ]
  },
  {
   "cell_type": "code",
   "execution_count": 138,
   "metadata": {},
   "outputs": [],
   "source": [
    "X3=df['title_text']\n",
    "y3=df['news_type']"
   ]
  },
  {
   "cell_type": "code",
   "execution_count": 139,
   "metadata": {},
   "outputs": [],
   "source": [
    "X3_train, X3_test, y3_train, y3_test = train_test_split(X3, y3, test_size=0.3, random_state=42)"
   ]
  },
  {
   "cell_type": "code",
   "execution_count": 140,
   "metadata": {},
   "outputs": [],
   "source": [
    "pp=Pipeline([\n",
    "    ('bow',CountVectorizer(analyzer=final)),\n",
    "    ('tfidf',TfidfTransformer()),\n",
    "    ('classifier',RandomForestClassifier())\n",
    "    ])"
   ]
  },
  {
   "cell_type": "code",
   "execution_count": 141,
   "metadata": {},
   "outputs": [
    {
     "data": {
      "text/plain": [
       "Pipeline(steps=[('bow',\n",
       "                 CountVectorizer(analyzer=<function compose.<locals>.<lambda> at 0x7fd89571d7b8>)),\n",
       "                ('tfidf', TfidfTransformer()),\n",
       "                ('classifier', RandomForestClassifier())])"
      ]
     },
     "execution_count": 141,
     "metadata": {},
     "output_type": "execute_result"
    }
   ],
   "source": [
    "pp.fit(X3_train,y3_train)"
   ]
  },
  {
   "cell_type": "code",
   "execution_count": 142,
   "metadata": {},
   "outputs": [],
   "source": [
    "predictions13=pp.predict(X3_test)"
   ]
  },
  {
   "cell_type": "code",
   "execution_count": 143,
   "metadata": {},
   "outputs": [
    {
     "name": "stdout",
     "output_type": "stream",
     "text": [
      "[[18  8]\n",
      " [ 5 24]]\n",
      "\n",
      "\n",
      "              precision    recall  f1-score   support\n",
      "\n",
      "        Fake       0.78      0.69      0.73        26\n",
      "        Real       0.75      0.83      0.79        29\n",
      "\n",
      "    accuracy                           0.76        55\n",
      "   macro avg       0.77      0.76      0.76        55\n",
      "weighted avg       0.77      0.76      0.76        55\n",
      "\n"
     ]
    }
   ],
   "source": [
    "print(confusion_matrix(y3_test, predictions13))\n",
    "print('\\n')\n",
    "print(classification_report(y3_test, predictions13))"
   ]
  },
  {
   "cell_type": "code",
   "execution_count": 144,
   "metadata": {},
   "outputs": [],
   "source": [
    "pp=Pipeline([\n",
    "    ('bow',CountVectorizer()),\n",
    "    ('tfidf',TfidfTransformer()),\n",
    "    ('classifier',RandomForestClassifier())\n",
    "    ])"
   ]
  },
  {
   "cell_type": "code",
   "execution_count": 145,
   "metadata": {},
   "outputs": [
    {
     "data": {
      "text/plain": [
       "Pipeline(steps=[('bow', CountVectorizer()), ('tfidf', TfidfTransformer()),\n",
       "                ('classifier', RandomForestClassifier())])"
      ]
     },
     "execution_count": 145,
     "metadata": {},
     "output_type": "execute_result"
    }
   ],
   "source": [
    "pp.fit(X3_train,y3_train)"
   ]
  },
  {
   "cell_type": "code",
   "execution_count": 146,
   "metadata": {},
   "outputs": [],
   "source": [
    "predictions14=pp.predict(X3_test)"
   ]
  },
  {
   "cell_type": "code",
   "execution_count": 147,
   "metadata": {},
   "outputs": [
    {
     "name": "stdout",
     "output_type": "stream",
     "text": [
      "[[18  8]\n",
      " [ 5 24]]\n",
      "\n",
      "\n",
      "              precision    recall  f1-score   support\n",
      "\n",
      "        Fake       0.78      0.69      0.73        26\n",
      "        Real       0.75      0.83      0.79        29\n",
      "\n",
      "    accuracy                           0.76        55\n",
      "   macro avg       0.77      0.76      0.76        55\n",
      "weighted avg       0.77      0.76      0.76        55\n",
      "\n"
     ]
    }
   ],
   "source": [
    "print(confusion_matrix(y3_test, predictions14))\n",
    "print('\\n')\n",
    "print(classification_report(y3_test, predictions14))"
   ]
  },
  {
   "cell_type": "code",
   "execution_count": 148,
   "metadata": {},
   "outputs": [],
   "source": [
    "pp=Pipeline([\n",
    "    ('bow',CountVectorizer(analyzer=final)),\n",
    "    ('tfidf',TfidfTransformer()),\n",
    "    ('classifier',MultinomialNB())\n",
    "    ])"
   ]
  },
  {
   "cell_type": "code",
   "execution_count": 149,
   "metadata": {},
   "outputs": [
    {
     "data": {
      "text/plain": [
       "Pipeline(steps=[('bow',\n",
       "                 CountVectorizer(analyzer=<function compose.<locals>.<lambda> at 0x7fd89571d7b8>)),\n",
       "                ('tfidf', TfidfTransformer()),\n",
       "                ('classifier', MultinomialNB())])"
      ]
     },
     "execution_count": 149,
     "metadata": {},
     "output_type": "execute_result"
    }
   ],
   "source": [
    "pp.fit(X3_train,y3_train)"
   ]
  },
  {
   "cell_type": "code",
   "execution_count": 150,
   "metadata": {},
   "outputs": [],
   "source": [
    "predictions15=pp.predict(X3_test)"
   ]
  },
  {
   "cell_type": "code",
   "execution_count": 151,
   "metadata": {},
   "outputs": [
    {
     "name": "stdout",
     "output_type": "stream",
     "text": [
      "[[22  4]\n",
      " [15 14]]\n",
      "\n",
      "\n",
      "              precision    recall  f1-score   support\n",
      "\n",
      "        Fake       0.59      0.85      0.70        26\n",
      "        Real       0.78      0.48      0.60        29\n",
      "\n",
      "    accuracy                           0.65        55\n",
      "   macro avg       0.69      0.66      0.65        55\n",
      "weighted avg       0.69      0.65      0.64        55\n",
      "\n"
     ]
    }
   ],
   "source": [
    "print(confusion_matrix(y3_test, predictions15))\n",
    "print('\\n')\n",
    "print(classification_report(y3_test, predictions15))"
   ]
  },
  {
   "cell_type": "code",
   "execution_count": 152,
   "metadata": {},
   "outputs": [],
   "source": [
    "pp=Pipeline([\n",
    "    ('bow',CountVectorizer()),\n",
    "    ('tfidf',TfidfTransformer()),\n",
    "    ('classifier',MultinomialNB())\n",
    "    ])"
   ]
  },
  {
   "cell_type": "code",
   "execution_count": 153,
   "metadata": {},
   "outputs": [
    {
     "data": {
      "text/plain": [
       "Pipeline(steps=[('bow', CountVectorizer()), ('tfidf', TfidfTransformer()),\n",
       "                ('classifier', MultinomialNB())])"
      ]
     },
     "execution_count": 153,
     "metadata": {},
     "output_type": "execute_result"
    }
   ],
   "source": [
    "pp.fit(X3_train,y3_train)"
   ]
  },
  {
   "cell_type": "code",
   "execution_count": 154,
   "metadata": {},
   "outputs": [],
   "source": [
    "predictions16=pp.predict(X3_test)"
   ]
  },
  {
   "cell_type": "code",
   "execution_count": 155,
   "metadata": {},
   "outputs": [
    {
     "name": "stdout",
     "output_type": "stream",
     "text": [
      "[[25  1]\n",
      " [19 10]]\n",
      "\n",
      "\n",
      "              precision    recall  f1-score   support\n",
      "\n",
      "        Fake       0.57      0.96      0.71        26\n",
      "        Real       0.91      0.34      0.50        29\n",
      "\n",
      "    accuracy                           0.64        55\n",
      "   macro avg       0.74      0.65      0.61        55\n",
      "weighted avg       0.75      0.64      0.60        55\n",
      "\n"
     ]
    }
   ],
   "source": [
    "print(confusion_matrix(y3_test, predictions16))\n",
    "print('\\n')\n",
    "print(classification_report(y3_test, predictions16))"
   ]
  },
  {
   "cell_type": "code",
   "execution_count": 156,
   "metadata": {},
   "outputs": [],
   "source": [
    "pp=Pipeline([\n",
    "    ('bow',CountVectorizer(analyzer=final)),\n",
    "    ('tfidf',TfidfTransformer()),\n",
    "    ('classifier',PassiveAggressiveClassifier())\n",
    "    ])"
   ]
  },
  {
   "cell_type": "code",
   "execution_count": 157,
   "metadata": {},
   "outputs": [
    {
     "data": {
      "text/plain": [
       "Pipeline(steps=[('bow',\n",
       "                 CountVectorizer(analyzer=<function compose.<locals>.<lambda> at 0x7fd89571d7b8>)),\n",
       "                ('tfidf', TfidfTransformer()),\n",
       "                ('classifier', PassiveAggressiveClassifier())])"
      ]
     },
     "execution_count": 157,
     "metadata": {},
     "output_type": "execute_result"
    }
   ],
   "source": [
    "pp.fit(X3_train,y3_train)"
   ]
  },
  {
   "cell_type": "code",
   "execution_count": 158,
   "metadata": {},
   "outputs": [],
   "source": [
    "predictions17=pp.predict(X3_test)"
   ]
  },
  {
   "cell_type": "code",
   "execution_count": 159,
   "metadata": {
    "scrolled": true
   },
   "outputs": [
    {
     "name": "stdout",
     "output_type": "stream",
     "text": [
      "[[21  5]\n",
      " [ 7 22]]\n",
      "\n",
      "\n",
      "              precision    recall  f1-score   support\n",
      "\n",
      "        Fake       0.75      0.81      0.78        26\n",
      "        Real       0.81      0.76      0.79        29\n",
      "\n",
      "    accuracy                           0.78        55\n",
      "   macro avg       0.78      0.78      0.78        55\n",
      "weighted avg       0.78      0.78      0.78        55\n",
      "\n"
     ]
    }
   ],
   "source": [
    "print(confusion_matrix(y3_test, predictions17))\n",
    "print('\\n')\n",
    "print(classification_report(y3_test, predictions17))"
   ]
  },
  {
   "cell_type": "code",
   "execution_count": 160,
   "metadata": {},
   "outputs": [],
   "source": [
    "pp=Pipeline([\n",
    "    ('bow',CountVectorizer()),\n",
    "    ('tfidf',TfidfTransformer()),\n",
    "    ('classifier',PassiveAggressiveClassifier())\n",
    "    ])"
   ]
  },
  {
   "cell_type": "code",
   "execution_count": 161,
   "metadata": {},
   "outputs": [
    {
     "data": {
      "text/plain": [
       "Pipeline(steps=[('bow', CountVectorizer()), ('tfidf', TfidfTransformer()),\n",
       "                ('classifier', PassiveAggressiveClassifier())])"
      ]
     },
     "execution_count": 161,
     "metadata": {},
     "output_type": "execute_result"
    }
   ],
   "source": [
    "pp.fit(X3_train,y3_train)"
   ]
  },
  {
   "cell_type": "code",
   "execution_count": 162,
   "metadata": {},
   "outputs": [],
   "source": [
    "predictions18=pp.predict(X3_test)"
   ]
  },
  {
   "cell_type": "code",
   "execution_count": 163,
   "metadata": {},
   "outputs": [
    {
     "name": "stdout",
     "output_type": "stream",
     "text": [
      "[[23  3]\n",
      " [ 4 25]]\n",
      "\n",
      "\n",
      "              precision    recall  f1-score   support\n",
      "\n",
      "        Fake       0.85      0.88      0.87        26\n",
      "        Real       0.89      0.86      0.88        29\n",
      "\n",
      "    accuracy                           0.87        55\n",
      "   macro avg       0.87      0.87      0.87        55\n",
      "weighted avg       0.87      0.87      0.87        55\n",
      "\n"
     ]
    }
   ],
   "source": [
    "print(confusion_matrix(y3_test, predictions18))\n",
    "print('\\n')\n",
    "print(classification_report(y3_test, predictions18))"
   ]
  },
  {
   "cell_type": "code",
   "execution_count": 164,
   "metadata": {},
   "outputs": [
    {
     "name": "stdout",
     "output_type": "stream",
     "text": [
      "Text_Random Forest Classifier_With Text Preprocessing:  73.0\n",
      "Text_Random Forest Classifier_Without Text Preprocessing:  73.0\n",
      "Text_Naive Bayes Classifier_With Text Preprocessing:  69.0\n",
      "Text_Naive Bayes Classifier_Without Text Preprocessing:  67.0\n",
      "Text_Passive Aggressive Classifier_With Text Preprocessing:  80.0\n",
      "Text_Passive Aggressive Classifier_Without Text Preprocessing:  85.0\n",
      "\n",
      "\n",
      "Title_Random Forest Classifier_With Text Preprocessing:  65.0\n",
      "Title_Random Forest Classifier_Without Text Preprocessing:  64.0\n",
      "Title_Naive Bayes Classifier_With Text Preprocessing:  60.0\n",
      "Title_Naive Bayes Classifier_Without Text Preprocessing:  58.0\n",
      "Title_Passive Aggressive Classifier_With Text Preprocessing:  62.0\n",
      "Title_Passive Aggressive Classifier_Without Text Preprocessing:  56.0\n",
      "\n",
      "\n",
      "Text&Title_Random Forest Classifier_With Text Preprocessing:  76.0\n",
      "Text&Title_Random Forest Classifier_Without Text Preprocessing:  76.0\n",
      "Text&Title_Naive Bayes Classifier_With Text Preprocessing:  65.0\n",
      "Text&Title_Naive Bayes Classifier_Without Text Preprocessing:  64.0\n",
      "Text&Title_Passive Aggressive Classifier_With Text Preprocessing:  78.0\n",
      "Text&Title_Passive Aggressive Classifier_Without Text Preprocessing:  87.0\n"
     ]
    }
   ],
   "source": [
    "print('Text_Random Forest Classifier_With Text Preprocessing: ', round(100*accuracy_score(y1_test,predictions1)))\n",
    "print('Text_Random Forest Classifier_Without Text Preprocessing: ', round(100*accuracy_score(y1_test,predictions2)))\n",
    "print('Text_Naive Bayes Classifier_With Text Preprocessing: ', round(100*accuracy_score(y1_test,predictions3)))\n",
    "print('Text_Naive Bayes Classifier_Without Text Preprocessing: ', round(100*accuracy_score(y1_test,predictions4)))\n",
    "print('Text_Passive Aggressive Classifier_With Text Preprocessing: ', round(100*accuracy_score(y1_test,predictions5)))\n",
    "print('Text_Passive Aggressive Classifier_Without Text Preprocessing: ', round(100*accuracy_score(y1_test,predictions6)))\n",
    "print('\\n')\n",
    "print('Title_Random Forest Classifier_With Text Preprocessing: ', round(100*accuracy_score(y2_test,predictions7)))\n",
    "print('Title_Random Forest Classifier_Without Text Preprocessing: ', round(100*accuracy_score(y2_test,predictions8)))\n",
    "print('Title_Naive Bayes Classifier_With Text Preprocessing: ', round(100*accuracy_score(y2_test,predictions9)))\n",
    "print('Title_Naive Bayes Classifier_Without Text Preprocessing: ', round(100*accuracy_score(y2_test,predictions10)))\n",
    "print('Title_Passive Aggressive Classifier_With Text Preprocessing: ', round(100*accuracy_score(y2_test,predictions11)))\n",
    "print('Title_Passive Aggressive Classifier_Without Text Preprocessing: ', round(100*accuracy_score(y2_test,predictions12)))\n",
    "print('\\n')\n",
    "print('Text&Title_Random Forest Classifier_With Text Preprocessing: ', round(100*accuracy_score(y3_test,predictions13)))\n",
    "print('Text&Title_Random Forest Classifier_Without Text Preprocessing: ', round(100*accuracy_score(y3_test,predictions14)))\n",
    "print('Text&Title_Naive Bayes Classifier_With Text Preprocessing: ', round(100*accuracy_score(y3_test,predictions15)))\n",
    "print('Text&Title_Naive Bayes Classifier_Without Text Preprocessing: ', round(100*accuracy_score(y3_test,predictions16)))\n",
    "print('Text&Title_Passive Aggressive Classifier_With Text Preprocessing: ', round(100*accuracy_score(y3_test,predictions17)))\n",
    "print('Text&Title_Passive Aggressive Classifier_Without Text Preprocessing: ', round(100*accuracy_score(y3_test,predictions18)))"
   ]
  },
  {
   "cell_type": "code",
   "execution_count": 166,
   "metadata": {},
   "outputs": [
    {
     "name": "stdout",
     "output_type": "stream",
     "text": [
      "(145, 1)\n"
     ]
    }
   ],
   "source": [
    "import sklearn.model_selection as ms\n",
    "X_t, X_ts, y_t, y_ts = ms.train_test_split(df['title_text'], df['news_type'], test_size = 0.2, random_state=1, stratify=df['news_type'])\n",
    "X_t = pd.DataFrame(X_t)\n",
    "X_ts = pd.DataFrame(X_ts)\n",
    "y_t = pd.DataFrame(y_t)\n",
    "y_ts = pd.DataFrame(y_ts)\n",
    "print(X_t.shape)"
   ]
  },
  {
   "cell_type": "code",
   "execution_count": 171,
   "metadata": {},
   "outputs": [
    {
     "data": {
      "text/html": [
       "<div>\n",
       "<style scoped>\n",
       "    .dataframe tbody tr th:only-of-type {\n",
       "        vertical-align: middle;\n",
       "    }\n",
       "\n",
       "    .dataframe tbody tr th {\n",
       "        vertical-align: top;\n",
       "    }\n",
       "\n",
       "    .dataframe thead th {\n",
       "        text-align: right;\n",
       "    }\n",
       "</style>\n",
       "<table border=\"1\" class=\"dataframe\">\n",
       "  <thead>\n",
       "    <tr style=\"text-align: right;\">\n",
       "      <th></th>\n",
       "      <th>title_text</th>\n",
       "      <th>type</th>\n",
       "      <th>label</th>\n",
       "    </tr>\n",
       "  </thead>\n",
       "  <tbody>\n",
       "    <tr>\n",
       "      <th>0</th>\n",
       "      <td>ABC News – Breaking News, Latest News, Headlin...</td>\n",
       "      <td>train</td>\n",
       "      <td>Real</td>\n",
       "    </tr>\n",
       "    <tr>\n",
       "      <th>1</th>\n",
       "      <td>Is it the Beginning of the End for Hillary Cli...</td>\n",
       "      <td>train</td>\n",
       "      <td>Fake</td>\n",
       "    </tr>\n",
       "    <tr>\n",
       "      <th>2</th>\n",
       "      <td>The Black Sphere with Kevin Jackson: Chicago E...</td>\n",
       "      <td>train</td>\n",
       "      <td>Fake</td>\n",
       "    </tr>\n",
       "    <tr>\n",
       "      <th>3</th>\n",
       "      <td>Trump Supreme Court Pick Sued By Feds For Raci...</td>\n",
       "      <td>train</td>\n",
       "      <td>Fake</td>\n",
       "    </tr>\n",
       "    <tr>\n",
       "      <th>4</th>\n",
       "      <td>Charlotte Police REVEAL What They Said To Blac...</td>\n",
       "      <td>train</td>\n",
       "      <td>Real</td>\n",
       "    </tr>\n",
       "    <tr>\n",
       "      <th>...</th>\n",
       "      <td>...</td>\n",
       "      <td>...</td>\n",
       "      <td>...</td>\n",
       "    </tr>\n",
       "    <tr>\n",
       "      <th>177</th>\n",
       "      <td>Conway: Trump will explain his Islamic State p...</td>\n",
       "      <td>test</td>\n",
       "      <td>Real</td>\n",
       "    </tr>\n",
       "    <tr>\n",
       "      <th>178</th>\n",
       "      <td>Angela Merkel Admits Bringing In Muslim Refuge...</td>\n",
       "      <td>test</td>\n",
       "      <td>Fake</td>\n",
       "    </tr>\n",
       "    <tr>\n",
       "      <th>179</th>\n",
       "      <td>Donald Trump Jr. Just Pinned A Tweet So Stupid...</td>\n",
       "      <td>test</td>\n",
       "      <td>Real</td>\n",
       "    </tr>\n",
       "    <tr>\n",
       "      <th>180</th>\n",
       "      <td>Donna Brazile slams Trump for not apologizing ...</td>\n",
       "      <td>test</td>\n",
       "      <td>Real</td>\n",
       "    </tr>\n",
       "    <tr>\n",
       "      <th>181</th>\n",
       "      <td>Is Donald Trump qualified to be president?: Of...</td>\n",
       "      <td>test</td>\n",
       "      <td>Real</td>\n",
       "    </tr>\n",
       "  </tbody>\n",
       "</table>\n",
       "<p>182 rows × 3 columns</p>\n",
       "</div>"
      ],
      "text/plain": [
       "                                            title_text   type label\n",
       "0    ABC News – Breaking News, Latest News, Headlin...  train  Real\n",
       "1    Is it the Beginning of the End for Hillary Cli...  train  Fake\n",
       "2    The Black Sphere with Kevin Jackson: Chicago E...  train  Fake\n",
       "3    Trump Supreme Court Pick Sued By Feds For Raci...  train  Fake\n",
       "4    Charlotte Police REVEAL What They Said To Blac...  train  Real\n",
       "..                                                 ...    ...   ...\n",
       "177  Conway: Trump will explain his Islamic State p...   test  Real\n",
       "178  Angela Merkel Admits Bringing In Muslim Refuge...   test  Fake\n",
       "179  Donald Trump Jr. Just Pinned A Tweet So Stupid...   test  Real\n",
       "180  Donna Brazile slams Trump for not apologizing ...   test  Real\n",
       "181  Is Donald Trump qualified to be president?: Of...   test  Real\n",
       "\n",
       "[182 rows x 3 columns]"
      ]
     },
     "execution_count": 171,
     "metadata": {},
     "output_type": "execute_result"
    }
   ],
   "source": [
    "X_t['type'] = \"train\"\n",
    "X_t['label'] = y_t\n",
    "X_ts['type'] = \"test\"\n",
    "X_ts['label'] = y_ts\n",
    "\n",
    "Xf = X_t.append(X_ts, ignore_index=True)\n",
    "# yf = y_t.append(y_ts, ignore_index=True)\n",
    "Xf = Xf[Xf['title_text'].apply(lambda x: len(x) > 20)]\n",
    "Xf"
   ]
  },
  {
   "cell_type": "code",
   "execution_count": 172,
   "metadata": {},
   "outputs": [],
   "source": [
    "Xf.to_csv(\"buzzfeed.csv\", index=None)\n",
    "del Xf"
   ]
  },
  {
   "cell_type": "code",
   "execution_count": null,
   "metadata": {},
   "outputs": [],
   "source": []
  }
 ],
 "metadata": {
  "kernelspec": {
   "display_name": "Python 3",
   "language": "python",
   "name": "python3"
  },
  "language_info": {
   "codemirror_mode": {
    "name": "ipython",
    "version": 3
   },
   "file_extension": ".py",
   "mimetype": "text/x-python",
   "name": "python",
   "nbconvert_exporter": "python",
   "pygments_lexer": "ipython3",
   "version": "3.6.9"
  }
 },
 "nbformat": 4,
 "nbformat_minor": 4
}
