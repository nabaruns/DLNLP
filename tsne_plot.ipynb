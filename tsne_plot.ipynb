{
 "cells": [
  {
   "cell_type": "code",
   "execution_count": 1,
   "metadata": {},
   "outputs": [
    {
     "name": "stdout",
     "output_type": "stream",
     "text": [
      "/4tb/nabarun/nlp/text_gcn_m\n"
     ]
    }
   ],
   "source": [
    "%cd ../text_gcn_m"
   ]
  },
  {
   "cell_type": "code",
   "execution_count": 5,
   "metadata": {},
   "outputs": [],
   "source": [
    "%matplotlib inline"
   ]
  },
  {
   "cell_type": "code",
   "execution_count": 6,
   "metadata": {},
   "outputs": [
    {
     "name": "stdout",
     "output_type": "stream",
     "text": [
      "Figure(640x480)\r\n"
     ]
    }
   ],
   "source": [
    "!../gcn_text_categorization/venv/bin/python3 visualize.py R8"
   ]
  },
  {
   "cell_type": "code",
   "execution_count": 7,
   "metadata": {},
   "outputs": [
    {
     "name": "stdout",
     "output_type": "stream",
     "text": [
      "Figure(640x480)\r\n"
     ]
    }
   ],
   "source": [
    "!../gcn_text_categorization/venv/bin/python3 visualize.py R52"
   ]
  },
  {
   "cell_type": "code",
   "execution_count": 8,
   "metadata": {},
   "outputs": [
    {
     "name": "stdout",
     "output_type": "stream",
     "text": [
      "Figure(640x480)\r\n"
     ]
    }
   ],
   "source": [
    "!../gcn_text_categorization/venv/bin/python3 visualize.py mr"
   ]
  },
  {
   "cell_type": "code",
   "execution_count": 9,
   "metadata": {},
   "outputs": [
    {
     "name": "stdout",
     "output_type": "stream",
     "text": [
      "Figure(640x480)\r\n"
     ]
    }
   ],
   "source": [
    "!../gcn_text_categorization/venv/bin/python3 visualize.py ohsumed"
   ]
  },
  {
   "cell_type": "code",
   "execution_count": 10,
   "metadata": {},
   "outputs": [
    {
     "name": "stdout",
     "output_type": "stream",
     "text": [
      "Figure(640x480)\r\n"
     ]
    }
   ],
   "source": [
    "!../gcn_text_categorization/venv/bin/python3 visualize.py cora"
   ]
  },
  {
   "cell_type": "code",
   "execution_count": 11,
   "metadata": {},
   "outputs": [
    {
     "name": "stdout",
     "output_type": "stream",
     "text": [
      "Figure(640x480)\r\n"
     ]
    }
   ],
   "source": [
    "!../gcn_text_categorization/venv/bin/python3 visualize.py pubmed"
   ]
  },
  {
   "cell_type": "code",
   "execution_count": 12,
   "metadata": {},
   "outputs": [
    {
     "name": "stdout",
     "output_type": "stream",
     "text": [
      "Figure(640x480)\r\n"
     ]
    }
   ],
   "source": [
    "!../gcn_text_categorization/venv/bin/python3 visualize.py citeseer"
   ]
  },
  {
   "cell_type": "code",
   "execution_count": 13,
   "metadata": {},
   "outputs": [
    {
     "name": "stdout",
     "output_type": "stream",
     "text": [
      "Figure(640x480)\r\n"
     ]
    }
   ],
   "source": [
    "!../gcn_text_categorization/venv/bin/python3 visualize.py 20ng"
   ]
  },
  {
   "cell_type": "code",
   "execution_count": 14,
   "metadata": {},
   "outputs": [
    {
     "name": "stdout",
     "output_type": "stream",
     "text": [
      "Figure(640x480)\r\n"
     ]
    }
   ],
   "source": [
    "!../gcn_text_categorization/venv/bin/python3 visualize.py fakenews"
   ]
  },
  {
   "cell_type": "code",
   "execution_count": 15,
   "metadata": {},
   "outputs": [
    {
     "name": "stdout",
     "output_type": "stream",
     "text": [
      "Figure(640x480)\r\n"
     ]
    }
   ],
   "source": [
    "!../gcn_text_categorization/venv/bin/python3 visualize.py buzzfeed"
   ]
  },
  {
   "cell_type": "code",
   "execution_count": 16,
   "metadata": {},
   "outputs": [
    {
     "name": "stdout",
     "output_type": "stream",
     "text": [
      "Figure(640x480)\r\n"
     ]
    }
   ],
   "source": [
    "!../gcn_text_categorization/venv/bin/python3 visualize.py politifact"
   ]
  },
  {
   "cell_type": "code",
   "execution_count": null,
   "metadata": {},
   "outputs": [],
   "source": []
  }
 ],
 "metadata": {
  "kernelspec": {
   "display_name": "Python 3",
   "language": "python",
   "name": "python3"
  },
  "language_info": {
   "codemirror_mode": {
    "name": "ipython",
    "version": 3
   },
   "file_extension": ".py",
   "mimetype": "text/x-python",
   "name": "python",
   "nbconvert_exporter": "python",
   "pygments_lexer": "ipython3",
   "version": "3.6.9"
  }
 },
 "nbformat": 4,
 "nbformat_minor": 4
}
